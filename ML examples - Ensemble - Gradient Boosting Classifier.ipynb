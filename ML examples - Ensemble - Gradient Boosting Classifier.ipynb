{
 "cells": [
  {
   "cell_type": "markdown",
   "metadata": {},
   "source": [
    "## Gradient Boosting Classifier "
   ]
  },
  {
   "cell_type": "markdown",
   "metadata": {},
   "source": [
    "#### TL;DR"
   ]
  },
  {
   "cell_type": "code",
   "execution_count": 4,
   "metadata": {},
   "outputs": [],
   "source": [
    "from sklearn.ensemble import GradientBoostingClassifier # Algorithm"
   ]
  },
  {
   "cell_type": "code",
   "execution_count": 9,
   "metadata": {},
   "outputs": [
    {
     "data": {
      "text/plain": [
       "GradientBoostingClassifier(criterion='friedman_mse', init=None,\n",
       "              learning_rate=0.1, loss='deviance', max_depth=3,\n",
       "              max_features=None, max_leaf_nodes=None,\n",
       "              min_impurity_decrease=0.0, min_impurity_split=None,\n",
       "              min_samples_leaf=1, min_samples_split=2,\n",
       "              min_weight_fraction_leaf=0.0, n_estimators=100,\n",
       "              n_iter_no_change=None, presort='auto', random_state=None,\n",
       "              subsample=1.0, tol=0.0001, validation_fraction=0.1,\n",
       "              verbose=0, warm_start=False)"
      ]
     },
     "execution_count": 9,
     "metadata": {},
     "output_type": "execute_result"
    }
   ],
   "source": [
    "ALG = GradientBoostingClassifier(loss='deviance', \n",
    "                                 learning_rate=0.1, \n",
    "                                 n_estimators=100, \n",
    "                                 subsample=1.0, \n",
    "                                 criterion='friedman_mse', \n",
    "                                 min_samples_split=2, \n",
    "                                 min_samples_leaf=1, \n",
    "                                 min_weight_fraction_leaf=0.0, \n",
    "                                 max_depth=3, \n",
    "                                 min_impurity_decrease=0.0, \n",
    "                                 min_impurity_split=None, \n",
    "                                 init=None, \n",
    "                                 random_state=None, \n",
    "                                 max_features=None, \n",
    "                                 verbose=0, \n",
    "                                 max_leaf_nodes=None, \n",
    "                                 warm_start=False, \n",
    "                                 presort='auto', \n",
    "                                 validation_fraction=0.1, \n",
    "                                 n_iter_no_change=None, \n",
    "                                 tol=0.0001)\n",
    "ALG"
   ]
  },
  {
   "cell_type": "markdown",
   "metadata": {},
   "source": [
    "### 1. Example with code"
   ]
  },
  {
   "cell_type": "code",
   "execution_count": 6,
   "metadata": {},
   "outputs": [],
   "source": [
    "import os # Files\n",
    "import pandas as pd # Tables\n",
    "import matplotlib.pyplot as plt # Plots\n",
    "from sklearn.model_selection import train_test_split # ML\n",
    "\n",
    "# Load cleaned and preprocessed CSV file as a dataframe.\n",
    "fp = os.path.join('', 'tweets_sentiment.csv')    # File path\n",
    "df = pd.read_csv(fp, sep='\\t', encoding='utf-8') # Load as dataframe"
   ]
  },
  {
   "cell_type": "markdown",
   "metadata": {},
   "source": [
    "<b>Example problem</b>: Predict tweet sentiment basing on it's  nr of hashtags, retweet and like counts. \n",
    "\n",
    "<b>Example data</b>: consists of 3800 tweets obtained by twitter search API on phrases like psychology + AI (and simillar) saved and cleaned previously as a tweets_sentiment.csv file. Features:"
   ]
  },
  {
   "cell_type": "code",
   "execution_count": 7,
   "metadata": {},
   "outputs": [
    {
     "data": {
      "text/html": [
       "<div>\n",
       "<style scoped>\n",
       "    .dataframe tbody tr th:only-of-type {\n",
       "        vertical-align: middle;\n",
       "    }\n",
       "\n",
       "    .dataframe tbody tr th {\n",
       "        vertical-align: top;\n",
       "    }\n",
       "\n",
       "    .dataframe thead th {\n",
       "        text-align: right;\n",
       "    }\n",
       "</style>\n",
       "<table border=\"1\" class=\"dataframe\">\n",
       "  <thead>\n",
       "    <tr style=\"text-align: right;\">\n",
       "      <th></th>\n",
       "      <th>tweet</th>\n",
       "      <th>hashtags</th>\n",
       "      <th>hashtags_number</th>\n",
       "      <th>likes</th>\n",
       "      <th>retweets</th>\n",
       "      <th>sentiment</th>\n",
       "      <th>sentiment_class</th>\n",
       "    </tr>\n",
       "  </thead>\n",
       "  <tbody>\n",
       "    <tr>\n",
       "      <th>0</th>\n",
       "      <td>vanguardsw rt chboursin ai achieve human like ...</td>\n",
       "      <td>human-like skills</td>\n",
       "      <td>2</td>\n",
       "      <td>0</td>\n",
       "      <td>7</td>\n",
       "      <td>0.2200</td>\n",
       "      <td>Positive</td>\n",
       "    </tr>\n",
       "    <tr>\n",
       "      <th>1</th>\n",
       "      <td>windy interview really groundbreaking can t wr...</td>\n",
       "      <td>interview groundbreaking. head DeepState reali...</td>\n",
       "      <td>6</td>\n",
       "      <td>0</td>\n",
       "      <td>3</td>\n",
       "      <td>0.2000</td>\n",
       "      <td>Positive</td>\n",
       "    </tr>\n",
       "    <tr>\n",
       "      <th>2</th>\n",
       "      <td>ai s top researchers think artificial general ...</td>\n",
       "      <td>ai’s ai artificialintelligence agi human</td>\n",
       "      <td>5</td>\n",
       "      <td>1</td>\n",
       "      <td>0</td>\n",
       "      <td>-0.0125</td>\n",
       "      <td>Negative</td>\n",
       "    </tr>\n",
       "  </tbody>\n",
       "</table>\n",
       "</div>"
      ],
      "text/plain": [
       "                                               tweet  \\\n",
       "0  vanguardsw rt chboursin ai achieve human like ...   \n",
       "1  windy interview really groundbreaking can t wr...   \n",
       "2  ai s top researchers think artificial general ...   \n",
       "\n",
       "                                            hashtags  hashtags_number  likes  \\\n",
       "0                                  human-like skills                2      0   \n",
       "1  interview groundbreaking. head DeepState reali...                6      0   \n",
       "2           ai’s ai artificialintelligence agi human                5      1   \n",
       "\n",
       "   retweets  sentiment sentiment_class  \n",
       "0         7     0.2200        Positive  \n",
       "1         3     0.2000        Positive  \n",
       "2         0    -0.0125        Negative  "
      ]
     },
     "execution_count": 7,
     "metadata": {},
     "output_type": "execute_result"
    }
   ],
   "source": [
    "df.head(3)"
   ]
  },
  {
   "cell_type": "markdown",
   "metadata": {},
   "source": [
    "- <b>tweet</b>           - tweet text.\n",
    "- <b>hashtags</b>        - #hashtags in a tweet.\n",
    "- <b>hashtags_number</b> - number of hashtags.\n",
    "- <b>likes</b>           - number of tweet likes \n",
    "- <b>retweets</b>        - number of times tweet have been shared.\n",
    "- <b>sentiment</b>       - score in range: -1.0 to 1.0 .\n",
    "- <b>sentiment_class</b> - score simplified to: Positive ( > 0) and Negative ( < 0)."
   ]
  },
  {
   "cell_type": "markdown",
   "metadata": {},
   "source": [
    "<b>Example code:</b>"
   ]
  },
  {
   "cell_type": "code",
   "execution_count": 10,
   "metadata": {},
   "outputs": [
    {
     "name": "stdout",
     "output_type": "stream",
     "text": [
      "Accuracy - train: 0.72\n",
      "Accuracy - test:  0.7\n",
      "First three predictions (of 950): ['Positive' 'Positive' 'Positive'] ...\n",
      "First three propabilities (of 950): [[0.30200392 0.69799608]\n",
      " [0.29922156 0.70077844]\n",
      " [0.15692453 0.84307547]] ...\n"
     ]
    },
    {
     "data": {
      "image/png": "[encoded data removed]",
      "text/plain": [
       "<Figure size 432x288 with 1 Axes>"
      ]
     },
     "metadata": {
      "needs_background": "light"
     },
     "output_type": "display_data"
    }
   ],
   "source": [
    "# Gradient Boosting Classifier\n",
    "\n",
    "# Divide data into features(X) and labels(y).\n",
    "y =  df.loc[ :, 'sentiment_class'] # column of labels to predict\n",
    "X =  df.loc[ :, ['retweets', 'likes', 'hashtags_number']] # columns of features used to predict label\n",
    "\n",
    "# Split both features(X) and labels(y) into training and testing datasets.\n",
    "X_train, X_test, y_train, y_test = train_test_split(X, y, random_state=0)\n",
    "\n",
    "# Load and define Gradient Boosting Classifier.\n",
    "GBC = GradientBoostingClassifier(loss='deviance', \n",
    "                                 learning_rate=0.1, \n",
    "                                 n_estimators=100, \n",
    "                                 subsample=1.0, \n",
    "                                 criterion='friedman_mse', \n",
    "                                 min_samples_split=2, \n",
    "                                 min_samples_leaf=1, \n",
    "                                 min_weight_fraction_leaf=0.0, \n",
    "                                 max_depth=3, \n",
    "                                 min_impurity_decrease=0.0, \n",
    "                                 min_impurity_split=None, \n",
    "                                 init=None, \n",
    "                                 random_state=None, \n",
    "                                 max_features=None, \n",
    "                                 verbose=0, \n",
    "                                 max_leaf_nodes=None, \n",
    "                                 warm_start=False, \n",
    "                                 presort='auto', \n",
    "                                 validation_fraction=0.1, \n",
    "                                 n_iter_no_change=None, \n",
    "                                 tol=0.0001)\n",
    "\n",
    "# Fit data into model.\n",
    "GBC.fit(X_train, y_train)\n",
    "\n",
    "# Results.\n",
    "accuracy_train = round(GBC.score(X_train, y_train), 2)\n",
    "accuracy_test  = round(GBC.score(X_test,  y_test), 2)\n",
    "predictions = GBC.predict(X_test) # an array.\n",
    "probabilities = GBC.predict_proba(X_test) # an array.\n",
    "\n",
    "# Display results.\n",
    "print('Accuracy - train: {}\\nAccuracy - test:  {}\\nFirst three predictions (of {}): {} ...\\nFirst three propabilities (of {}): {} ...'.format(accuracy_train, accuracy_test, len(predictions), predictions[:3], len(probabilities), probabilities[:3]))\n",
    "plt.scatter(y_test, predictions)\n",
    "plt.show()"
   ]
  },
  {
   "cell_type": "markdown",
   "metadata": {},
   "source": [
    "### 2. Key info\n",
    "\n",
    "- [ADD MORE],\n",
    "- (To be updated.)"
   ]
  },
  {
   "cell_type": "markdown",
   "metadata": {},
   "source": [
    "### 3. Template"
   ]
  },
  {
   "cell_type": "code",
   "execution_count": null,
   "metadata": {},
   "outputs": [],
   "source": [
    "import os # Get file\n",
    "import pandas as pd # Read as pandas table; dataframe (df).\n",
    "from sklearn.model_selection import train_test_split # Train/Test set divide.\n",
    "from sklearn.ensemble import RandomForestClassifier # Algorithm\n",
    "import matplotlib.pyplot as plt # Plots\n",
    "\n",
    "# You fill three lines below.\n",
    "# ---------------------------\n",
    "file_name   = 'your file_name.csv' # csv file in same dir  as this notebook.\n",
    "predit_what = 'column_name' # The label to predict.\n",
    "based_on    = ['column_name', 'column_name'] # The features to use in this quest.\n",
    "\n",
    "# You may wany to change full file path / use existing dataframe. \n",
    "fp = os.path.join('', file_name) # fp = 'home/data/file_path.csv'\n",
    "df = pd.read_csv(fp, sep='\\t', encoding='utf-8') # df = my_df \n",
    "\n",
    "\n",
    "# Gradient Boosting Classifier\n",
    "\n",
    "# Divide data into features(X) and labels(y).\n",
    "X =  df.loc[ :, based_on]    # features\n",
    "y =  df.loc[ :, predit_what] # label\n",
    "\n",
    "# Split both features(X) and labels(y) into training and testing datasets.\n",
    "X_train, X_test, y_train, y_test = train_test_split(X, y, random_state=0)\n",
    "\n",
    "# Load and define Gradient Boosting Classifier.\n",
    "GBC = GradientBoostingClassifier(loss='deviance', \n",
    "                                 learning_rate=0.1, \n",
    "                                 n_estimators=100, \n",
    "                                 subsample=1.0, \n",
    "                                 criterion='friedman_mse', \n",
    "                                 min_samples_split=2, \n",
    "                                 min_samples_leaf=1, \n",
    "                                 min_weight_fraction_leaf=0.0, \n",
    "                                 max_depth=3, \n",
    "                                 min_impurity_decrease=0.0, \n",
    "                                 min_impurity_split=None, \n",
    "                                 init=None, \n",
    "                                 random_state=None, \n",
    "                                 max_features=None, \n",
    "                                 verbose=0, \n",
    "                                 max_leaf_nodes=None, \n",
    "                                 warm_start=False, \n",
    "                                 presort='auto', \n",
    "                                 validation_fraction=0.1, \n",
    "                                 n_iter_no_change=None, \n",
    "                                 tol=0.0001)\n",
    "# Fit data into model.\n",
    "GBC.fit(X_train, y_train, sample_weight=None)\n",
    "\n",
    "# Results.\n",
    "accuracy_train = round(GBC.score(X_train, y_train), 2)\n",
    "accuracy_test  = round(GBC.score(X_test,  y_test), 2)\n",
    "predictions = GBC.predict(X_test) # an array.\n",
    "probabilities = GBC.predict_proba(X_test) # an array.\n",
    "\n",
    "# Display results.\n",
    "print('Accuracy - train: {}\\nAccuracy - test:  {}\\nFirst three predictions (of {}): {} ...\\nFirst three propabilities (of {}): {} ...'.format(accuracy_train, accuracy_test, len(predictions), predictions[:3], len(probabilities), probabilities[:3]))\n",
    "plt.scatter(y_test, predictions)\n",
    "plt.show()"
   ]
  },
  {
   "cell_type": "markdown",
   "metadata": {},
   "source": [
    "#### Concise"
   ]
  },
  {
   "cell_type": "code",
   "execution_count": null,
   "metadata": {},
   "outputs": [],
   "source": [
    "import os\n",
    "import pandas as pd\n",
    "from sklearn.model_selection import train_test_split\n",
    "from sklearn.ensemble import RandomForestClassifier # Algorithm\n",
    "import matplotlib.pyplot as plt\n",
    "\n",
    "fp = os.path.join('', 'your file_name.csv')\n",
    "df = pd.read_csv(fp, sep='\\t', encoding='utf-8')\n",
    "\n",
    "X =  df.loc[ :, ['feature_column_name', 'feature_column_name']]\n",
    "y =  df.loc[ :, 'label_column_name']\n",
    "X_train, X_test, y_train, y_test = train_test_split(X, y)\n",
    "\n",
    "GBC = GradientBoostingClassifier(loss='deviance', \n",
    "                                 learning_rate=0.1, \n",
    "                                 n_estimators=100, \n",
    "                                 subsample=1.0, \n",
    "                                 criterion='friedman_mse', \n",
    "                                 min_samples_split=2, \n",
    "                                 min_samples_leaf=1, \n",
    "                                 min_weight_fraction_leaf=0.0, \n",
    "                                 max_depth=3, \n",
    "                                 min_impurity_decrease=0.0, \n",
    "                                 min_impurity_split=None, \n",
    "                                 init=None, \n",
    "                                 random_state=None, \n",
    "                                 max_features=None, \n",
    "                                 verbose=0, \n",
    "                                 max_leaf_nodes=None, \n",
    "                                 warm_start=False, \n",
    "                                 presort='uto', \n",
    "                                 validation_fraction=0.1, \n",
    "                                 n_iter_no_change=None, \n",
    "                                 tol=0.0001).fit(X_train, y_train)\n",
    "\n",
    "accuracy_train = round(GBC.score(X_train, y_train), 2)\n",
    "accuracy_test  = round(GBC.score(X_test,  y_test), 2)\n",
    "predictions = GBC.predict(X_test)\n",
    "probabilities = GBC.predict_proba(X_test)\n",
    "\n",
    "print('Accuracy - train: {}\\nAccuracy - test:  {}\\nFirst three predictions (of {}): {} ...\\nFirst three propabilities (of {}): {} ...'.format(accuracy_train, accuracy_test, len(predictions), predictions[:3], len(probabilities), probabilities[:3]))\n",
    "plt.scatter(y_test, predictions)\n",
    "plt.show()"
   ]
  },
  {
   "cell_type": "markdown",
   "metadata": {},
   "source": [
    "### 4. More\n",
    "\n",
    "To be updated."
   ]
  },
  {
   "cell_type": "markdown",
   "metadata": {},
   "source": [
    " "
   ]
  },
  {
   "cell_type": "markdown",
   "metadata": {},
   "source": [
    "By Luke, 13 II 2019."
   ]
  }
 ],
 "metadata": {
  "kernelspec": {
   "display_name": "Python 3",
   "language": "python",
   "name": "python3"
  },
  "language_info": {
   "codemirror_mode": {
    "name": "ipython",
    "version": 3
   },
   "file_extension": ".py",
   "mimetype": "text/x-python",
   "name": "python",
   "nbconvert_exporter": "python",
   "pygments_lexer": "ipython3",
   "version": "3.6.8"
  }
 },
 "nbformat": 4,
 "nbformat_minor": 2
}
