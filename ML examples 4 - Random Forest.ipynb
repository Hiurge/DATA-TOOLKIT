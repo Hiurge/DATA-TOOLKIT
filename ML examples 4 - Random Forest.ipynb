{
 "cells": [
  {
   "cell_type": "code",
   "execution_count": 14,
   "metadata": {},
   "outputs": [
    {
     "name": "stdout",
     "output_type": "stream",
     "text": [
      "Shape: (3800, 7)\n"
     ]
    },
    {
     "data": {
      "text/html": [
       "<div>\n",
       "<style scoped>\n",
       "    .dataframe tbody tr th:only-of-type {\n",
       "        vertical-align: middle;\n",
       "    }\n",
       "\n",
       "    .dataframe tbody tr th {\n",
       "        vertical-align: top;\n",
       "    }\n",
       "\n",
       "    .dataframe thead th {\n",
       "        text-align: right;\n",
       "    }\n",
       "</style>\n",
       "<table border=\"1\" class=\"dataframe\">\n",
       "  <thead>\n",
       "    <tr style=\"text-align: right;\">\n",
       "      <th></th>\n",
       "      <th>text</th>\n",
       "      <th>hashtags</th>\n",
       "      <th>retweet_count</th>\n",
       "      <th>favorite_count</th>\n",
       "      <th>sentiment</th>\n",
       "      <th>h_l</th>\n",
       "      <th>sent_class</th>\n",
       "    </tr>\n",
       "  </thead>\n",
       "  <tbody>\n",
       "    <tr>\n",
       "      <th>0</th>\n",
       "      <td>vanguardsw rt chboursin ai achieve human like ...</td>\n",
       "      <td>human-like skills</td>\n",
       "      <td>7.0</td>\n",
       "      <td>0.0</td>\n",
       "      <td>0.22</td>\n",
       "      <td>2</td>\n",
       "      <td>1</td>\n",
       "    </tr>\n",
       "  </tbody>\n",
       "</table>\n",
       "</div>"
      ],
      "text/plain": [
       "                                                text           hashtags  \\\n",
       "0  vanguardsw rt chboursin ai achieve human like ...  human-like skills   \n",
       "\n",
       "   retweet_count  favorite_count  sentiment  h_l  sent_class  \n",
       "0            7.0             0.0       0.22    2           1  "
      ]
     },
     "execution_count": 14,
     "metadata": {},
     "output_type": "execute_result"
    }
   ],
   "source": [
    "import pandas as pd\n",
    "import numpy as np\n",
    "import matplotlib.pyplot as plt\n",
    "import seaborn as sns\n",
    "\n",
    "from sklearn.model_selection import train_test_split\n",
    "from sklearn.ensemble import RandomForestClassifier\n",
    "\n",
    "\n",
    "\n",
    "# Example data + remake (will do cleaning later, i know)\n",
    "df = pd.read_csv('example_twitter_data_6k.csv', sep='\\t', encoding='utf-8')\n",
    "\n",
    "def set_sent_class(sent):\n",
    "    limit = 0.00\n",
    "    if sent > limit:\n",
    "        return 1 #'Positive'\n",
    "    elif sent < (limit*-1):\n",
    "        return -1 #'Negative'\n",
    "    else:\n",
    "        return 0 # 'Neutral'\n",
    "\n",
    "df = pd.read_csv('example_twitter_data_6k.csv', sep='\\t', encoding='utf-8')\n",
    "df = df[(df.sentiment != 0)].copy(deep=True).reset_index(drop=True)\n",
    "df['h_l'] = df.hashtags.apply(lambda x: len(str(x).split()))\n",
    "df['sent_class'] = df.sentiment.apply(set_sent_class)\n",
    "\n",
    "print('Shape:', df.shape)\n",
    "df.head(1)"
   ]
  },
  {
   "cell_type": "code",
   "execution_count": 15,
   "metadata": {},
   "outputs": [
    {
     "name": "stdout",
     "output_type": "stream",
     "text": [
      "Accuracy on training set: 0.76\n",
      "Accuracy on test set: 0.67\n"
     ]
    }
   ],
   "source": [
    "# Get right data from data frame\n",
    "X = df.loc[:,['retweet_count', 'favorite_count', 'h_l']]\n",
    "y = df.sent_class\n",
    "\n",
    "# Split data\n",
    "X_train, X_test, y_train, y_test = train_test_split(X, y, random_state = 0)\n",
    "\n",
    "# Load and fit data to Random Forest\n",
    "clf = RandomForestClassifier(max_features = 3, random_state = 0).fit(X_train, y_train)\n",
    "\n",
    "# Accuracy metric results\n",
    "print('Accuracy on training set: {:.2f}'.format(clf.score(X_train, y_train)))\n",
    "print('Accuracy on test set: {:.2f}'.format(clf.score(X_test, y_test)))"
   ]
  }
 ],
 "metadata": {
  "kernelspec": {
   "display_name": "Python 3",
   "language": "python",
   "name": "python3"
  },
  "language_info": {
   "codemirror_mode": {
    "name": "ipython",
    "version": 3
   },
   "file_extension": ".py",
   "mimetype": "text/x-python",
   "name": "python",
   "nbconvert_exporter": "python",
   "pygments_lexer": "ipython3",
   "version": "3.7.0"
  }
 },
 "nbformat": 4,
 "nbformat_minor": 2
}
