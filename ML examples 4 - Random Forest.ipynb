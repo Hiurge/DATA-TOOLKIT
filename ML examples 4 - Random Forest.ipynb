{
 "cells": [
  {
   "cell_type": "markdown",
   "metadata": {},
   "source": [
    "## Random Forest"
   ]
  },
  {
   "cell_type": "markdown",
   "metadata": {},
   "source": [
    "#### Contents:\n",
    "1. Random Fores algorithm description\n",
    "2. Brief description of usage example problem and data\n",
    "3. <b>Usage example</b> (concise)\n",
    "4. Usage example (explaned)\n",
    "5. <b>Template</b> (explained)\n",
    "6. Template (concise)\n",
    "7. More\n",
    "\n",
    "#### Libraries used:"
   ]
  },
  {
   "cell_type": "code",
   "execution_count": 3,
   "metadata": {},
   "outputs": [],
   "source": [
    "import os\n",
    "import pandas as pd # Data tables\n",
    "import numpy as np  # Numerical coputations\n",
    "import matplotlib.pyplot as plt # Plots\n",
    "import seaborn as sns           # Plots but nicer\n",
    "from sklearn.model_selection import train_test_split # SK learn - machine Learning library\n",
    "from sklearn.ensemble import RandomForestClassifier  # Random forest angorith"
   ]
  },
  {
   "cell_type": "markdown",
   "metadata": {},
   "source": [
    "\n",
    "\n",
    "### Random Forest"
   ]
  },
  {
   "cell_type": "markdown",
   "metadata": {},
   "source": [
    "#### 1. Algorithm description\n",
    "----\n",
    "\n",
    "Random forests (or random decision forests) is Machine learning algorithm that:\n",
    "- Used for classification(mode of classes), regression(mean prediction),\n",
    "- Ensemble method,\n",
    "- Corrects decision trees algorithm on overfitting,\n",
    "- (To be updated.)"
   ]
  },
  {
   "cell_type": "markdown",
   "metadata": {},
   "source": [
    "#### 2. Brief description of usage example problem and data\n",
    "-------\n",
    "\n",
    "\n",
    "#### Example problem\n",
    "\n",
    "Predict tweet sentiment (according to TextBlob model) basing on it's  nr of hashtags, retweet and like counts.\n",
    "\n",
    "\n",
    "#### Eample data\n",
    "\n",
    "3800 tweets data of phrases containing psychology + AI phrases (and simillar) from a tweets_sentiment.csv file.\n",
    "\n",
    "Features:\n",
    "- <b>tweet</b>           - tweet text.\n",
    "- <b>hashtags</b>        - #hashtags in a tweet.\n",
    "- <b>hashtags_number</b> - number of hashtags.\n",
    "- <b>likes</b>           - number of tweet likes \n",
    "- <b>retweets</b>        - number of times tweet have been shared.\n",
    "- <b>sentiment</b>       - score in range: -1.0 to 1.0 .\n",
    "- <b>sentiment_class</b> - score simplified to: Positive ( > 0) and Negative ( < 0).\n",
    "\n",
    "Source: scrapping twitter search API."
   ]
  },
  {
   "cell_type": "code",
   "execution_count": 57,
   "metadata": {},
   "outputs": [
    {
     "name": "stdout",
     "output_type": "stream",
     "text": [
      "Samples (rows):       3800\n",
      "Features (columns):      7\n",
      "\n",
      "3 example samples (of 3800) starting from 127-th:\n"
     ]
    },
    {
     "data": {
      "text/html": [
       "<div>\n",
       "<style scoped>\n",
       "    .dataframe tbody tr th:only-of-type {\n",
       "        vertical-align: middle;\n",
       "    }\n",
       "\n",
       "    .dataframe tbody tr th {\n",
       "        vertical-align: top;\n",
       "    }\n",
       "\n",
       "    .dataframe thead th {\n",
       "        text-align: right;\n",
       "    }\n",
       "</style>\n",
       "<table border=\"1\" class=\"dataframe\">\n",
       "  <thead>\n",
       "    <tr style=\"text-align: right;\">\n",
       "      <th></th>\n",
       "      <th>tweet</th>\n",
       "      <th>hashtags</th>\n",
       "      <th>hashtags_number</th>\n",
       "      <th>likes</th>\n",
       "      <th>retweets</th>\n",
       "      <th>sentiment</th>\n",
       "      <th>sentiment_class</th>\n",
       "    </tr>\n",
       "  </thead>\n",
       "  <tbody>\n",
       "    <tr>\n",
       "      <th>127</th>\n",
       "      <td>machine ml rt richsimmondsza rt evankirstel wa...</td>\n",
       "      <td>AI human</td>\n",
       "      <td>2</td>\n",
       "      <td>0</td>\n",
       "      <td>6</td>\n",
       "      <td>-0.150000</td>\n",
       "      <td>Negative</td>\n",
       "    </tr>\n",
       "    <tr>\n",
       "      <th>128</th>\n",
       "      <td>human vs ai new job base the ability compassio...</td>\n",
       "      <td>Human AI- jobs compassionate, empathetic, emot...</td>\n",
       "      <td>16</td>\n",
       "      <td>0</td>\n",
       "      <td>3</td>\n",
       "      <td>-0.165909</td>\n",
       "      <td>Negative</td>\n",
       "    </tr>\n",
       "    <tr>\n",
       "      <th>129</th>\n",
       "      <td>cenotechs impressive ipfconline thank share we...</td>\n",
       "      <td>ArtificialIntelligence AI MachineLearning ML …</td>\n",
       "      <td>5</td>\n",
       "      <td>0</td>\n",
       "      <td>2</td>\n",
       "      <td>1.000000</td>\n",
       "      <td>Positive</td>\n",
       "    </tr>\n",
       "  </tbody>\n",
       "</table>\n",
       "</div>"
      ],
      "text/plain": [
       "                                                 tweet  \\\n",
       "127  machine ml rt richsimmondsza rt evankirstel wa...   \n",
       "128  human vs ai new job base the ability compassio...   \n",
       "129  cenotechs impressive ipfconline thank share we...   \n",
       "\n",
       "                                              hashtags  hashtags_number  \\\n",
       "127                                           AI human                2   \n",
       "128  Human AI- jobs compassionate, empathetic, emot...               16   \n",
       "129     ArtificialIntelligence AI MachineLearning ML …                5   \n",
       "\n",
       "     likes  retweets  sentiment sentiment_class  \n",
       "127      0         6  -0.150000        Negative  \n",
       "128      0         3  -0.165909        Negative  \n",
       "129      0         2   1.000000        Positive  "
      ]
     },
     "execution_count": 57,
     "metadata": {},
     "output_type": "execute_result"
    }
   ],
   "source": [
    "# Load data\n",
    "df = pd.read_csv('tweets_sentiment.csv', sep='\\t', encoding='utf-8')\n",
    "\n",
    "# Inspect data - YOU CAN PLAY WITH THIS\n",
    "show_rows = 3\n",
    "show_row_first = 127\n",
    "show_row_last = show_row_first + show_rows\n",
    "\n",
    "# Display\n",
    "print('Samples (rows): {:10}\\nFeatures (columns): {:6}\\n'.format(df.shape[0],df.shape[1]))\n",
    "print('{} example samples (of {}) starting from {}-th:'.format(show_rows, len(df), show_row_first))\n",
    "df.iloc[show_row_min : show_row_last,:].head(15)"
   ]
  },
  {
   "cell_type": "markdown",
   "metadata": {},
   "source": [
    "#### 3. Usage example (concise)"
   ]
  },
  {
   "cell_type": "code",
   "execution_count": 61,
   "metadata": {},
   "outputs": [
    {
     "name": "stdout",
     "output_type": "stream",
     "text": [
      "Accuracy - train: 0.76\n",
      "Accuracy - test:  0.67\n"
     ]
    }
   ],
   "source": [
    "import os # File\n",
    "import pandas as pd # Data tables\n",
    "from sklearn.model_selection import train_test_split # Splitting data\n",
    "from sklearn.ensemble import RandomForestClassifier  # Anlgorithm\n",
    "\n",
    "# Load CSV file data (cleaned and preprocessed) as dataframe.\n",
    "fp = os.path.join('', 'tweets_sentiment.csv')\n",
    "df = pd.read_csv(fp, sep='\\t', encoding='utf-8')\n",
    "\n",
    "# Prepare data.\n",
    "X =  df.loc[ :, ['retweets', 'likes', 'hashtags_number']]\n",
    "y =  df.loc[ :, 'sentiment_class']\n",
    "X_train, X_test, y_train, y_test = train_test_split(X, y, random_state = 0)\n",
    "\n",
    "# Fit data to random forest algorithm.\n",
    "RF = RandomForestClassifier(max_features=3, random_state = 0).fit(X_train, y_train)\n",
    "\n",
    "# Predicted accuracy.\n",
    "accuracy_train = round(RF.score(X_train, y_train), 2)\n",
    "accuracy_test  = round(RF.score(X_test,  y_test), 2)\n",
    "\n",
    "print('Accuracy - train: {}\\nAccuracy - test:  {}'.format(accuracy_train, accuracy_test))"
   ]
  },
  {
   "cell_type": "markdown",
   "metadata": {},
   "source": [
    "#### 4. Usage example (explained)"
   ]
  },
  {
   "cell_type": "code",
   "execution_count": 58,
   "metadata": {},
   "outputs": [
    {
     "name": "stdout",
     "output_type": "stream",
     "text": [
      "Accuracy - train set:  0.76\n",
      "Accuracy -  test set:  0.67\n"
     ]
    }
   ],
   "source": [
    "# Specify data location.\n",
    "DIR  = ''\n",
    "file_name = 'tweets_sentiment.csv'\n",
    "\n",
    "# Join folder and file name as a file path.\n",
    "file_path  = os.path.join(DIR, file_name)\n",
    "\n",
    "# Load CSV file data (cleaned and preprocessed) as dataframe.\n",
    "df = pd.read_csv(file_path, sep='\\t', encoding='utf-8')\n",
    "\n",
    "# Prepare data 1: Split data into features and labels.\n",
    "features = ['retweets', 'likes', 'hashtags_number']\n",
    "label    = 'sentiment_class'\n",
    "\n",
    "X =  df.loc[ :, features]\n",
    "y =  df.loc[ :, label]\n",
    "\n",
    "\n",
    "# Prepare data 2: Split data into features and labels.\n",
    "X_train, X_test, y_train, y_test = train_test_split( \n",
    "                                                     X,                # Selected features data\n",
    "                                                     y,                # Selected label data\n",
    "                                                     random_state = 0  # \n",
    "                                                    )\n",
    "\n",
    "# Load algorithm - Random Forest.  \n",
    "RF = RandomForestClassifier(\n",
    "                             max_features = 3,# Nr of features that can be searched at each split point.\n",
    "                             random_state = 0, #\n",
    "                            )\n",
    "\n",
    "# Fit data into algorithm.\n",
    "randomforest = RF.fit( \n",
    "                       X_train,    # Features; columns your model use to set weights.\n",
    "                       y_train,    # Column with values you want to predict. \n",
    "                      )\n",
    "\n",
    "# Get metric results - Accuracy.\n",
    "accuracy_train = randomforest.score(X_train, y_train)\n",
    "accuracy_test  = randomforest.score(X_test,  y_test)\n",
    "\n",
    "# Display metric results\n",
    "print('Accuracy - train set:  {:.2f}'.format(accuracy_train))\n",
    "print('Accuracy -  test set:  {:.2f}'.format(accuracy_test))"
   ]
  },
  {
   "cell_type": "markdown",
   "metadata": {},
   "source": [
    "#### 5. Template (explained)"
   ]
  },
  {
   "cell_type": "code",
   "execution_count": null,
   "metadata": {},
   "outputs": [],
   "source": [
    "import os # File management\n",
    "import pandas as pd # Data tables\n",
    "from sklearn.model_selection import train_test_split # Splitting data\n",
    "from sklearn.ensemble import RandomForestClassifier  # Anlgorithm\n",
    "\n",
    "\n",
    "# YOU FILI THIS:\n",
    "# -------------------\n",
    "\n",
    "# File with data:\n",
    "file_name = ''      # Name of a file with data. Fg. 'tweets_sentiment.csv'\n",
    "DIR  = ''           # File directory OR '' if file is in program directory.\n",
    "\n",
    "# Data pick:\n",
    "predit_what = ''    # What to predict (column)  ? Fg. 'column_name'\n",
    "based_on    = []    # Basing on what  (columns) ? Features, fg. ['column_name', 'column_name'] \n",
    "\n",
    "# Parameters:\n",
    "nr_of_features = 3  # Nr of features that can be searched at each split point.\n",
    "\n",
    "\n",
    "\n",
    "# Load and prepare data (cleaned and preprocessed).\n",
    "# -------------------------------------------------\n",
    "\n",
    "# Load CSV file.\n",
    "file_path  = os.path.join(DIR, file_name) \n",
    "\n",
    "# Load CSV file as a dataframe.\n",
    "df = pd.read_csv(file_path, sep='\\t', encoding='utf-8')\n",
    "\n",
    "# Split data into features and labels.\n",
    "X =  df.loc[ :, features] # Selected features data\n",
    "y =  df.loc[ :, label]    # Selected label data\n",
    "\n",
    "# Split data into train and test set.\n",
    "X_train, X_test, y_train, y_test = train_test_split(X,                # Selected features data\n",
    "                                                    y,                # Selected label data\n",
    "                                                    random_state = 0) # \n",
    "\n",
    "# Load algorithm - Random Forest.\n",
    "RF = RandomForestClassifier( max_features = nr_of_features,\n",
    "                             random_state = 0,)\n",
    "\n",
    "# Fit the data into algorithm.\n",
    "randomforest = RF.fit(X_train, y_train)\n",
    "\n",
    "# Get metric results - Accuracy.\n",
    "accuracy_train = randomforest.score(X_train, y_train)\n",
    "accuracy_test  = randomforest.score(X_test,  y_test)\n",
    "\n",
    "# Display metric results\n",
    "print('Accuracy on training set: {:.2f}'.format(accuracy_train))\n",
    "print('Accuracy on testing set:  {:.2f}'.format(accuracy_test))"
   ]
  },
  {
   "cell_type": "markdown",
   "metadata": {},
   "source": [
    "#### 6. Template (concise)"
   ]
  },
  {
   "cell_type": "code",
   "execution_count": null,
   "metadata": {},
   "outputs": [],
   "source": [
    "import os # File\n",
    "import pandas as pd # Data tables\n",
    "from sklearn.model_selection import train_test_split # Splitting data\n",
    "from sklearn.ensemble import RandomForestClassifier  # Anlgorithm\n",
    "\n",
    "# YOU SET THIS:\n",
    "fp = os.path.join('', 'your file_name.csv') # DIR + file_name\n",
    "label = 'column_name' # You want to predict this column value...\n",
    "features    = ['column_name', 'column_name'] # ...basing on those columns data.\n",
    "nr_of_features = 3 # Parameter\n",
    "\n",
    "# Load and prepare data.\n",
    "df = pd.read_csv(fp, sep='\\t', encoding='utf-8')\n",
    "X =  df.loc[ :, features]\n",
    "y =  df.loc[ :, label]\n",
    "X_train, X_test, y_train, y_test = train_test_split(X, y, random_state = 0)\n",
    "\n",
    "# Fit data to random forest algorithm.\n",
    "RF = RandomForestClassifier(max_features=nr_of_features, random_state = 0).fit(X_train, y_train)\n",
    "\n",
    "# Predicted accuracy.\n",
    "accuracy_train = round(RF.score(X_train, y_train), 2)\n",
    "accuracy_test  = round(RF.score(X_test,  y_test), 2)\n",
    "\n",
    "print('Accuracy - train: {}\\nAccuracy - test:  {}'.format(accuracy_train, accuracy_test))"
   ]
  },
  {
   "cell_type": "markdown",
   "metadata": {},
   "source": [
    "#### 7. More\n",
    "\n",
    "To be updated.\n"
   ]
  },
  {
   "cell_type": "markdown",
   "metadata": {},
   "source": [
    "By Luke, II 2019."
   ]
  }
 ],
 "metadata": {
  "kernelspec": {
   "display_name": "Python 3",
   "language": "python",
   "name": "python3"
  }
 },
 "nbformat": 4,
 "nbformat_minor": 2
}
