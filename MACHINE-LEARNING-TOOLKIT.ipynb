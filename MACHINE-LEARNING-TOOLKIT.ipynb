{
 "cells": [
  {
   "cell_type": "markdown",
   "metadata": {},
   "source": [
    "# Machine Learning toolkit"
   ]
  },
  {
   "cell_type": "markdown",
   "metadata": {},
   "source": [
    "#### I. Machine Learning Alghoritms with code examples\n",
    "\n",
    "0. Common part: example data and common libraries\n",
    "1. Linear Model:\n",
    "\n",
    "    - <b> Linear Regression</b>\n",
    "    - <b> Polynomial Linear Regression</b>\n",
    "    - <b> Ridge Regression</b>\n",
    "    - <b> Polynomial Ridge Regression</b>\n",
    "    - <b> Logistic Regression</b>\n",
    "    - <b> LASSO - Least Actual Shrinkage and Sellection Operator</b>\n",
    "    - <b> Elastic Net</b>\n",
    "    - <b> SGD Regressor</b>\n",
    "    - Stepwise Regression\n",
    "\n",
    "\n",
    "2. Instance-based:\n",
    "\n",
    "    - <b> KNN - K-Nearest Neighbours</b>\n",
    "\n",
    "\n",
    "3. Support Vector Machines:\n",
    " - <b>Support Vector Machines - SVC</b>\n",
    " - <b>Support Vector Machines - Linear SVC</b>\n",
    " - <b>Support Vector Machines - SVR</b>\n",
    " - <b>Support Vector Machines - Linear SVR</b>\n",
    "\n",
    "\n",
    "4. Bayesian\n",
    " - <b>MNB - Multinomial Naive Bayes</b>\n",
    " - <b>GNB - Gaussian Naive Bayes </b>\n",
    " - BBN - Bayesian Belief Network\n",
    "\n",
    "\n",
    "5. Rule system\n",
    " - One Rule\n",
    " - Zero Rule\n",
    " - Repeated Incremental Pruning to Produce Error Reduction\n",
    " \n",
    "\n",
    "6. Decision Trees\n",
    " - <b>Decision Tree Classifier</b>\n",
    " - <b>Decision Tree Regressor</b>\n",
    " - CHAID - Chi-squared Automatic Interaction Detection\n",
    " - Conditional Decision Tree\n",
    "\n",
    "\n",
    "7. Ensemble:\n",
    " - <b>RF - Random Forrest</b>\n",
    " - <b>Gradient Boosting - Classifier</b>\n",
    " - <b>Gradient Boosting - Regressor</b>\n",
    " - <b>Bagging</b>\n",
    " - <b>Ada Boost</b>\n",
    "\n",
    "\n",
    "8. Clustering:\n",
    " - <b>K-Means</b>\n",
    " - KN-Means\n",
    " - K-Medians\n",
    " - Hierarchical Clustering\n",
    "\n",
    "\n",
    "9. Dimensionallity Reduction:\n",
    " - PCA - Principial Component Analysis\n",
    " - LDA - Linear Discriminant Analysis\n",
    " - RDA - Principial Component Regression\n",
    " \n",
    "\n",
    "#### II. Common parts in detail:\n",
    "\n",
    "\n",
    "1. Preprocessing\n",
    "\n",
    "2. Metrics\n",
    " - Classification: Accuracy, Recall, Precision, F1, Confusion Matrix, Classification Report\n",
    " - Regression: MAE, MSE, R2\n",
    " - Clustering: Adjusted Rand Index, Homogeneity, V-measure\n",
    "3. Tunning \n",
    " - Grid Search\n",
    " - Randomized Parameter Optimization\n",
    " - Cross-Validation"
   ]
  },
  {
   "cell_type": "markdown",
   "metadata": {},
   "source": [
    "## I. Machine Learning Alghoritms"
   ]
  },
  {
   "cell_type": "markdown",
   "metadata": {},
   "source": [
    "#### See Machine Learning algrithms avaliable via SK learn"
   ]
  },
  {
   "cell_type": "code",
   "execution_count": 224,
   "metadata": {},
   "outputs": [
    {
     "name": "stdout",
     "output_type": "stream",
     "text": [
      "96 Algorithms:\n"
     ]
    },
    {
     "data": {
      "text/html": [
       "<div>\n",
       "<style scoped>\n",
       "    .dataframe tbody tr th:only-of-type {\n",
       "        vertical-align: middle;\n",
       "    }\n",
       "\n",
       "    .dataframe tbody tr th {\n",
       "        vertical-align: top;\n",
       "    }\n",
       "\n",
       "    .dataframe thead th {\n",
       "        text-align: right;\n",
       "    }\n",
       "</style>\n",
       "<table border=\"1\" class=\"dataframe\">\n",
       "  <thead>\n",
       "    <tr style=\"text-align: right;\">\n",
       "      <th></th>\n",
       "      <th>Name</th>\n",
       "      <th>Type</th>\n",
       "      <th>X</th>\n",
       "      <th>y</th>\n",
       "      <th>Transformations</th>\n",
       "      <th>Propability</th>\n",
       "      <th>Classification</th>\n",
       "      <th>Regression</th>\n",
       "      <th>Clustering</th>\n",
       "      <th>Speed</th>\n",
       "    </tr>\n",
       "  </thead>\n",
       "  <tbody>\n",
       "    <tr>\n",
       "      <th>0</th>\n",
       "      <td>ARDRegression</td>\n",
       "      <td>Linear Model</td>\n",
       "      <td></td>\n",
       "      <td></td>\n",
       "      <td></td>\n",
       "      <td></td>\n",
       "      <td></td>\n",
       "      <td></td>\n",
       "      <td></td>\n",
       "      <td></td>\n",
       "    </tr>\n",
       "    <tr>\n",
       "      <th>1</th>\n",
       "      <td>BayesianRidge</td>\n",
       "      <td>Linear Model</td>\n",
       "      <td></td>\n",
       "      <td></td>\n",
       "      <td></td>\n",
       "      <td></td>\n",
       "      <td></td>\n",
       "      <td></td>\n",
       "      <td></td>\n",
       "      <td></td>\n",
       "    </tr>\n",
       "    <tr>\n",
       "      <th>2</th>\n",
       "      <td>ElasticNet</td>\n",
       "      <td>Linear Model</td>\n",
       "      <td></td>\n",
       "      <td></td>\n",
       "      <td></td>\n",
       "      <td></td>\n",
       "      <td></td>\n",
       "      <td></td>\n",
       "      <td></td>\n",
       "      <td></td>\n",
       "    </tr>\n",
       "    <tr>\n",
       "      <th>3</th>\n",
       "      <td>ElasticNetCV</td>\n",
       "      <td>Linear Model</td>\n",
       "      <td></td>\n",
       "      <td></td>\n",
       "      <td></td>\n",
       "      <td></td>\n",
       "      <td></td>\n",
       "      <td></td>\n",
       "      <td></td>\n",
       "      <td></td>\n",
       "    </tr>\n",
       "    <tr>\n",
       "      <th>4</th>\n",
       "      <td>Hinge</td>\n",
       "      <td>Linear Model</td>\n",
       "      <td></td>\n",
       "      <td></td>\n",
       "      <td></td>\n",
       "      <td></td>\n",
       "      <td></td>\n",
       "      <td></td>\n",
       "      <td></td>\n",
       "      <td></td>\n",
       "    </tr>\n",
       "    <tr>\n",
       "      <th>5</th>\n",
       "      <td>Huber</td>\n",
       "      <td>Linear Model</td>\n",
       "      <td></td>\n",
       "      <td></td>\n",
       "      <td></td>\n",
       "      <td></td>\n",
       "      <td></td>\n",
       "      <td></td>\n",
       "      <td></td>\n",
       "      <td></td>\n",
       "    </tr>\n",
       "    <tr>\n",
       "      <th>6</th>\n",
       "      <td>HuberRegressor</td>\n",
       "      <td>Linear Model</td>\n",
       "      <td></td>\n",
       "      <td></td>\n",
       "      <td></td>\n",
       "      <td></td>\n",
       "      <td></td>\n",
       "      <td></td>\n",
       "      <td></td>\n",
       "      <td></td>\n",
       "    </tr>\n",
       "  </tbody>\n",
       "</table>\n",
       "</div>"
      ],
      "text/plain": [
       "             Name          Type X y Transformations Propability  \\\n",
       "0   ARDRegression  Linear Model                                   \n",
       "1   BayesianRidge  Linear Model                                   \n",
       "2      ElasticNet  Linear Model                                   \n",
       "3    ElasticNetCV  Linear Model                                   \n",
       "4           Hinge  Linear Model                                   \n",
       "5           Huber  Linear Model                                   \n",
       "6  HuberRegressor  Linear Model                                   \n",
       "\n",
       "  Classification Regression Clustering Speed  \n",
       "0                                             \n",
       "1                                             \n",
       "2                                             \n",
       "3                                             \n",
       "4                                             \n",
       "5                                             \n",
       "6                                             "
      ]
     },
     "metadata": {},
     "output_type": "display_data"
    },
    {
     "name": "stdout",
     "output_type": "stream",
     "text": [
      "and 89 more. Use N, line 1 or 37.\n"
     ]
    }
   ],
   "source": [
    "N = 7 # Show N algorithms.\n",
    "ML_ALGORITHMS_SKLEARN = [ sklearn.linear_model, \n",
    "                          sklearn.tree, \n",
    "                          sklearn.naive_bayes, \n",
    "                          sklearn.ensemble, \n",
    "                          sklearn.svm, \n",
    "                          sklearn.cluster,\n",
    "                          sklearn.neighbors,\n",
    "                          # ADD MORE\n",
    "                         ]\n",
    "\n",
    "# Code: get all algrithms as a dataframe.\n",
    "def get_algo_names(alg_type):\n",
    "    return [alg for alg in dir(alg_type) if alg[0].isupper()]\n",
    "def get_algo_type(alg_type):\n",
    "    return ' '.join([w.title() for w in (alg_type.__name__).split('.')[1].split('_')])\n",
    "def shape_data():\n",
    "    ML_ALGORITHMS = []\n",
    "    for alg_type in ML_ALGORITHMS_SKLEARN:\n",
    "        a_type =  get_algo_type(alg_type)\n",
    "        a_names = get_algo_names(alg_type)\n",
    "        ML_ALGORITHMS.extend([(a_name, a_type) for a_name in a_names])\n",
    "    return ML_ALGORITHMS\n",
    "DF = pd.DataFrame(shape_data(), columns=['Name', 'Type']) # index=[a[0] for a in ALGORITHMS]\n",
    "\n",
    "# To be developed:\n",
    "DF['X'] = ''\n",
    "DF['y'] = ''\n",
    "DF['Transformations'] = ''\n",
    "DF['Propability'] = ''\n",
    "DF['Classification'] = ''\n",
    "DF['Regression'] = ''\n",
    "DF['Clustering'] = ''\n",
    "DF['Speed'] = ''\n",
    "\n",
    "# Show N algorighms.\n",
    "N = N\n",
    "print(len(DF), 'Algorithms:'); display(DF.head(N)); print('and', (len(DF)-N), 'more. Use N, line 1.')"
   ]
  },
  {
   "cell_type": "markdown",
   "metadata": {},
   "source": [
    "#### Example data and (universaly loaded) libraries"
   ]
  },
  {
   "cell_type": "code",
   "execution_count": 3,
   "metadata": {},
   "outputs": [],
   "source": [
    "import os # Files\n",
    "import pandas as pd # Tables\n",
    "import matplotlib.pyplot as plt # Plots\n",
    "from sklearn.model_selection import train_test_split # ML\n",
    "\n",
    "# Load cleaned and preprocessed CSV file as a dataframe.\n",
    "fp = os.path.join('', 'tweets_sentiment.csv')    # File path\n",
    "df = pd.read_csv(fp, sep='\\t', encoding='utf-8') # Load as dataframe"
   ]
  },
  {
   "cell_type": "markdown",
   "metadata": {},
   "source": [
    "## 1. Linear model (and regularization)"
   ]
  },
  {
   "cell_type": "markdown",
   "metadata": {},
   "source": [
    "#### a) Linear Regression"
   ]
  },
  {
   "cell_type": "code",
   "execution_count": 31,
   "metadata": {},
   "outputs": [
    {
     "name": "stdout",
     "output_type": "stream",
     "text": [
      "R-squared - train: 0.02\n",
      "R-squared - test:  0.02\n",
      "Coefficient: [-2.78234501e-04  2.24811635e+00]\n",
      "Intercept:  3.885496423568955\n"
     ]
    },
    {
     "data": {
      "image/png": "[encoded data removed]",
      "text/plain": [
       "<Figure size 432x288 with 1 Axes>"
      ]
     },
     "metadata": {
      "needs_background": "light"
     },
     "output_type": "display_data"
    }
   ],
   "source": [
    "from sklearn.metrics import mean_squared_error # Metric\n",
    "from sklearn.linear_model import LinearRegression # Algorithm\n",
    "\n",
    "# Divide data into features(X) and labels(y).\n",
    "X =  df.loc[ :, ['sentiment','retweets']] # features\n",
    "y =  df.loc[ :, 'hashtags_number'] # label, value to predict\n",
    "\n",
    "# Split both features(X) and labels(y) into training and testing datasets.\n",
    "X_train, X_test, y_train, y_test = train_test_split(X, y, random_state=0)\n",
    "\n",
    "# Load and define Linear Regression.\n",
    "LR = LinearRegression( fit_intercept=True, # Calculate the intercept.\n",
    "                       normalize=True, # Normalized regressors (substract the mean, divide by l2-norm).\n",
    "                       copy_X=True, # X will be copied; else, it may be overwritten.\n",
    "                       n_jobs=None) # If more complex data, might result on speed.\n",
    "\n",
    "# Fit data into model.\n",
    "LR.fit(X_train, y_train, sample_weight=None)\n",
    "\n",
    "# Results.\n",
    "coef = LR.coef_\n",
    "intercept = LR.intercept_\n",
    "r_squared_train = round(LR.score(X_train, y_train), 2)\n",
    "r_squared_test  = round(LR.score(X_test,  y_test), 2)\n",
    "predictions = LR.predict(X_test) # Predictions as an array.\n",
    "\n",
    "# Display results.\n",
    "print('R-squared - train: {}\\nR-squared - test:  {}\\nCoefficient: {}\\nIntercept:  {}\\nFirst three predictions (of {}): {} ...'.format(r_squared_train, r_squared_test, coef, intercept, len(predictions), predictions[:3]))\n",
    "plt.scatter(y_test, predictions)\n",
    "plt.show()"
   ]
  },
  {
   "cell_type": "markdown",
   "metadata": {},
   "source": [
    "#### b) Polynomial Regression"
   ]
  },
  {
   "cell_type": "code",
   "execution_count": 33,
   "metadata": {},
   "outputs": [
    {
     "name": "stdout",
     "output_type": "stream",
     "text": [
      "R-squared - train: 0.02\n",
      "R-squared - test:  0.02\n",
      "Coefficient: [0.00000000e+00 7.65700227e-03 9.99999343e-05]\n",
      "Intercept:  0.07550918022140342\n"
     ]
    },
    {
     "data": {
      "image/png": "[encoded data removed]",
      "text/plain": [
       "<Figure size 432x288 with 1 Axes>"
      ]
     },
     "metadata": {
      "needs_background": "light"
     },
     "output_type": "display_data"
    }
   ],
   "source": [
    "from sklearn.preprocessing import PolynomialFeatures\n",
    "from sklearn.linear_model import LinearRegression\n",
    "\n",
    "# Divide data into features(X) and labels(y).\n",
    "X =  df.loc[ :, ['hashtags_number','retweets']] # features\n",
    "y =  df.loc[ :, 'sentiment'] # label, value to predict\n",
    "\n",
    "# Transform features: Polynomial\n",
    "poly = PolynomialFeatures(degree=2, # The degree of the polynomial features. Default = 2.\n",
    "                          interaction_only=False, # If true, only interaction features are produced: features that are products of at most degree distinct input features (so not x[1] ** 2, x[0] * x[2] ** 3, etc.).\n",
    "                          include_bias=True) # If True (default), then include a bias column, the feature in which all polynomial powers are zero (i.e. a column of ones - acts as an intercept term in a linear model).\n",
    "\n",
    "# Split both features(X) and labels(y) into training and testing datasets.\n",
    "X_train, X_test, y_train, y_test = train_test_split(X_poly, y, random_state = 0)\n",
    "\n",
    "# Load and define Polynomial Regression.\n",
    "PLR = LinearRegression(fit_intercept=True, # Intercept\n",
    "                       normalize=False, # Normalized regressors, substract the mean, divide by l2-norm.\n",
    "                       copy_X=True, # X will be copied; else, it may be overwritten.\n",
    "                       n_jobs=None) # Speedup for n_targets > 1 and sufficient large problems.\n",
    "\n",
    "# Fit data into model.\n",
    "PLR.fit(X_train, y_train, sample_weight=None)\n",
    "\n",
    "# Results.\n",
    "coef = PLR.coef_\n",
    "intercept = PLR.intercept_\n",
    "r_squared_train = round(PLR.score(X_train, y_train), 2)\n",
    "r_squared_test  = round(PLR.score(X_test,  y_test), 2)\n",
    "predictions = PLR.predict(X_test) # an array.\n",
    "\n",
    "# Display results.\n",
    "print('R-squared - train: {}\\nR-squared - test:  {}\\nCoefficient: {}\\nIntercept:  {}\\nFirst three predictions (of {}): {} ...'.format(r_squared_train, r_squared_test, coef, intercept, len(predictions), predictions[:3]))\n",
    "plt.scatter(y_test, predictions)\n",
    "plt.show()"
   ]
  },
  {
   "cell_type": "markdown",
   "metadata": {},
   "source": [
    "#### c) Ridge Regression"
   ]
  },
  {
   "cell_type": "code",
   "execution_count": 35,
   "metadata": {},
   "outputs": [
    {
     "name": "stdout",
     "output_type": "stream",
     "text": [
      "R-squared - train: 0.02\n",
      "R-squared - test:  0.02\n",
      "Coefficient: [0.         0.03329575 0.00978659]\n",
      "Intercept:  0.11091065238213316\n"
     ]
    },
    {
     "data": {
      "image/png": "[encoded data removed]",
      "text/plain": [
       "<Figure size 432x288 with 1 Axes>"
      ]
     },
     "metadata": {
      "needs_background": "light"
     },
     "output_type": "display_data"
    }
   ],
   "source": [
    "import os # File management \n",
    "import pandas as pd # Data tables\n",
    "from sklearn.model_selection import train_test_split # Splitting data\n",
    "from sklearn.linear_model import LinearRegression\n",
    "from sklearn.preprocessing import StandardScaler\n",
    "from sklearn.linear_model import Ridge\n",
    "from sklearn.metrics import mean_squared_error\n",
    "\n",
    "import numpy as np\n",
    "import matplotlib.pyplot as plt\n",
    "\n",
    "# Get right data from data frame\n",
    "X = df.loc[:,['retweets']] # 'retweet_count', 'sentiment'\n",
    "y = df.sentiment # retweet_count\n",
    "\n",
    "# Split data into training set and testing set.\n",
    "X_train, X_test, y_train, y_test = train_test_split(X_poly, y, random_state = 0)\n",
    "\n",
    "# Transform features: normalization\n",
    "scaler = StandardScaler()\n",
    "X_train_scaled = scaler.fit_transform(X_train)\n",
    "X_test_scaled = scaler.transform(X_test)\n",
    "\n",
    "# Ridge regression.\n",
    "RR = Ridge(alpha=20.0, solver=\"cholesky\").fit(X_train_scaled, y_train)\n",
    "\n",
    "# Predicted R-squared metric.\n",
    "r_squared_train = round(RR.score(X_train_scaled, y_train), 2)\n",
    "r_squared_test  = round(RR.score(X_test_scaled,  y_test), 2)\n",
    "\n",
    "# Predictions as an array.\n",
    "predictions = RR.predict(X_test)\n",
    "\n",
    "# Results: R-squared, coefficient, intercept\n",
    "print('R-squared - train: {}\\nR-squared - test:  {}'.format(r_squared_train, r_squared_test))\n",
    "print('Coefficient: {}\\nIntercept:  {}'.format(RR.coef_, RR.intercept_))\n",
    "\n",
    "# Ploted result: predictions in compare to values.\n",
    "plt.scatter(y_test, predictions)\n",
    "plt.show()"
   ]
  },
  {
   "cell_type": "markdown",
   "metadata": {},
   "source": [
    "#### d) Polynomial Ridge Regression"
   ]
  },
  {
   "cell_type": "code",
   "execution_count": 37,
   "metadata": {},
   "outputs": [
    {
     "name": "stdout",
     "output_type": "stream",
     "text": [
      "R-squared - train: -0.01\n",
      "R-squared - test:  -0.0\n",
      "Coefficient: [0.         0.00765576 0.00010006]\n",
      "Intercept:  0.0755118709545669\n"
     ]
    },
    {
     "data": {
      "image/png": "[encoded data removed]",
      "text/plain": [
       "<Figure size 432x288 with 1 Axes>"
      ]
     },
     "metadata": {
      "needs_background": "light"
     },
     "output_type": "display_data"
    }
   ],
   "source": [
    "from sklearn.preprocessing import StandardScaler  # ?\n",
    "from sklearn.model_selection import train_test_split\n",
    "from sklearn.preprocessing import PolynomialFeatures\n",
    "from sklearn.linear_model import Ridge\n",
    "\n",
    "# Features(X) and label(y). Algorithm use first to predict former.\n",
    "X = df.loc[:,['hashtags_number']] # 'retweet_count', 'sentiment'\n",
    "y = df.sentiment # retweet_count\n",
    "\n",
    "# Transform features: Polynomial\n",
    "poly = PolynomialFeatures(degree=2)\n",
    "X_poly = poly.fit_transform(X)\n",
    "\n",
    "# Split data into training set and testing set.\n",
    "X_train, X_test, y_train, y_test = train_test_split(X_poly, y, random_state = 0)\n",
    "\n",
    "# Polynomial Ridge Regression model with a regularization penalty.\n",
    "PRR = Ridge().fit(X_train, y_train)\n",
    "\n",
    "# Predicted R-squared metric.\n",
    "r_squared_train = round(PRR.score(X_train_scaled, y_train), 2)\n",
    "r_squared_test  = round(PRR.score(X_test_scaled,  y_test), 2)\n",
    "\n",
    "# Predictions as an array.\n",
    "predictions = PRR.predict(X_test)\n",
    "\n",
    "# Results: R-squared, coefficient, intercept\n",
    "print('R-squared - train: {}\\nR-squared - test:  {}'.format(r_squared_train, r_squared_test))\n",
    "print('Coefficient: {}\\nIntercept:  {}'.format(PRR.coef_, PRR.intercept_))\n",
    "\n",
    "# Ploted result: predictions in compare to values.\n",
    "plt.scatter(y_test, predictions)\n",
    "plt.show()"
   ]
  },
  {
   "cell_type": "markdown",
   "metadata": {},
   "source": [
    "#### e) Logistic Regression"
   ]
  },
  {
   "cell_type": "code",
   "execution_count": 40,
   "metadata": {},
   "outputs": [
    {
     "name": "stdout",
     "output_type": "stream",
     "text": [
      "Accuracy - train: 0.71\n",
      "Accuracy - test:  0.7\n"
     ]
    }
   ],
   "source": [
    "from sklearn.linear_model import LogisticRegression\n",
    "\n",
    "# Divide data into features(X) and labels(y).\n",
    "y =  df.loc[ :, 'sentiment_class'] # column of labels to predict\n",
    "X =  df.loc[ :, ['retweets', 'likes', 'hashtags_number']] # columns of features used to predict label\n",
    "\n",
    "# Split both features(X) and labels(y) into training and testing datasets.\n",
    "X_train, X_test, y_train, y_test = train_test_split(X, y, random_state=0)\n",
    "\n",
    "# Load and define Logistic Regression model.\n",
    "LGR = LogisticRegression(penalty='l2', \n",
    "                         dual=False, \n",
    "                         tol=0.0001, \n",
    "                         C=1.0, \n",
    "                         fit_intercept=True, \n",
    "                         intercept_scaling=1, \n",
    "                         class_weight=None, \n",
    "                         random_state=None, \n",
    "                         solver='warn', \n",
    "                         max_iter=100, \n",
    "                         multi_class='warn', \n",
    "                         verbose=0, \n",
    "                         warm_start=False, \n",
    "                         n_jobs=None)\n",
    "\n",
    "# Fit data into model.\n",
    "LGR.fit(X_train, y_train)\n",
    "\n",
    "# Results.\n",
    "accuracy_train = round(LGR.score(X_train, y_train), 2)\n",
    "accuracy_test  = round(LGR.score(X_test,  y_test), 2)\n",
    "predictions = LGR.predict(X_test)\n",
    "probabilities = LGR.predict_proba(X_test)\n",
    "\n",
    "# Display results.\n",
    "print('Accuracy - train: {}\\nAccuracy - test:  {}\\nFirst three predictions (of {}): {} ...\\nFirst three propabilities (of {}): {} ...'.format(accuracy_train, accuracy_test, len(predictions), predictions[:3], len(probabilities), probabilities[:3]))\n",
    "plt.scatter(y_test, predictions)\n",
    "plt.show()"
   ]
  },
  {
   "cell_type": "markdown",
   "metadata": {},
   "source": [
    "#### f) Lasso Regression"
   ]
  },
  {
   "cell_type": "code",
   "execution_count": 42,
   "metadata": {},
   "outputs": [
    {
     "name": "stdout",
     "output_type": "stream",
     "text": [
      "R-squared - train: 0.0\n",
      "R-squared - test:  -0.0\n",
      "Coefficient: [-0.]\n",
      "Intercept:  0.11091065238213316\n"
     ]
    },
    {
     "data": {
      "text/plain": [
       "<function matplotlib.pyplot.show(*args, **kw)>"
      ]
     },
     "execution_count": 42,
     "metadata": {},
     "output_type": "execute_result"
    },
    {
     "data": {
      "image/png": "[encoded data removed]",
      "text/plain": [
       "<Figure size 432x288 with 1 Axes>"
      ]
     },
     "metadata": {
      "needs_background": "light"
     },
     "output_type": "display_data"
    }
   ],
   "source": [
    "from sklearn.preprocessing import MinMaxScaler\n",
    "from sklearn.model_selection import train_test_split\n",
    "from sklearn.linear_model import Lasso\n",
    "\n",
    "# Prepare data.\n",
    "X = df.loc[:,['retweets']]\n",
    "y = df.sentiment\n",
    "X_train, X_test, y_train, y_test = train_test_split(X, y, random_state = 0)\n",
    "\n",
    "# Transform features: normalization\n",
    "scaler = MinMaxScaler()\n",
    "X_train_scaled = scaler.fit_transform(X_train)\n",
    "X_test_scaled = scaler.transform(X_test)\n",
    "\n",
    "# Lasso Regression.\n",
    "LASSO = Lasso(alpha=2.0, max_iter = 10000).fit(X_train_scaled, y_train)\n",
    "\n",
    "# Predicted R-squared metric.\n",
    "r_squared_train = round(LASSO.score(X_train_scaled, y_train), 2)\n",
    "r_squared_test  = round(LASSO.score(X_test_scaled,  y_test), 2)\n",
    "\n",
    "# Predictions as an array.\n",
    "predictions = LASSO.predict(X_test)\n",
    "\n",
    "# Results: R-squared, coefficient, intercept\n",
    "print('R-squared - train: {}\\nR-squared - test:  {}'.format(r_squared_train, r_squared_test))\n",
    "print('Coefficient: {}\\nIntercept:  {}'.format(LASSO.coef_, LASSO.intercept_))\n",
    "\n",
    "# Ploted result: predictions in compare to values.\n",
    "plt.scatter(y_test, predictions)\n",
    "plt.show"
   ]
  },
  {
   "cell_type": "markdown",
   "metadata": {},
   "source": [
    "#### g) SGD Regressor"
   ]
  },
  {
   "cell_type": "code",
   "execution_count": 58,
   "metadata": {},
   "outputs": [
    {
     "name": "stdout",
     "output_type": "stream",
     "text": [
      "Metric - train: -1.1123223562482885e+31\n",
      "Metric - test:  -8.944882049058729e+28\n"
     ]
    }
   ],
   "source": [
    "import os # File management \n",
    "import pandas as pd # Data tables\n",
    "from sklearn.model_selection import train_test_split # Splitting data\n",
    "from sklearn.linear_model import SGDRegressor\n",
    "from sklearn.metrics import accuracy_score \n",
    "\n",
    "# Load CSV file data (cleaned and preprocessed) as dataframe.\n",
    "fp = os.path.join('', 'tweets_sentiment.csv') # .join(folder, file)\n",
    "df = pd.read_csv(fp, sep='\\t', encoding='utf-8')\n",
    "\n",
    "# Prepare data.\n",
    "y =  df.loc[ :, 'hashtags_number'] # label to predict\n",
    "X =  df.loc[ :, ['retweets', 'likes']] # features used to predict label\n",
    "\n",
    "X_train, X_test, y_train, y_test = train_test_split(X, y, random_state = 0)\n",
    "\n",
    "# Fit data to SGD Regressor.\n",
    "SGDR = SGDRegressor(max_iter=50, penalty=None, eta0=0.1).fit(X, y.ravel())\n",
    "\n",
    "# Predicted accuracy.\n",
    "accuracy_train = round(SGDR.score(X_train, y_train), 2)\n",
    "accuracy_test  = round(SGDR.score(X_test,  y_test), 2)\n",
    "\n",
    "# Predictions.\n",
    "predictions = SGDR.predict(X_test)\n",
    "\n",
    "print('Metric - train: {}\\nMetric - test:  {}'.format(accuracy_train, accuracy_test))\n",
    "#print('Coefficients:\\n', clf.coef_)\n",
    "#print('Intercepts:\\n', clf.intercept_)\n",
    "\n",
    "#####"
   ]
  },
  {
   "cell_type": "markdown",
   "metadata": {},
   "source": [
    "#### h) ElasticNet"
   ]
  },
  {
   "cell_type": "code",
   "execution_count": 52,
   "metadata": {},
   "outputs": [
    {
     "name": "stdout",
     "output_type": "stream",
     "text": [
      "Accuracy - train: 0.02\n",
      "Accuracy - test:  -0.58\n"
     ]
    }
   ],
   "source": [
    "# Divide data into features(X) and labels(y).\n",
    "X =  df.loc[ :, ['hashtags_number','retweets']] # features\n",
    "y =  df.loc[ :, 'likes'] # label, value to predict\n",
    "\n",
    "# Split both features(X) and labels(y) into training and testing datasets.\n",
    "X_train, X_test, y_train, y_test = train_test_split(X, y, random_state=0)\n",
    "\n",
    "# Load and define ElasticNet.\n",
    "ENET = ElasticNet( \n",
    "                  alpha=1.0, \n",
    "                  l1_ratio=0.5, \n",
    "                  fit_intercept=True, \n",
    "                  normalize=False, \n",
    "                  precompute=False, \n",
    "                  max_iter=1000, \n",
    "                  copy_X=True, \n",
    "                  tol=0.0001, \n",
    "                  warm_start=False, \n",
    "                  positive=False, \n",
    "                  random_state=None, \n",
    "                  selection='cyclic',\n",
    "                 )\n",
    "# Fit data into model.\n",
    "ENET.fit(X_train, y_train)\n",
    "\n",
    "# Results.\n",
    "coef = ENET.coef_\n",
    "intercept = ENET.intercept_\n",
    "r_squared_train = round(ENET.score(X_train, y_train), 2)\n",
    "r_squared_test  = round(ENET.score(X_test,  y_test), 2)\n",
    "predictions = ENET.predict(X_test) # an array.\n",
    "\n",
    "# Display results.\n",
    "print('R-squared - train: {}\\nR-squared - test:  {}\\nCoefficient: {}\\nIntercept:  {}\\nFirst three predictions (of {}): {} ...'.format(r_squared_train, r_squared_test, coef, intercept, len(predictions), predictions[:3]))\n",
    "plt.scatter(y_test, predictions)\n",
    "plt.show()"
   ]
  },
  {
   "cell_type": "markdown",
   "metadata": {},
   "source": [
    "#### i) Stepwise regression"
   ]
  },
  {
   "cell_type": "code",
   "execution_count": null,
   "metadata": {},
   "outputs": [],
   "source": []
  },
  {
   "cell_type": "markdown",
   "metadata": {},
   "source": [
    "#### 2. Instance Based"
   ]
  },
  {
   "cell_type": "markdown",
   "metadata": {},
   "source": [
    "#### a) K-Nearest Neighbours (KNN)"
   ]
  },
  {
   "cell_type": "code",
   "execution_count": 217,
   "metadata": {},
   "outputs": [
    {
     "name": "stdout",
     "output_type": "stream",
     "text": [
      "Accuracy - train: 0.28\n",
      "Accuracy - test:  0.24\n"
     ]
    }
   ],
   "source": [
    "from sklearn.neighbors import KNeighborsClassifier\n",
    "\n",
    "# Divide data into features(X) and labels(y).\n",
    "y =  df.loc[ :, 'sentiment_class'] # column of labels to predict\n",
    "X =  df.loc[ :, ['retweets', 'likes', 'hashtags_number']] # columns of features used to predict label\n",
    "\n",
    "# Split both features(X) and labels(y) into training and testing datasets.\n",
    "X_train, X_test, y_train, y_test = train_test_split(X, y, random_state=0)\n",
    "\n",
    "# Load and define KNN model.\n",
    "KNN = KNeighborsClassifier(n_neighbors=5,\n",
    "                           weights='uniform', \n",
    "                           algorithm='auto', \n",
    "                           leaf_size=30, \n",
    "                           p=2, \n",
    "                           metric='minkowski', \n",
    "                           metric_params=None, \n",
    "                           n_jobs=None)\n",
    "\n",
    "# Fit data into model.\n",
    "KNN.fit(X_train, y_train)\n",
    "\n",
    "# Results.\n",
    "accuracy_train = round(KNN.score(X_train, y_train), 2)\n",
    "accuracy_test  = round(KNN.score(X_test,  y_test), 2)\n",
    "predictions = KNN.predict(X_test)\n",
    "probabilities = KNN.predict_proba(X_test)\n",
    "\n",
    "# Display results.\n",
    "print('Accuracy - train: {}\\nAccuracy - test:  {}\\nFirst three predictions (of {}): {} ...\\nFirst three propabilities (of {}): {} ...'.format(accuracy_train, accuracy_test, len(predictions), predictions[:3], len(probabilities), probabilities[:3]))\n",
    "plt.scatter(y_test, predictions)\n",
    "plt.show()"
   ]
  },
  {
   "cell_type": "markdown",
   "metadata": {},
   "source": [
    "## 3. Support Vector Machines"
   ]
  },
  {
   "cell_type": "markdown",
   "metadata": {},
   "source": [
    "#### a) Support Vector Machines - SVC"
   ]
  },
  {
   "cell_type": "code",
   "execution_count": null,
   "metadata": {},
   "outputs": [],
   "source": [
    "import os # File management \n",
    "import pandas as pd # Data tables\n",
    "from sklearn.model_selection import train_test_split # Splitting data\n",
    "from sklearn.svm import SVC\n",
    "from sklearn.metrics import accuracy_score \n",
    "\n",
    "# Load CSV file data (cleaned and preprocessed) as dataframe.\n",
    "fp = os.path.join('', 'tweets_sentiment.csv') # .join(folder, file)\n",
    "df = pd.read_csv(fp, sep='\\t', encoding='utf-8')\n",
    "\n",
    "# Prepare data.\n",
    "y =  df.loc[ :, 'hashtags_number'] # label to predict\n",
    "X =  df.loc[ :, ['retweets', 'likes']] # features used to predict label\n",
    "X_train, X_test, y_train, y_test = train_test_split(X, y, random_state = 0)\n",
    "\n",
    "# Fit data to SVC.\n",
    "SVC = SVC(kernel = 'linear', C=1.0).fit(X_train, y_train)\n",
    "\n",
    "# Predicted accuracy.\n",
    "accuracy_train = round(SVC.score(X_train, y_train), 2)\n",
    "accuracy_test  = round(SVC.score(X_test,  y_test), 2)\n",
    "\n",
    "# Predictions.\n",
    "predictions = SVC.predict(X_test)\n",
    "\n",
    "# Propabilities.\n",
    "probabilities = SVC.predict_proba(X_test)\n",
    "\n",
    "print('Accuracy - train: {}\\nAccuracy - test:  {}'.format(accuracy_train, accuracy_test))"
   ]
  },
  {
   "cell_type": "markdown",
   "metadata": {},
   "source": [
    "#### b) Support Vector Machines - Linear SVC"
   ]
  },
  {
   "cell_type": "code",
   "execution_count": null,
   "metadata": {},
   "outputs": [],
   "source": [
    "import os # File management \n",
    "import pandas as pd # Data tables\n",
    "from sklearn.model_selection import train_test_split # Splitting data\n",
    "from sklearn.svm import LinearSVC # Linear SVC\n",
    "from sklearn.metrics import accuracy_score \n",
    "\n",
    "# Load CSV file data (cleaned and preprocessed) as dataframe.\n",
    "fp = os.path.join('', 'tweets_sentiment.csv') # .join(folder, file)\n",
    "df = pd.read_csv(fp, sep='\\t', encoding='utf-8')\n",
    "\n",
    "# Prepare data.\n",
    "y =  df.loc[ :, 'hashtags_number'] # label to predict\n",
    "X =  df.loc[ :, ['retweets', 'likes']] # features used to predict label\n",
    "X_train, X_test, y_train, y_test = train_test_split(X, y, random_state = 0)\n",
    "\n",
    "# Fit data to Linear SVC.\n",
    "LSVC = LinearSVC(C=5, random_state = 67).fit(X_train, y_train)\n",
    "\n",
    "# Predicted accuracy.\n",
    "accuracy_train = round(LSVC.score(X_train, y_train), 2)\n",
    "accuracy_test  = round(LSVC.score(X_test,  y_test), 2)\n",
    "\n",
    "# Predictions.\n",
    "predictions = LSVC.predict(X_test)\n",
    "\n",
    "# Propabilities.\n",
    "probabilities = LSVC.predict_proba(X_test)\n",
    "\n",
    "print('Accuracy - train: {}\\nAccuracy - test:  {}'.format(accuracy_train, accuracy_test))\n",
    "#print('Coefficients:\\n', clf.coef_)\n",
    "#print('Intercepts:\\n', clf.intercept_)"
   ]
  },
  {
   "cell_type": "markdown",
   "metadata": {},
   "source": [
    "#### c) Support Vector Machines - SVR"
   ]
  },
  {
   "cell_type": "code",
   "execution_count": null,
   "metadata": {},
   "outputs": [],
   "source": [
    "# Poly SVM\n",
    "import os # File management \n",
    "import pandas as pd # Data tables\n",
    "from sklearn.model_selection import train_test_split # Splitting data\n",
    "from sklearn.svm import SVR # SVR\n",
    "from sklearn.metrics import accuracy_score \n",
    "\n",
    "# Load CSV file data (cleaned and preprocessed) as dataframe.\n",
    "fp = os.path.join('', 'tweets_sentiment.csv') # .join(folder, file)\n",
    "df = pd.read_csv(fp, sep='\\t', encoding='utf-8')\n",
    "\n",
    "# Prepare data.\n",
    "y =  df.loc[ :, 'hashtags_number'] # label to predict\n",
    "X =  df.loc[ :, ['retweets', 'likes']] # features used to predict label\n",
    "X_train, X_test, y_train, y_test = train_test_split(X, y, random_state = 0)\n",
    "\n",
    "# Fit data to SVR.\n",
    "PSVR = SVR(kernel=\"poly\", degree=2, C=100, epsilon=0.1).fit(X, y)\n",
    "\n",
    "# Predicted accuracy.\n",
    "accuracy_train = round(PSVR.score(X_train, y_train), 2)\n",
    "accuracy_test  = round(PSVR.score(X_test,  y_test), 2)\n",
    "\n",
    "# Predictions.\n",
    "predictions = PSVR.predict(X_test)\n",
    "\n",
    "# Propabilities.\n",
    "probabilities = PSVR.predict_proba(X_test)\n",
    "\n",
    "print('Accuracy - train: {}\\nAccuracy - test:  {}'.format(accuracy_train, accuracy_test))"
   ]
  },
  {
   "cell_type": "markdown",
   "metadata": {},
   "source": [
    "#### d) Support Vector Machines - Linear SVR"
   ]
  },
  {
   "cell_type": "code",
   "execution_count": 221,
   "metadata": {},
   "outputs": [
    {
     "name": "stdout",
     "output_type": "stream",
     "text": [
      "Accuracy - train: -0.09\n",
      "Accuracy - test:  -1.54\n"
     ]
    }
   ],
   "source": [
    "import os # File management \n",
    "import pandas as pd # Data tables\n",
    "from sklearn.model_selection import train_test_split # Splitting data\n",
    "from sklearn.svm import LinearSVR # Linear SVR\n",
    "from sklearn.metrics import accuracy_score \n",
    "\n",
    "# Load CSV file data (cleaned and preprocessed) as dataframe.\n",
    "fp = os.path.join('', 'tweets_sentiment.csv') # .join(folder, file)\n",
    "df = pd.read_csv(fp, sep='\\t', encoding='utf-8')\n",
    "\n",
    "# Prepare data.\n",
    "y =  df.loc[ :, 'hashtags_number'] # label to predict\n",
    "X =  df.loc[ :, ['retweets', 'likes']] # features used to predict label\n",
    "X_train, X_test, y_train, y_test = train_test_split(X, y, random_state = 0)\n",
    "\n",
    "# Fit data to Linear SVR.\n",
    "LSVR = LinearSVR(epsilon=1.5, random_state = 67).fit(X_train, y_train)\n",
    "\n",
    "# Predicted accuracy.\n",
    "accuracy_train = round(LSVR.score(X_train, y_train), 2)\n",
    "accuracy_test  = round(LSVR.score(X_test,  y_test), 2)\n",
    "\n",
    "# Predictions.\n",
    "predictions = LSVR.predict(X_test)\n",
    "\n",
    "# Propabilities.\n",
    "#probabilities = LSVR.predict_proba(X_test)\n",
    "\n",
    "print('Accuracy - train: {}\\nAccuracy - test:  {}'.format(accuracy_train, accuracy_test))\n",
    "#print('Coefficients:\\n', clf.coef_)\n",
    "#print('Intercepts:\\n', clf.intercept_)"
   ]
  },
  {
   "cell_type": "markdown",
   "metadata": {},
   "source": [
    "## 4. Bayesian"
   ]
  },
  {
   "cell_type": "markdown",
   "metadata": {},
   "source": [
    "#### a) Gaussian Naive Bayes"
   ]
  },
  {
   "cell_type": "code",
   "execution_count": 44,
   "metadata": {},
   "outputs": [
    {
     "name": "stdout",
     "output_type": "stream",
     "text": [
      "Accuracy - train: 0.71\n",
      "Accuracy - test:  0.7\n"
     ]
    }
   ],
   "source": [
    "import os # File management \n",
    "import pandas as pd # Data tables\n",
    "from sklearn.model_selection import train_test_split # Splitting data\n",
    "from sklearn.naive_bayes import GaussianNB # Gaussian Naive Bayes\n",
    "\n",
    "# Prepare data.\n",
    "y =  df.loc[ :, 'sentiment_class'] # label to predict\n",
    "X =  df.loc[ :, ['retweets', 'likes', 'hashtags_number']] # features used to predict label\n",
    "X_train, X_test, y_train, y_test = train_test_split(X, y, random_state = 0)\n",
    "\n",
    "# Fit data to Gaussian Naive Bayes.\n",
    "GNB = GaussianNB().fit(X_train, y_train)\n",
    "\n",
    "# Predicted accuracy.\n",
    "accuracy_train = round(GNB.score(X_train, y_train), 2)\n",
    "accuracy_test  = round(GNB.score(X_test,  y_test), 2)\n",
    "\n",
    "# Predictions.\n",
    "predictions = GNB.predict(X_test)\n",
    "\n",
    "# Propabilities.\n",
    "probabilities = GNB.predict_proba(X_test)\n",
    "\n",
    "print('Accuracy - train: {}\\nAccuracy - test:  {}'.format(accuracy_train, accuracy_test))"
   ]
  },
  {
   "cell_type": "markdown",
   "metadata": {},
   "source": [
    "#### b) Multinomial Naive Bayes"
   ]
  },
  {
   "cell_type": "code",
   "execution_count": 33,
   "metadata": {},
   "outputs": [
    {
     "name": "stdout",
     "output_type": "stream",
     "text": [
      "Accuracy - train: 0.7\n",
      "Accuracy - test:  0.69\n"
     ]
    }
   ],
   "source": [
    "import os # File management \n",
    "import pandas as pd # Data tables\n",
    "from sklearn.model_selection import train_test_split # Splitting data\n",
    "from sklearn.naive_bayes import MultinomialNB # Naive Bayes (Multinomial) algorithm\n",
    "\n",
    "# Load CSV file data (cleaned and preprocessed) as dataframe.\n",
    "fp = os.path.join('', 'tweets_sentiment.csv') # .join(folder, file)\n",
    "df = pd.read_csv(fp, sep='\\t', encoding='utf-8')\n",
    "\n",
    "# Prepare data.\n",
    "y =  df.loc[ :, 'sentiment_class'] # label to predict\n",
    "X =  df.loc[ :, ['retweets', 'likes', 'hashtags_number']] # features used to predict label\n",
    "X_train, X_test, y_train, y_test = train_test_split(X, y, random_state = 0)\n",
    "\n",
    "# Fit data to Gaussian Naive Bayes.\n",
    "MNB = MultinomialNB().fit(X_train, y_train)\n",
    "\n",
    "# Predicted accuracy.\n",
    "accuracy_train = round(MNB.score(X_train, y_train), 2)\n",
    "accuracy_test  = round(MNB.score(X_test,  y_test), 2)\n",
    "\n",
    "# Predictions.\n",
    "predictions = MNB.predict(X_test)\n",
    "\n",
    "# Propabilities.\n",
    "probabilities = MNB.predict_proba(X_test)\n",
    "\n",
    "print('Accuracy - train: {}\\nAccuracy - test:  {}'.format(accuracy_train, accuracy_test))"
   ]
  },
  {
   "cell_type": "markdown",
   "metadata": {},
   "source": [
    "#### c) BBN - Bayesian Belief Network"
   ]
  },
  {
   "cell_type": "code",
   "execution_count": null,
   "metadata": {},
   "outputs": [],
   "source": []
  },
  {
   "cell_type": "markdown",
   "metadata": {},
   "source": [
    "## 5. Rule system"
   ]
  },
  {
   "cell_type": "markdown",
   "metadata": {},
   "source": [
    "#### a) One Rule"
   ]
  },
  {
   "cell_type": "code",
   "execution_count": null,
   "metadata": {},
   "outputs": [],
   "source": []
  },
  {
   "cell_type": "markdown",
   "metadata": {},
   "source": [
    "#### b) Zero Rule"
   ]
  },
  {
   "cell_type": "code",
   "execution_count": null,
   "metadata": {},
   "outputs": [],
   "source": []
  },
  {
   "cell_type": "markdown",
   "metadata": {},
   "source": [
    "#### c) Repeated Incremental Pruning to Produce Error Reduction"
   ]
  },
  {
   "cell_type": "code",
   "execution_count": null,
   "metadata": {},
   "outputs": [],
   "source": []
  },
  {
   "cell_type": "markdown",
   "metadata": {},
   "source": [
    "## 6. Decision Trees"
   ]
  },
  {
   "cell_type": "markdown",
   "metadata": {},
   "source": [
    "#### a) Decision Tree Classifier "
   ]
  },
  {
   "cell_type": "code",
   "execution_count": 40,
   "metadata": {},
   "outputs": [
    {
     "name": "stdout",
     "output_type": "stream",
     "text": [
      "Accuracy - train: 0.71\n",
      "Accuracy - test:  0.7\n"
     ]
    }
   ],
   "source": [
    "import os # File management \n",
    "import pandas as pd # Data tables\n",
    "from sklearn.model_selection import train_test_split # Splitting data\n",
    "from sklearn.tree import DecisionTreeClassifier # Algorithm\n",
    "\n",
    "# Load CSV file data (cleaned and preprocessed) as dataframe.\n",
    "fp = os.path.join('', 'tweets_sentiment.csv') # .join(folder, file)\n",
    "df = pd.read_csv(fp, sep='\\t', encoding='utf-8')\n",
    "\n",
    "# Prepare data.\n",
    "y =  df.loc[ :, 'sentiment_class'] # label to predict\n",
    "X =  df.loc[ :, ['retweets', 'likes', 'hashtags_number']] # features used to predict label\n",
    "X_train, X_test, y_train, y_test = train_test_split(X, y, random_state = 0)\n",
    "\n",
    "# Fit data to Decision Tree Classifier.\n",
    "DTC = DecisionTreeClassifier(max_depth = 4, min_samples_leaf = 8, random_state = 0).fit(X_train, y_train)\n",
    "\n",
    "# Predicted accuracy.\n",
    "accuracy_train = round(DTC.score(X_train, y_train), 2)\n",
    "accuracy_test  = round(DTC.score(X_test,  y_test), 2)\n",
    "\n",
    "# Predictions.\n",
    "predictions = DTC.predict(X_test)\n",
    "\n",
    "# Propabilities.\n",
    "probabilities = DTC.predict_proba(X_test)\n",
    "\n",
    "print('Accuracy - train: {}\\nAccuracy - test:  {}'.format(accuracy_train, accuracy_test))"
   ]
  },
  {
   "cell_type": "markdown",
   "metadata": {},
   "source": [
    "#### b) Decision Tree Regressor"
   ]
  },
  {
   "cell_type": "code",
   "execution_count": 46,
   "metadata": {},
   "outputs": [
    {
     "name": "stdout",
     "output_type": "stream",
     "text": [
      "Accuracy - train: 0.14\n",
      "Accuracy - test:  0.12\n"
     ]
    }
   ],
   "source": [
    "import os # File management \n",
    "import pandas as pd # Data tables\n",
    "from sklearn.model_selection import train_test_split # Splitting data\n",
    "from sklearn.tree import DecisionTreeRegressor # Decision Tree (Regressor) algorithm\n",
    "\n",
    "# Load CSV file data (cleaned and preprocessed) as dataframe.\n",
    "fp = os.path.join('', 'tweets_sentiment.csv') # .join(folder, file)\n",
    "df = pd.read_csv(fp, sep='\\t', encoding='utf-8')\n",
    "\n",
    "# Prepare data.\n",
    "y =  df.loc[ :, 'hashtags_number'] # label to predict\n",
    "X =  df.loc[ :, ['retweets', 'likes']] # features used to predict label\n",
    "X_train, X_test, y_train, y_test = train_test_split(X, y, random_state = 0)\n",
    "\n",
    "# Fit data to Decision Tree Regressor.\n",
    "DTR = DecisionTreeRegressor(max_depth = 4, min_samples_leaf = 8, random_state = 0).fit(X_train, y_train)\n",
    "\n",
    "# Predicted accuracy.\n",
    "accuracy_train = round(DTR.score(X_train, y_train), 2)\n",
    "accuracy_test  = round(DTR.score(X_test,  y_test), 2)\n",
    "\n",
    "# Predictions.\n",
    "predictions = DTR.predict(X_test)\n",
    "\n",
    "# Propabilities.\n",
    "# None\n",
    "\n",
    "print('Accuracy - train: {}\\nAccuracy - test:  {}'.format(accuracy_train, accuracy_test))"
   ]
  },
  {
   "cell_type": "markdown",
   "metadata": {},
   "source": [
    "#### c) CHAID - Chi-squared Automatic Interaction Detection"
   ]
  },
  {
   "cell_type": "code",
   "execution_count": null,
   "metadata": {},
   "outputs": [],
   "source": []
  },
  {
   "cell_type": "markdown",
   "metadata": {},
   "source": [
    "#### d) Conditional Decision Tree"
   ]
  },
  {
   "cell_type": "code",
   "execution_count": null,
   "metadata": {},
   "outputs": [],
   "source": []
  },
  {
   "cell_type": "markdown",
   "metadata": {},
   "source": [
    "## 7. Ensemble"
   ]
  },
  {
   "cell_type": "markdown",
   "metadata": {},
   "source": [
    "#### a) Random forest"
   ]
  },
  {
   "cell_type": "code",
   "execution_count": 45,
   "metadata": {},
   "outputs": [
    {
     "name": "stdout",
     "output_type": "stream",
     "text": [
      "Accuracy - train: 0.76\n",
      "Accuracy - test:  0.67\n"
     ]
    }
   ],
   "source": [
    "from sklearn.ensemble import RandomForestClassifier # Algorithm\n",
    "\n",
    "# Divide data into features(X) and labels(y).\n",
    "y =  df.loc[ :, 'sentiment_class'] # column of labels to predict\n",
    "X =  df.loc[ :, ['retweets', 'likes', 'hashtags_number']] # columns of features used to predict label\n",
    "\n",
    "# Split both features(X) and labels(y) into training and testing datasets.\n",
    "X_train, X_test, y_train, y_test = train_test_split(X, y, random_state=0)\n",
    "\n",
    "# Load and define Random Forest.\n",
    "RF = RandomForestClassifier(n_estimators='warn', \n",
    "                            criterion='gini', \n",
    "                            max_depth=None, \n",
    "                            min_samples_split=2, \n",
    "                            min_samples_leaf=1, \n",
    "                            min_weight_fraction_leaf=0.0, \n",
    "                            max_features='auto', \n",
    "                            max_leaf_nodes=None, \n",
    "                            min_impurity_decrease=0.0, \n",
    "                            min_impurity_split=None, \n",
    "                            bootstrap=True, \n",
    "                            oob_score=False, \n",
    "                            n_jobs=None, \n",
    "                            random_state=None, \n",
    "                            verbose=0, \n",
    "                            warm_start=False, \n",
    "                            class_weight=None)\n",
    "# Fit data into model.\n",
    "RF.fit(X_train, y_train)\n",
    "\n",
    "# Results.\n",
    "accuracy_train = round(RF.score(X_train, y_train), 2)\n",
    "accuracy_test  = round(RF.score(X_test,  y_test), 2)\n",
    "predictions = RF.predict(X_test) # an array.\n",
    "probabilities = RF.predict_proba(X_test) # an array.\n",
    "\n",
    "# Display results.\n",
    "print('Accuracy - train: {}\\nAccuracy - test:  {}\\nFirst three predictions (of {}): {} ...\\nFirst three propabilities (of {}): {} ...'.format(accuracy_train, accuracy_test, len(predictions), predictions[:3], len(probabilities), probabilities[:3]))\n",
    "plt.scatter(y_test, predictions)\n",
    "plt.show()"
   ]
  },
  {
   "cell_type": "markdown",
   "metadata": {},
   "source": [
    "#### b) Gradient Boosting Classifier"
   ]
  },
  {
   "cell_type": "code",
   "execution_count": null,
   "metadata": {},
   "outputs": [],
   "source": []
  },
  {
   "cell_type": "code",
   "execution_count": 49,
   "metadata": {},
   "outputs": [
    {
     "name": "stdout",
     "output_type": "stream",
     "text": [
      "Accuracy - train: 0.41\n",
      "Accuracy - test:  0.42\n"
     ]
    }
   ],
   "source": [
    "from sklearn.ensemble import GradientBoostingClassifier\n",
    "\n",
    "# Divide data into features(X) and labels(y).\n",
    "y =  df.loc[ :, 'sentiment_class'] # column of labels to predict\n",
    "X =  df.loc[ :, ['retweets', 'likes', 'hashtags_number']] # columns of features used to predict label\n",
    "\n",
    "# Split both features(X) and labels(y) into training and testing datasets.\n",
    "X_train, X_test, y_train, y_test = train_test_split(X, y, random_state=0)\n",
    "\n",
    "# Load and define Gradient Boosting Classifier.\n",
    "GBC = GradientBoostingClassifier(loss='deviance', \n",
    "                                 learning_rate=0.1, \n",
    "                                 n_estimators=100, \n",
    "                                 subsample=1.0, \n",
    "                                 criterion='friedman_mse', \n",
    "                                 min_samples_split=2, \n",
    "                                 min_samples_leaf=1, \n",
    "                                 min_weight_fraction_leaf=0.0, \n",
    "                                 max_depth=3, \n",
    "                                 min_impurity_decrease=0.0, \n",
    "                                 min_impurity_split=None, \n",
    "                                 init=None, \n",
    "                                 random_state=None, \n",
    "                                 max_features=None, \n",
    "                                 verbose=0, \n",
    "                                 max_leaf_nodes=None, \n",
    "                                 warm_start=False, \n",
    "                                 presort='auto', \n",
    "                                 validation_fraction=0.1, \n",
    "                                 n_iter_no_change=None, \n",
    "                                 tol=0.0001)\n",
    "\n",
    "# Fit data into model.\n",
    "GBC.fit(X_train, y_train)\n",
    "\n",
    "# Results.\n",
    "accuracy_train = round(GBC.score(X_train, y_train), 2)\n",
    "accuracy_test  = round(GBC.score(X_test,  y_test), 2)\n",
    "predictions = GBC.predict(X_test) # an array.\n",
    "probabilities = GBC.predict_proba(X_test) # an array.\n",
    "\n",
    "# Display results.\n",
    "print('Accuracy - train: {}\\nAccuracy - test:  {}\\nFirst three predictions (of {}): {} ...\\nFirst three propabilities (of {}): {} ...'.format(accuracy_train, accuracy_test, len(predictions), predictions[:3], len(probabilities), probabilities[:3]))\n",
    "plt.scatter(y_test, predictions)\n",
    "plt.show()"
   ]
  },
  {
   "cell_type": "markdown",
   "metadata": {},
   "source": [
    "#### c) Gradient Boosting Regressor"
   ]
  },
  {
   "cell_type": "code",
   "execution_count": 26,
   "metadata": {},
   "outputs": [
    {
     "name": "stdout",
     "output_type": "stream",
     "text": [
      "Accuracy - train: 0.11\n",
      "Accuracy - test:  0.1\n"
     ]
    }
   ],
   "source": [
    "from sklearn.ensemble import GradientBoostingRegressor\n",
    "\n",
    "# Divide data into features(X) and labels(y).\n",
    "y =  df.loc[ :, 'sentiment'] # column of labels to predict\n",
    "X =  df.loc[ :, ['retweets', 'likes', 'hashtags_number']] # columns of features used to predict label\n",
    "\n",
    "# Split both features(X) and labels(y) into training and testing datasets.\n",
    "X_train, X_test, y_train, y_test = train_test_split(X, y, random_state=0)\n",
    "\n",
    "# Load and define Gradient Boosting Regressor.\n",
    "GBR = GradientBoostingRegressor(loss='ls', \n",
    "                                learning_rate=0.1, \n",
    "                                n_estimators=100, \n",
    "                                subsample=1.0, \n",
    "                                criterion='friedman_mse', \n",
    "                                min_samples_split=2, \n",
    "                                min_samples_leaf=1,\n",
    "                                min_weight_fraction_leaf=0.0, \n",
    "                                max_depth=3, \n",
    "                                min_impurity_decrease=0.0, \n",
    "                                min_impurity_split=None, \n",
    "                                init=None, \n",
    "                                random_state=None, \n",
    "                                max_features=None, \n",
    "                                alpha=0.9, \n",
    "                                verbose=0, \n",
    "                                max_leaf_nodes=None, \n",
    "                                warm_start=False, \n",
    "                                presort='auto', \n",
    "                                validation_fraction=0.1, \n",
    "                                n_iter_no_change=None, \n",
    "                                tol=0.0001)\n",
    "\n",
    "# Fit data into model.\n",
    "GBR.fit(X_train, y_train)\n",
    "\n",
    "# Results.\n",
    "r_squared_train = round(GBR.score(X_train, y_train), 2)\n",
    "r_squared_test  = round(GBR.score(X_test,  y_test), 2)\n",
    "predictions = GBR.predict(X_test) # an array.\n",
    "# feature_importances_\n",
    "\n",
    "# Display results.\n",
    "print('R-squared - train: {}\\nR-squared - test:  {}\\nFirst three predictions (of {}): {} ...'.format(r_squared_train, r_squared_test, len(predictions), predictions[:3]))\n",
    "plt.scatter(y_test, predictions)\n",
    "plt.show()"
   ]
  },
  {
   "cell_type": "markdown",
   "metadata": {},
   "source": [
    "#### d) Bagging"
   ]
  },
  {
   "cell_type": "code",
   "execution_count": 46,
   "metadata": {},
   "outputs": [
    {
     "name": "stdout",
     "output_type": "stream",
     "text": [
      "Accuracy - train: 0.71\n",
      "Accuracy - test:  0.7\n"
     ]
    }
   ],
   "source": [
    "from sklearn.ensemble import BaggingClassifier\n",
    "from sklearn.tree import DecisionTreeClassifier\n",
    "# Prepare data.\n",
    "y =  df.loc[ :, 'sentiment_class'] # label to predict\n",
    "X =  df.loc[ :, ['retweets', 'likes', 'hashtags_number']] # features used to predict label\n",
    "X_train, X_test, y_train, y_test = train_test_split(X, y, random_state = 0)\n",
    "\n",
    "# Fit data to random forest algorithm.\n",
    "BAG = BaggingClassifier( DecisionTreeClassifier(splitter=\"random\", max_leaf_nodes=8), n_estimators=300, max_samples=100, bootstrap=True, n_jobs=-1, oob_score=True)\n",
    "BAG.fit(X_train, y_train)\n",
    "\n",
    "y_pred = BAG.predict(X_test)\n",
    "\n",
    "# Predicted accuracy.\n",
    "# accuracy_score(y_test, y_pred)\n",
    "\n",
    "accuracy_train = round(BAG.score(X_train, y_train), 2)\n",
    "accuracy_test  = round(BAG.score(X_test,  y_test), 2)\n",
    "#bag_clf.oob_score_\n",
    "\n",
    "\n",
    "# Predictions.\n",
    "predictions = BAG.predict(X_test)\n",
    "\n",
    "# Propabilities.\n",
    "probabilities = BAG.predict_proba(X_test)\n",
    "\n",
    "print('Accuracy - train: {}\\nAccuracy - test:  {}'.format(accuracy_train, accuracy_test))"
   ]
  },
  {
   "cell_type": "markdown",
   "metadata": {},
   "source": [
    "#### e) Ada Boost"
   ]
  },
  {
   "cell_type": "code",
   "execution_count": 47,
   "metadata": {},
   "outputs": [
    {
     "name": "stdout",
     "output_type": "stream",
     "text": [
      "Accuracy - train: 0.33\n",
      "Accuracy - test:  0.34\n"
     ]
    }
   ],
   "source": [
    "from sklearn.ensemble import AdaBoostClassifier\n",
    "\n",
    "# Prepare data.\n",
    "y =  df.loc[ :, 'hashtags_number'] # label to predict\n",
    "X =  df.loc[ :, ['retweets', 'likes']] # features used to predict label\n",
    "X_train, X_test, y_train, y_test = train_test_split(X, y, random_state = 0)\n",
    "\n",
    "# Fit data to ADA Boost.\n",
    "ADA = AdaBoostClassifier( DecisionTreeClassifier( max_depth=1), n_estimators=200, algorithm=\"SAMME.R\", learning_rate=0.5)\n",
    "ADA = ADA.fit(X_train, y_train)\n",
    "\n",
    "# Predicted accuracy.\n",
    "accuracy_train = round(ADA.score(X_train, y_train), 2)\n",
    "accuracy_test  = round(ADA.score(X_test,  y_test), 2)\n",
    "\n",
    "# Predictions.\n",
    "predictions = ADA.predict(X_test)\n",
    "\n",
    "# Propabilities.\n",
    "probabilities = ADA.predict_proba(X_test)\n",
    "\n",
    "print('Accuracy - train: {}\\nAccuracy - test:  {}'.format(accuracy_train, accuracy_test))"
   ]
  },
  {
   "cell_type": "markdown",
   "metadata": {},
   "source": [
    "## 8. Clustering"
   ]
  },
  {
   "cell_type": "markdown",
   "metadata": {},
   "source": [
    "#### a) K-Means"
   ]
  },
  {
   "cell_type": "code",
   "execution_count": 55,
   "metadata": {},
   "outputs": [
    {
     "name": "stdout",
     "output_type": "stream",
     "text": [
      "Metric - train: -16180677.45\n",
      "Metric - test:  -2414390.08\n"
     ]
    }
   ],
   "source": [
    "import os # File management \n",
    "import pandas as pd # Data tables\n",
    "from sklearn.model_selection import train_test_split # Splitting data\n",
    "from sklearn.cluster import KMeans\n",
    "from sklearn.metrics import accuracy_score \n",
    "\n",
    "# Load CSV file data (cleaned and preprocessed) as dataframe.\n",
    "fp = os.path.join('', 'tweets_sentiment.csv') # .join(folder, file)\n",
    "df = pd.read_csv(fp, sep='\\t', encoding='utf-8')\n",
    "\n",
    "# Prepare data.\n",
    "y =  df.loc[ :, 'hashtags_number'] # label to predict\n",
    "X =  df.loc[ :, ['retweets', 'likes']] # features used to predict label\n",
    "X_train, X_test, y_train, y_test = train_test_split(X, y, random_state = 0)\n",
    "\n",
    "# Fit data to K Means.\n",
    "KM = KMeans(n_clusters=3, random_state=0).fit(X_train, y_train)\n",
    "\n",
    "# Predicted accuracy.\n",
    "accuracy_train = round(KM.score(X_train, y_train), 2)\n",
    "accuracy_test  = round(KM.score(X_test,  y_test), 2)\n",
    "\n",
    "# Predictions.\n",
    "predictions = KM.predict(X_test)\n",
    "\n",
    "print('Metric - train: {}\\nMetric - test:  {}'.format(accuracy_train, accuracy_test))\n",
    "#print('Coefficients:\\n', clf.coef_)\n",
    "#print('Intercepts:\\n', clf.intercept_)"
   ]
  },
  {
   "cell_type": "markdown",
   "metadata": {},
   "source": [
    "#### b) KN-Means"
   ]
  },
  {
   "cell_type": "markdown",
   "metadata": {},
   "source": []
  },
  {
   "cell_type": "markdown",
   "metadata": {},
   "source": [
    "#### c) K-Medians"
   ]
  },
  {
   "cell_type": "code",
   "execution_count": null,
   "metadata": {},
   "outputs": [],
   "source": []
  },
  {
   "cell_type": "markdown",
   "metadata": {},
   "source": [
    "#### d) Hierarchical Clustering"
   ]
  },
  {
   "cell_type": "markdown",
   "metadata": {},
   "source": [
    "## 9. Dimensionallity Reduction:"
   ]
  },
  {
   "cell_type": "markdown",
   "metadata": {},
   "source": [
    "#### PCA - Principial Component Analysis"
   ]
  },
  {
   "cell_type": "code",
   "execution_count": null,
   "metadata": {},
   "outputs": [],
   "source": []
  },
  {
   "cell_type": "markdown",
   "metadata": {},
   "source": [
    "#### LDA - Linear Discriminant Analysis"
   ]
  },
  {
   "cell_type": "code",
   "execution_count": null,
   "metadata": {},
   "outputs": [],
   "source": []
  },
  {
   "cell_type": "markdown",
   "metadata": {},
   "source": [
    "#### RDA - Principial Component Regression\n",
    " "
   ]
  },
  {
   "cell_type": "code",
   "execution_count": null,
   "metadata": {},
   "outputs": [],
   "source": []
  },
  {
   "cell_type": "markdown",
   "metadata": {},
   "source": [
    "\n",
    "\n",
    "\n",
    "More algorithms will be added later. "
   ]
  },
  {
   "cell_type": "markdown",
   "metadata": {},
   "source": [
    "# 4. Commonly used\n",
    "\n",
    "Commonly used:\n",
    "1. Basics\n",
    "2. Feature transformation\n",
    "3. Metrics\n",
    "4. Tunning\n",
    "5. Pipelines"
   ]
  },
  {
   "cell_type": "markdown",
   "metadata": {},
   "source": [
    "## 1. Basics"
   ]
  },
  {
   "cell_type": "code",
   "execution_count": null,
   "metadata": {},
   "outputs": [],
   "source": [
    "# Build-in datasets:\n",
    "from sklearn.datasets import load_iris\n",
    "iris = datasets.load_iris()\n",
    "\n",
    "from sklearn.datasets import fetch_mldata\n",
    "mnist = fetch_mldata('MNIST original')\n",
    "\n",
    "\n",
    "# Data generators:\n",
    "\n",
    "from sklearn.datasets.samples_generator import make_swiss_roll\n",
    "\n",
    "\n",
    "# Train / Test split:\n",
    "\n",
    "from sklearn.model_selection import train_test_split\n",
    "x_train, x_test, y_train, y_test = train_test_split(x, y, train_size=0.8, test_size=0.2)\n",
    "x_train, x_test, y_train, y_test = train_test_split(x, y, random_state=0)\n",
    "\n",
    "\n",
    "# Model Fitting:\n",
    "\n",
    "# Supervised.\n",
    "lr.fit(X_train, y_train) # svc, knn (...)\n",
    "\n",
    "# Unsupervised.\n",
    "k_means.fit(X_train)\n",
    "\n",
    "# Dimension Reduction.\n",
    "pca_model = pca.fit_transform(X_train)\n",
    "\n",
    "\n",
    "# Predictions:\n",
    "\n",
    "# Predict labels value.\n",
    "predictions = lr.predict(X_test) # k_means, svc (...)\n",
    "\n",
    "# Predict labels propability.\n",
    "propabilities = knn.predict_proba(X_test) "
   ]
  },
  {
   "cell_type": "markdown",
   "metadata": {},
   "source": [
    "## 2. Feature transformation"
   ]
  },
  {
   "cell_type": "markdown",
   "metadata": {},
   "source": [
    "Preprocessing data (more in data-preprocessing-toolkit)"
   ]
  },
  {
   "cell_type": "code",
   "execution_count": null,
   "metadata": {},
   "outputs": [],
   "source": [
    "# Missing Values\n",
    "from sklearn.preprocessing import Imputer\n",
    "imp = Imputer(missing_values=0, strategy='mean', axis=0)\n",
    "imp.fit_transform(X_train)\n",
    "\n",
    "# Standarization\n",
    "from sklearn.preprocessing import StandardScaler\n",
    "scaler = StandardScaler().fit(X_train)\n",
    "standardized_X = scaler.transform(X_train)\n",
    "standardized_X_test = scaler.transform(X_test)\n",
    "\n",
    "# Normalization\n",
    "from sklearn.preprocessing import Normalizer\n",
    "scaler = Normalizer().fit(X_train)\n",
    "normalized_X = scaler.transform(X_train)\n",
    "normalized_X_test = scaler.transform(X_test)\n",
    "\n",
    "# Binarization\n",
    "from sklearn.preprocessing import Binarizer\n",
    "binarizer = Binarizer(threshold=0.0).fit(X)\n",
    "binary_X = binarizer.transform(X)\n",
    "\n",
    "# Encoding Categorical Features\n",
    "from sklearn.preprocessing import LabelEncoder\n",
    "enc = LabelEncoder()\n",
    "y = enc.fit_transform(y)\n",
    "\n",
    "# Generating Polynomial Features\n",
    "from sklearn.preprocessing import PolynomialFeatures\n",
    "poly = PolynomialFeatures(5)\n",
    "poly.fit_transform(X)\n",
    "\n",
    "# One hot encoding\n",
    "from sklearn.preprocessing import OneHotEncoder\n",
    "encoder = OneHotEncoder()\n",
    "DATA_onehot = encoder.fit_transform(DATA.reshape(-1,1))\n",
    "DATA_onehot"
   ]
  },
  {
   "cell_type": "markdown",
   "metadata": {},
   "source": [
    "## 3. Metrics"
   ]
  },
  {
   "cell_type": "code",
   "execution_count": null,
   "metadata": {},
   "outputs": [],
   "source": [
    "# Classification metrics\n",
    "# ----------------------\n",
    "\n",
    "knn.score(X_test, y_test) # Estimator score method\n",
    "\n",
    "# Accuracy Score\n",
    "from sklearn.metrics import accuracy_score\n",
    "print(accuracy_score(y_test, y_pred))\n",
    "\n",
    "# Classification Report\n",
    "from sklearn.metrics import classification_report\n",
    "print(classification_report(y_test, y_pred))\n",
    "\n",
    "# Confusion Matrix\n",
    "from sklearn.metrics import confusion_matrix\n",
    "print(confusion_matrix(y_test, y_pred))\n",
    "\n",
    "# Recall\n",
    "from sklearn.metrics import recall_score\n",
    "print(recall_score(true_labels, guesses))\n",
    "\n",
    "# Precision score\n",
    "from sklearn.metrics import precision_score\n",
    "print(precision_score(true_labels, guesses))\n",
    "\n",
    "# F1\n",
    "from sklearn.metrics import f1_score\n",
    "print(f1_score(true_labels, guesses))\n",
    "\n",
    "\n",
    "# Regression Metrics\n",
    "# ------------------\n",
    "\n",
    "# Mean Absolute Error\n",
    "from sklearn.metrics import mean_absolute_error\n",
    "y_true = [3, -0.5, 2]\n",
    "mean_absolute_error(y_true, y_pred)\n",
    "\n",
    "# Mean Squared Error\n",
    "from sklearn.metrics import mean_squared_error\n",
    "mean_squared_error(y_test, y_pred)\n",
    "\n",
    "# R² Score\n",
    "from sklearn.metrics import r2_score\n",
    "r2_score(y_true, y_pred)\n",
    "\n",
    "\n",
    "# Clustering Metrics\n",
    "# ------------------\n",
    "\n",
    "# Adjusted Rand Index\n",
    "from sklearn.metrics import adjusted_rand_score\n",
    "adjusted_rand_score(y_true, y_pred)\n",
    "\n",
    "# Homogeneity\n",
    "from sklearn.metrics import homogeneity_score\n",
    "homogeneity_score(y_true, y_pred)\n",
    "\n",
    "# V-measure\n",
    "from sklearn.metrics import v_measure_score\n",
    "metrics.v_measure_score(y_true, y_pred)"
   ]
  },
  {
   "cell_type": "markdown",
   "metadata": {},
   "source": [
    "## 4. Model tuning"
   ]
  },
  {
   "cell_type": "code",
   "execution_count": null,
   "metadata": {},
   "outputs": [],
   "source": []
  },
  {
   "cell_type": "markdown",
   "metadata": {},
   "source": [
    "## 5. Pipelines"
   ]
  },
  {
   "cell_type": "code",
   "execution_count": null,
   "metadata": {},
   "outputs": [],
   "source": []
  },
  {
   "cell_type": "markdown",
   "metadata": {},
   "source": [
    "To be updated.\n",
    "\n",
    "By Luke, 10 II 2019."
   ]
  }
 ],
 "metadata": {
  "kernelspec": {
   "display_name": "Python 3",
   "language": "python",
   "name": "python3"
  },
  "language_info": {
   "codemirror_mode": {
    "name": "ipython",
    "version": 3
   },
   "file_extension": ".py",
   "mimetype": "text/x-python",
   "name": "python",
   "nbconvert_exporter": "python",
   "pygments_lexer": "ipython3",
   "version": "3.6.8"
  }
 },
 "nbformat": 4,
 "nbformat_minor": 2
}
