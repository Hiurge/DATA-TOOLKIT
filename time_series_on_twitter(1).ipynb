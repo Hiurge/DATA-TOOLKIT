{
 "cells": [
  {
   "cell_type": "code",
   "execution_count": null,
   "metadata": {},
   "outputs": [],
   "source": [
    "# Just forging general schema"
   ]
  },
  {
   "cell_type": "code",
   "execution_count": 11,
   "metadata": {},
   "outputs": [],
   "source": [
    "from twython import Twython\n",
    "import pandas as pd\n",
    "import json\n",
    "\n",
    "# Getting tweets from user timeline\n",
    "# ---------------------------------\n",
    "def connect_to_twitter(twitter_auth_path):\n",
    "    with open(twitter_auth_path, 'r') as f:\n",
    "        twitter_auth = json.load(f)\n",
    "        APP_KEY = twitter_auth['APP_KEY'] # your app key\n",
    "        APP_SECRET = twitter_auth['APP_SECRET'] # your app secret\n",
    "        OAUTH_TOKEN = twitter_auth['OAUTH_TOKEN'] # your oauth token\n",
    "        OAUTH_TOKEN_SECRET = twitter_auth['OAUTH_TOKEN_SECRET'] # your oauth token secret\n",
    "    twitter = Twython(APP_KEY, APP_SECRET, OAUTH_TOKEN, OAUTH_TOKEN_SECRET)\n",
    "    return twitter\n",
    "\n",
    "# Pick intresting data from Twitter API response file\n",
    "# ------------------------------------------------------\n",
    "def get_tweet_data(tweet, tweet_data):        \n",
    "    tweet_data['text'] = tweet['text']\n",
    "    tweet_data['hashtags'] = get_hashtags_string(tweet)\n",
    "    tweet_data['link'] = get_expanded_url_of_link_in_tweet(tweet)\n",
    "    tweet_data['tweet_id'] = tweet['id']\n",
    "    tweet_data['created_at'] = tweet['created_at']\n",
    "    tweet_data['retweet_count'] = tweet['retweet_count']\n",
    "    tweet_data['favorite_count'] = tweet['favorite_count']\n",
    "    tweet_data['in_reply_to_status_id'] = tweet['in_reply_to_status_id']\n",
    "    tweet_data['in_reply_to_screen_name'] = tweet['in_reply_to_screen_name']    \n",
    "    return tweet_data\n",
    "\n",
    "def get_tweet_author_data(tweet, tweet_data):\n",
    "    tweet_data['author'] = tweet['user']['screen_name']\n",
    "    tweet_data['account_created_at'] = tweet['user']['created_at']\n",
    "    tweet_data['author_description'] = tweet['user']['description']\n",
    "    tweet_data['author_id'] = tweet['user']['id']\n",
    "    tweet_data['author_location'] = tweet['user']['location']\n",
    "    tweet_data['author_statuses_count'] = tweet['user']['statuses_count']\n",
    "    tweet_data['author_followers_count'] = tweet['user']['followers_count']\n",
    "    tweet_data['author_friends_count'] = tweet['user']['friends_count']\n",
    "    tweet_data['author_favourites_count'] = tweet['user']['favourites_count']\n",
    "    tweet_data['author_listed_count'] = tweet['user']['listed_count']\n",
    "    tweet_data['author_url'] = get_expanded_url_of_link_in_author_account(tweet)   \n",
    "    return tweet_data\n",
    "\n",
    "# Helpers for extracting Twitter API response file\n",
    "# ------------------------------------------------\n",
    "def get_hashtags_string(tweet):\n",
    "    hashtags_string = ''\n",
    "    for nr in range(len(tweet['entities']['hashtags'])):\n",
    "        hashtags_string += tweet['entities']['hashtags'][nr]['text'] + ' '\n",
    "    if not hashtags_string:\n",
    "        hashtags_string = 'NO_HASHTAGS'\n",
    "    return hashtags_string\n",
    "\n",
    "def get_expanded_url_of_link_in_tweet(tweet):\n",
    "    url = tweet['entities']['urls']\n",
    "    if url:\n",
    "        return url[0]['expanded_url']\n",
    "    else:\n",
    "        return None\n",
    "    \n",
    "def get_expanded_url_of_link_in_author_account(tweet):\n",
    "    url = tweet['user']['entities']['url']['urls']\n",
    "    if url:\n",
    "        return url[0]['expanded_url']\n",
    "    else:\n",
    "        return None\n",
    "\n",
    "# Save tweets dataset\n",
    "# -------------------\n",
    "def save_tweets_as_CSV(save_path, all_tweets_list, tweet_nr):\n",
    "    tweet_df = pd.DataFrame(all_tweets_list)\n",
    "    tweet_df.to_csv(save_path+'.csv', sep='\\t', encoding='utf-8', index=False)\n",
    "    print('{} tweets saved to {}'.format(tweet_nr, save_path+'.csv'))\n",
    "\n",
    "def save_tweets_as_JSON(save_path, all_tweets, tweet_nr):\n",
    "    with open(save_path+'.json', 'w') as f:\n",
    "        json.dump(all_tweets, f)\n",
    "        print('{} tweets saved to {}'.format(tweet_nr, save_path+'.json'))\n",
    "\n",
    "# Main\n",
    "# ----\n",
    "def get_twitter_user_timeline(twitter, account_name):\n",
    "    search_pages = twitter.cursor(twitter.get_user_timeline, screen_name=account_name, return_pages=True, count=200)\n",
    "    return search_pages\n",
    "\n",
    "def get_all_tweets_from_user_timelne(search_pages, save_path):\n",
    "    try:\n",
    "        all_tweets, all_tweets_list = {}, []\n",
    "        tweet_nr, page_nr = 0, 0\n",
    "        for page in search_pages:\n",
    "            page_nr +=1\n",
    "            for tweet in page:\n",
    "                tweet_nr +=1\n",
    "                tweet_data = {}\n",
    "                tweet_data = get_tweet_data(tweet, tweet_data)\n",
    "                tweet_data = get_tweet_author_data(tweet, tweet_data)\n",
    "                all_tweets[str(tweet_nr)] = tweet_data\n",
    "                all_tweets_list.append(tweet_data)\n",
    "            print('Pages done: {}, tweets done: {}'.format(page_nr, tweet_nr))\n",
    "    except:\n",
    "        #pass\n",
    "        save_tweets_as_JSON(save_path, all_tweets, tweet_nr)\n",
    "    save_tweets_as_CSV(save_path, all_tweets_list, tweet_nr)\n",
    "\n",
    "def get_user_tweets(account_name, save_path, twitter_auth_path):\n",
    "    twitter = connect_to_twitter(twitter_auth_path)\n",
    "    search_pages = get_twitter_user_timeline(twitter, account_name)\n",
    "    get_all_tweets_from_user_timelne(search_pages, save_path)\n",
    "    \n"
   ]
  },
  {
   "cell_type": "code",
   "execution_count": 12,
   "metadata": {},
   "outputs": [
    {
     "name": "stdout",
     "output_type": "stream",
     "text": [
      "Pages done: 1, tweets done: 200\n",
      "Pages done: 2, tweets done: 400\n",
      "Pages done: 3, tweets done: 600\n",
      "Pages done: 4, tweets done: 799\n",
      "Pages done: 5, tweets done: 999\n",
      "Pages done: 6, tweets done: 1199\n",
      "Pages done: 7, tweets done: 1399\n",
      "Pages done: 8, tweets done: 1599\n",
      "Pages done: 9, tweets done: 1799\n",
      "Pages done: 10, tweets done: 1999\n",
      "Pages done: 11, tweets done: 2199\n",
      "Pages done: 12, tweets done: 2399\n",
      "Pages done: 13, tweets done: 2599\n",
      "Pages done: 14, tweets done: 2799\n",
      "Pages done: 15, tweets done: 2999\n",
      "Pages done: 16, tweets done: 3199\n",
      "Pages done: 17, tweets done: 3220\n",
      "3220 tweets saved to karpathy_timeline_tweets.csv\n"
     ]
    },
    {
     "name": "stderr",
     "output_type": "stream",
     "text": [
      "/home/luke/anaconda3/lib/python3.6/site-packages/ipykernel_launcher.py:97: DeprecationWarning: generator 'Twython.cursor' raised StopIteration\n"
     ]
    }
   ],
   "source": [
    "# Example with A. Karpathy Twitter page\n",
    "# -------------------------------------\n",
    "get_user_tweets('karpathy' , 'karpathy_timeline_tweets', 'twitter_auth.json')"
   ]
  },
  {
   "cell_type": "code",
   "execution_count": 13,
   "metadata": {},
   "outputs": [
    {
     "name": "stdout",
     "output_type": "stream",
     "text": [
      "Pages done: 1, tweets done: 200\n",
      "Pages done: 2, tweets done: 400\n",
      "Pages done: 3, tweets done: 600\n",
      "Pages done: 4, tweets done: 800\n",
      "Pages done: 5, tweets done: 1000\n",
      "Pages done: 6, tweets done: 1200\n",
      "Pages done: 7, tweets done: 1400\n",
      "Pages done: 8, tweets done: 1600\n",
      "Pages done: 9, tweets done: 1800\n",
      "Pages done: 10, tweets done: 2000\n",
      "Pages done: 11, tweets done: 2199\n",
      "Pages done: 12, tweets done: 2398\n",
      "Pages done: 13, tweets done: 2598\n",
      "Pages done: 14, tweets done: 2798\n",
      "Pages done: 15, tweets done: 2998\n",
      "Pages done: 16, tweets done: 3198\n",
      "Pages done: 17, tweets done: 3246\n",
      "3246 tweets saved to ylecun_timeline_tweets.csv\n"
     ]
    },
    {
     "name": "stderr",
     "output_type": "stream",
     "text": [
      "/home/luke/anaconda3/lib/python3.6/site-packages/ipykernel_launcher.py:97: DeprecationWarning: generator 'Twython.cursor' raised StopIteration\n"
     ]
    }
   ],
   "source": [
    "# Example with Y. LeCun Twitter page\n",
    "# ----------------------------------\n",
    "get_user_tweets('ylecun' , 'ylecun_timeline_tweets', 'twitter_auth.json')"
   ]
  },
  {
   "cell_type": "code",
   "execution_count": 17,
   "metadata": {},
   "outputs": [],
   "source": [
    "karpathy_df = pd.read_csv(\"karpathy_timeline_tweets.csv\", sep='\\t', )\n",
    "ylecun_df = pd.read_csv(\"ylecun_timeline_tweets.csv\", sep='\\t', )\n",
    "\n",
    "kdf = karpathy_df.copy(deep=True)\n",
    "ydf = ylecun_df.copy(deep=True)"
   ]
  },
  {
   "cell_type": "code",
   "execution_count": 21,
   "metadata": {},
   "outputs": [
    {
     "name": "stdout",
     "output_type": "stream",
     "text": [
      "(3220, 20)\n"
     ]
    },
    {
     "data": {
      "text/html": [
       "<div>\n",
       "<style scoped>\n",
       "    .dataframe tbody tr th:only-of-type {\n",
       "        vertical-align: middle;\n",
       "    }\n",
       "\n",
       "    .dataframe tbody tr th {\n",
       "        vertical-align: top;\n",
       "    }\n",
       "\n",
       "    .dataframe thead th {\n",
       "        text-align: right;\n",
       "    }\n",
       "</style>\n",
       "<table border=\"1\" class=\"dataframe\">\n",
       "  <thead>\n",
       "    <tr style=\"text-align: right;\">\n",
       "      <th></th>\n",
       "      <th>account_created_at</th>\n",
       "      <th>author</th>\n",
       "      <th>author_description</th>\n",
       "      <th>author_favourites_count</th>\n",
       "      <th>author_followers_count</th>\n",
       "      <th>author_friends_count</th>\n",
       "      <th>author_id</th>\n",
       "      <th>author_listed_count</th>\n",
       "      <th>author_location</th>\n",
       "      <th>author_statuses_count</th>\n",
       "      <th>author_url</th>\n",
       "      <th>created_at</th>\n",
       "      <th>favorite_count</th>\n",
       "      <th>hashtags</th>\n",
       "      <th>in_reply_to_screen_name</th>\n",
       "      <th>in_reply_to_status_id</th>\n",
       "      <th>link</th>\n",
       "      <th>retweet_count</th>\n",
       "      <th>text</th>\n",
       "      <th>tweet_id</th>\n",
       "    </tr>\n",
       "  </thead>\n",
       "  <tbody>\n",
       "    <tr>\n",
       "      <th>0</th>\n",
       "      <td>Tue Apr 21 06:49:15 +0000 2009</td>\n",
       "      <td>karpathy</td>\n",
       "      <td>Director of AI at Tesla. Previously a Research...</td>\n",
       "      <td>2814</td>\n",
       "      <td>216549</td>\n",
       "      <td>495</td>\n",
       "      <td>33836629</td>\n",
       "      <td>3485</td>\n",
       "      <td>Stanford</td>\n",
       "      <td>6162</td>\n",
       "      <td>http://cs.stanford.edu/~karpathy/</td>\n",
       "      <td>Sat Jun 15 05:34:42 +0000 2019</td>\n",
       "      <td>0</td>\n",
       "      <td>NO_HASHTAGS</td>\n",
       "      <td>NaN</td>\n",
       "      <td>NaN</td>\n",
       "      <td>https://distill.pub/2019/activation-atlas/</td>\n",
       "      <td>122</td>\n",
       "      <td>RT @shancarter: A new way of looking inside vi...</td>\n",
       "      <td>1139768169441067008</td>\n",
       "    </tr>\n",
       "    <tr>\n",
       "      <th>1</th>\n",
       "      <td>Tue Apr 21 06:49:15 +0000 2009</td>\n",
       "      <td>karpathy</td>\n",
       "      <td>Director of AI at Tesla. Previously a Research...</td>\n",
       "      <td>2814</td>\n",
       "      <td>216549</td>\n",
       "      <td>495</td>\n",
       "      <td>33836629</td>\n",
       "      <td>3485</td>\n",
       "      <td>Stanford</td>\n",
       "      <td>6162</td>\n",
       "      <td>http://cs.stanford.edu/~karpathy/</td>\n",
       "      <td>Sat Jun 15 05:15:05 +0000 2019</td>\n",
       "      <td>19</td>\n",
       "      <td>NO_HASHTAGS</td>\n",
       "      <td>slashML</td>\n",
       "      <td>1.139472e+18</td>\n",
       "      <td>NaN</td>\n",
       "      <td>3</td>\n",
       "      <td>@slashML @MattDeitke @MattDeitke awesome!! :)</td>\n",
       "      <td>1139763235077287937</td>\n",
       "    </tr>\n",
       "    <tr>\n",
       "      <th>2</th>\n",
       "      <td>Tue Apr 21 06:49:15 +0000 2009</td>\n",
       "      <td>karpathy</td>\n",
       "      <td>Director of AI at Tesla. Previously a Research...</td>\n",
       "      <td>2814</td>\n",
       "      <td>216549</td>\n",
       "      <td>495</td>\n",
       "      <td>33836629</td>\n",
       "      <td>3485</td>\n",
       "      <td>Stanford</td>\n",
       "      <td>6162</td>\n",
       "      <td>http://cs.stanford.edu/~karpathy/</td>\n",
       "      <td>Sat Jun 15 00:53:51 +0000 2019</td>\n",
       "      <td>951</td>\n",
       "      <td>NO_HASHTAGS</td>\n",
       "      <td>NaN</td>\n",
       "      <td>NaN</td>\n",
       "      <td>https://youtu.be/dKjCWfuvYxQ</td>\n",
       "      <td>260</td>\n",
       "      <td>Boston Dynamics: New Robots Now Fight Back htt...</td>\n",
       "      <td>1139697492277125120</td>\n",
       "    </tr>\n",
       "  </tbody>\n",
       "</table>\n",
       "</div>"
      ],
      "text/plain": [
       "               account_created_at    author  \\\n",
       "0  Tue Apr 21 06:49:15 +0000 2009  karpathy   \n",
       "1  Tue Apr 21 06:49:15 +0000 2009  karpathy   \n",
       "2  Tue Apr 21 06:49:15 +0000 2009  karpathy   \n",
       "\n",
       "                                  author_description  author_favourites_count  \\\n",
       "0  Director of AI at Tesla. Previously a Research...                     2814   \n",
       "1  Director of AI at Tesla. Previously a Research...                     2814   \n",
       "2  Director of AI at Tesla. Previously a Research...                     2814   \n",
       "\n",
       "   author_followers_count  author_friends_count  author_id  \\\n",
       "0                  216549                   495   33836629   \n",
       "1                  216549                   495   33836629   \n",
       "2                  216549                   495   33836629   \n",
       "\n",
       "   author_listed_count author_location  author_statuses_count  \\\n",
       "0                 3485        Stanford                   6162   \n",
       "1                 3485        Stanford                   6162   \n",
       "2                 3485        Stanford                   6162   \n",
       "\n",
       "                          author_url                      created_at  \\\n",
       "0  http://cs.stanford.edu/~karpathy/  Sat Jun 15 05:34:42 +0000 2019   \n",
       "1  http://cs.stanford.edu/~karpathy/  Sat Jun 15 05:15:05 +0000 2019   \n",
       "2  http://cs.stanford.edu/~karpathy/  Sat Jun 15 00:53:51 +0000 2019   \n",
       "\n",
       "   favorite_count     hashtags in_reply_to_screen_name  in_reply_to_status_id  \\\n",
       "0               0  NO_HASHTAGS                     NaN                    NaN   \n",
       "1              19  NO_HASHTAGS                 slashML           1.139472e+18   \n",
       "2             951  NO_HASHTAGS                     NaN                    NaN   \n",
       "\n",
       "                                         link  retweet_count  \\\n",
       "0  https://distill.pub/2019/activation-atlas/            122   \n",
       "1                                         NaN              3   \n",
       "2                https://youtu.be/dKjCWfuvYxQ            260   \n",
       "\n",
       "                                                text             tweet_id  \n",
       "0  RT @shancarter: A new way of looking inside vi...  1139768169441067008  \n",
       "1      @slashML @MattDeitke @MattDeitke awesome!! :)  1139763235077287937  \n",
       "2  Boston Dynamics: New Robots Now Fight Back htt...  1139697492277125120  "
      ]
     },
     "execution_count": 21,
     "metadata": {},
     "output_type": "execute_result"
    }
   ],
   "source": [
    "print(kdf.shape)\n",
    "kdf.head(3)"
   ]
  },
  {
   "cell_type": "code",
   "execution_count": 22,
   "metadata": {},
   "outputs": [
    {
     "name": "stdout",
     "output_type": "stream",
     "text": [
      "(3246, 20)\n"
     ]
    },
    {
     "data": {
      "text/html": [
       "<div>\n",
       "<style scoped>\n",
       "    .dataframe tbody tr th:only-of-type {\n",
       "        vertical-align: middle;\n",
       "    }\n",
       "\n",
       "    .dataframe tbody tr th {\n",
       "        vertical-align: top;\n",
       "    }\n",
       "\n",
       "    .dataframe thead th {\n",
       "        text-align: right;\n",
       "    }\n",
       "</style>\n",
       "<table border=\"1\" class=\"dataframe\">\n",
       "  <thead>\n",
       "    <tr style=\"text-align: right;\">\n",
       "      <th></th>\n",
       "      <th>account_created_at</th>\n",
       "      <th>author</th>\n",
       "      <th>author_description</th>\n",
       "      <th>author_favourites_count</th>\n",
       "      <th>author_followers_count</th>\n",
       "      <th>author_friends_count</th>\n",
       "      <th>author_id</th>\n",
       "      <th>author_listed_count</th>\n",
       "      <th>author_location</th>\n",
       "      <th>author_statuses_count</th>\n",
       "      <th>author_url</th>\n",
       "      <th>created_at</th>\n",
       "      <th>favorite_count</th>\n",
       "      <th>hashtags</th>\n",
       "      <th>in_reply_to_screen_name</th>\n",
       "      <th>in_reply_to_status_id</th>\n",
       "      <th>link</th>\n",
       "      <th>retweet_count</th>\n",
       "      <th>text</th>\n",
       "      <th>tweet_id</th>\n",
       "    </tr>\n",
       "  </thead>\n",
       "  <tbody>\n",
       "    <tr>\n",
       "      <th>0</th>\n",
       "      <td>Wed Jun 17 16:05:51 +0000 2009</td>\n",
       "      <td>ylecun</td>\n",
       "      <td>NaN</td>\n",
       "      <td>2160</td>\n",
       "      <td>144042</td>\n",
       "      <td>219</td>\n",
       "      <td>48008938</td>\n",
       "      <td>2641</td>\n",
       "      <td>New York</td>\n",
       "      <td>3401</td>\n",
       "      <td>http://yann.lecun.com</td>\n",
       "      <td>Mon Jun 17 05:03:00 +0000 2019</td>\n",
       "      <td>0</td>\n",
       "      <td>NO_HASHTAGS</td>\n",
       "      <td>NaN</td>\n",
       "      <td>NaN</td>\n",
       "      <td>NaN</td>\n",
       "      <td>26</td>\n",
       "      <td>RT @RealAAAI: Fantastic night of @TheOfficialA...</td>\n",
       "      <td>1140484967866101763</td>\n",
       "    </tr>\n",
       "    <tr>\n",
       "      <th>1</th>\n",
       "      <td>Wed Jun 17 16:05:51 +0000 2009</td>\n",
       "      <td>ylecun</td>\n",
       "      <td>NaN</td>\n",
       "      <td>2160</td>\n",
       "      <td>144042</td>\n",
       "      <td>219</td>\n",
       "      <td>48008938</td>\n",
       "      <td>2641</td>\n",
       "      <td>New York</td>\n",
       "      <td>3401</td>\n",
       "      <td>http://yann.lecun.com</td>\n",
       "      <td>Mon Jun 17 02:26:28 +0000 2019</td>\n",
       "      <td>349</td>\n",
       "      <td>NO_HASHTAGS</td>\n",
       "      <td>NaN</td>\n",
       "      <td>NaN</td>\n",
       "      <td>https://twitter.com/i/web/status/1140445577408...</td>\n",
       "      <td>85</td>\n",
       "      <td>Berkeley/FAIR AI revolution slogans:\\n- Jitend...</td>\n",
       "      <td>1140445577408327683</td>\n",
       "    </tr>\n",
       "    <tr>\n",
       "      <th>2</th>\n",
       "      <td>Wed Jun 17 16:05:51 +0000 2009</td>\n",
       "      <td>ylecun</td>\n",
       "      <td>NaN</td>\n",
       "      <td>2160</td>\n",
       "      <td>144042</td>\n",
       "      <td>219</td>\n",
       "      <td>48008938</td>\n",
       "      <td>2641</td>\n",
       "      <td>New York</td>\n",
       "      <td>3401</td>\n",
       "      <td>http://yann.lecun.com</td>\n",
       "      <td>Sun Jun 16 17:55:40 +0000 2019</td>\n",
       "      <td>0</td>\n",
       "      <td>NO_HASHTAGS</td>\n",
       "      <td>NaN</td>\n",
       "      <td>NaN</td>\n",
       "      <td>NaN</td>\n",
       "      <td>50</td>\n",
       "      <td>RT @theofpa: Jeff Dean of Google delivering th...</td>\n",
       "      <td>1140317030442098688</td>\n",
       "    </tr>\n",
       "  </tbody>\n",
       "</table>\n",
       "</div>"
      ],
      "text/plain": [
       "               account_created_at  author  author_description  \\\n",
       "0  Wed Jun 17 16:05:51 +0000 2009  ylecun                 NaN   \n",
       "1  Wed Jun 17 16:05:51 +0000 2009  ylecun                 NaN   \n",
       "2  Wed Jun 17 16:05:51 +0000 2009  ylecun                 NaN   \n",
       "\n",
       "   author_favourites_count  author_followers_count  author_friends_count  \\\n",
       "0                     2160                  144042                   219   \n",
       "1                     2160                  144042                   219   \n",
       "2                     2160                  144042                   219   \n",
       "\n",
       "   author_id  author_listed_count author_location  author_statuses_count  \\\n",
       "0   48008938                 2641        New York                   3401   \n",
       "1   48008938                 2641        New York                   3401   \n",
       "2   48008938                 2641        New York                   3401   \n",
       "\n",
       "              author_url                      created_at  favorite_count  \\\n",
       "0  http://yann.lecun.com  Mon Jun 17 05:03:00 +0000 2019               0   \n",
       "1  http://yann.lecun.com  Mon Jun 17 02:26:28 +0000 2019             349   \n",
       "2  http://yann.lecun.com  Sun Jun 16 17:55:40 +0000 2019               0   \n",
       "\n",
       "      hashtags in_reply_to_screen_name  in_reply_to_status_id  \\\n",
       "0  NO_HASHTAGS                     NaN                    NaN   \n",
       "1  NO_HASHTAGS                     NaN                    NaN   \n",
       "2  NO_HASHTAGS                     NaN                    NaN   \n",
       "\n",
       "                                                link  retweet_count  \\\n",
       "0                                                NaN             26   \n",
       "1  https://twitter.com/i/web/status/1140445577408...             85   \n",
       "2                                                NaN             50   \n",
       "\n",
       "                                                text             tweet_id  \n",
       "0  RT @RealAAAI: Fantastic night of @TheOfficialA...  1140484967866101763  \n",
       "1  Berkeley/FAIR AI revolution slogans:\\n- Jitend...  1140445577408327683  \n",
       "2  RT @theofpa: Jeff Dean of Google delivering th...  1140317030442098688  "
      ]
     },
     "execution_count": 22,
     "metadata": {},
     "output_type": "execute_result"
    }
   ],
   "source": [
    "print(ydf.shape)\n",
    "ydf.head(3)"
   ]
  },
  {
   "cell_type": "code",
   "execution_count": 23,
   "metadata": {},
   "outputs": [],
   "source": [
    "pd.options.display.max_colwidth = 300"
   ]
  },
  {
   "cell_type": "code",
   "execution_count": 28,
   "metadata": {},
   "outputs": [],
   "source": [
    "import numpy as np  \n",
    "import matplotlib.pyplot as plt  \n",
    "import pandas as pd  \n",
    "from pandas import Series\n",
    "from matplotlib import pyplot"
   ]
  },
  {
   "cell_type": "code",
   "execution_count": 75,
   "metadata": {},
   "outputs": [
    {
     "name": "stdout",
     "output_type": "stream",
     "text": [
      "['created_at', 'favourite_count', 'retweet_count', 'hashtags', 'text', 'author_friends_count']\n"
     ]
    },
    {
     "data": {
      "text/plain": [
       "<matplotlib.axes._subplots.AxesSubplot at 0x7ff3fe0d34a8>"
      ]
     },
     "metadata": {},
     "output_type": "display_data"
    },
    {
     "data": {
      "text/plain": [
       "<matplotlib.axes._subplots.AxesSubplot at 0x7ff3fdf36cc0>"
      ]
     },
     "metadata": {},
     "output_type": "display_data"
    },
    {
     "data": {
      "image/png": "[encoded data removed]",
      "text/plain": [
       "<Figure size 432x288 with 1 Axes>"
      ]
     },
     "metadata": {
      "needs_background": "light"
     },
     "output_type": "display_data"
    },
    {
     "data": {
      "image/png": "[encoded data removed]",
      "text/plain": [
       "<Figure size 432x288 with 1 Axes>"
      ]
     },
     "metadata": {
      "needs_background": "light"
     },
     "output_type": "display_data"
    }
   ],
   "source": [
    "# TS comparsion schema\n",
    "\n",
    "# Columns pick:\n",
    "X = ['created_at', 'favourite_count', 'retweet_count', 'hashtags', 'text']\n",
    "Y = ['author_friends_count']\n",
    "columns = X + Y\n",
    "ydf_part = ydf.loc[:,columns]\n",
    "kdf_part = kdf.loc[:,columns]\n",
    "print(columns)\n",
    "\n",
    "# Feature engeneering example:\n",
    "for df in [ydf_part, kdf_part]:\n",
    "    df['text_length'] = df.text.str.len()\n",
    "    df['hashtags_nr'] = df.hashtags.str.split(' ').apply(len)\n",
    "    # Add features\n",
    "    # ...\n",
    "\n",
    "# Add more steps here\n",
    "# ...\n",
    "    \n",
    "# Columns general display example:\n",
    "for df in [ydf_part, kdf_part]:\n",
    "    display(df.loc[:,['created_at', 'hashtags_nr']].plot(x='created_at'))\n",
    "    \n",
    "# Columns rename:\n",
    "ydf_part.columns = list(['ydf_'+c for c in ydf_part.columns])\n",
    "kdf_part.columns = list(['kdf_'+c for c in kdf_part.columns])"
   ]
  },
  {
   "cell_type": "code",
   "execution_count": 77,
   "metadata": {},
   "outputs": [
    {
     "data": {
      "text/plain": [
       "<matplotlib.axes._subplots.AxesSubplot at 0x7ff3fe0ff2b0>"
      ]
     },
     "execution_count": 77,
     "metadata": {},
     "output_type": "execute_result"
    },
    {
     "data": {
      "image/png": "[encoded data removed]",
      "text/plain": [
       "<Figure size 432x288 with 1 Axes>"
      ]
     },
     "metadata": {
      "needs_background": "light"
     },
     "output_type": "display_data"
    }
   ],
   "source": [
    "used_columns = ['created_at', 'hashtags_nr'] \n",
    "kdf_used_columns = [ 'kdf_'+c for c in used_columns ]\n",
    "ydf_used_columns = [ 'ydf_'+c for c in used_columns ]\n",
    "\n",
    "ax = ydf_part.loc[:,ydf_used_columns].plot(x=ydf_used_columns[0])\n",
    "kdf_part.loc[:,kdf_used_columns].plot(ax=ax,x=kdf_used_columns[0])"
   ]
  },
  {
   "cell_type": "code",
   "execution_count": null,
   "metadata": {},
   "outputs": [],
   "source": [
    "# To be continued"
   ]
  },
  {
   "cell_type": "code",
   "execution_count": null,
   "metadata": {},
   "outputs": [],
   "source": []
  },
  {
   "cell_type": "code",
   "execution_count": null,
   "metadata": {},
   "outputs": [],
   "source": []
  },
  {
   "cell_type": "code",
   "execution_count": null,
   "metadata": {},
   "outputs": [],
   "source": [
    "# Well written macros found on web:"
   ]
  },
  {
   "cell_type": "code",
   "execution_count": 79,
   "metadata": {},
   "outputs": [
    {
     "data": {
      "image/png": "[encoded data removed]",
      "text/plain": [
       "<Figure size 432x288 with 1 Axes>"
      ]
     },
     "metadata": {
      "needs_background": "light"
     },
     "output_type": "display_data"
    }
   ],
   "source": [
    "# Gentle time series X axis display method:\n",
    "# Below code by bmu on stack: https://stackoverflow.com/questions/12945971/pandas-timeseries-plot-setting-x-axis-major-and-minor-ticks-and-labels\n",
    "\n",
    "import numpy as np\n",
    "import pandas as pd\n",
    "import matplotlib.pyplot as plt \n",
    "import matplotlib.dates as dates\n",
    "\n",
    "idx = pd.date_range('2011-05-01', '2011-07-01')\n",
    "s = pd.Series(np.random.randn(len(idx)), index=idx)\n",
    "\n",
    "fig, ax = plt.subplots()\n",
    "ax.plot_date(idx.to_pydatetime(), s, 'v-')\n",
    "ax.xaxis.set_minor_locator(dates.WeekdayLocator(byweekday=(1),\n",
    "                                                interval=1))\n",
    "ax.xaxis.set_minor_formatter(dates.DateFormatter('%d\\n%a'))\n",
    "ax.xaxis.grid(True, which=\"minor\")\n",
    "ax.yaxis.grid()\n",
    "ax.xaxis.set_major_locator(dates.MonthLocator())\n",
    "ax.xaxis.set_major_formatter(dates.DateFormatter('\\n\\n\\n%b\\n%Y'))\n",
    "plt.tight_layout()\n",
    "plt.show()"
   ]
  },
  {
   "cell_type": "code",
   "execution_count": null,
   "metadata": {},
   "outputs": [],
   "source": []
  },
  {
   "cell_type": "code",
   "execution_count": null,
   "metadata": {},
   "outputs": [],
   "source": []
  },
  {
   "cell_type": "code",
   "execution_count": null,
   "metadata": {},
   "outputs": [],
   "source": []
  },
  {
   "cell_type": "code",
   "execution_count": null,
   "metadata": {},
   "outputs": [],
   "source": []
  }
 ],
 "metadata": {
  "kernelspec": {
   "display_name": "Python 3",
   "language": "python",
   "name": "python3"
  },
  "language_info": {
   "codemirror_mode": {
    "name": "ipython",
    "version": 3
   },
   "file_extension": ".py",
   "mimetype": "text/x-python",
   "name": "python",
   "nbconvert_exporter": "python",
   "pygments_lexer": "ipython3",
   "version": "3.6.8"
  }
 },
 "nbformat": 4,
 "nbformat_minor": 2
}
