{
 "cells": [
  {
   "cell_type": "markdown",
   "metadata": {},
   "source": [
    "## ElasticNet"
   ]
  },
  {
   "cell_type": "markdown",
   "metadata": {},
   "source": [
    "#### TL;DR"
   ]
  },
  {
   "cell_type": "code",
   "execution_count": null,
   "metadata": {},
   "outputs": [],
   "source": [
    "from sklearn.linear_model import ElasticNet # Algorithm"
   ]
  },
  {
   "cell_type": "code",
   "execution_count": null,
   "metadata": {},
   "outputs": [],
   "source": [
    "ALG = ElasticNet( \n",
    "                  alpha=1.0, \n",
    "                  l1_ratio=0.5, \n",
    "                  fit_intercept=True, \n",
    "                  normalize=False, \n",
    "                  precompute=False, \n",
    "                  max_iter=1000, \n",
    "                  copy_X=True, \n",
    "                  tol=0.0001, \n",
    "                  warm_start=False, \n",
    "                  positive=False, \n",
    "                  random_state=None, \n",
    "                  selection='cyclic',\n",
    "                 )\n",
    "ALG"
   ]
  },
  {
   "cell_type": "markdown",
   "metadata": {},
   "source": [
    "### 1. Example with code"
   ]
  },
  {
   "cell_type": "code",
   "execution_count": null,
   "metadata": {},
   "outputs": [],
   "source": [
    "# Load cleaned and preprocessed CSV file as a dataframe.\n",
    "# ------------------------------------------------------\n",
    "import os # Files\n",
    "import pandas as pd # Tables\n",
    "import matplotlib.pyplot as plt # Plots\n",
    "from sklearn.model_selection import train_test_split # ML\n",
    "\n",
    "fp = os.path.join('', 'tweets_sentiment.csv')    # Open file\n",
    "df = pd.read_csv(fp, sep='\\t', encoding='utf-8') # Load as dataframe"
   ]
  },
  {
   "cell_type": "markdown",
   "metadata": {},
   "source": [
    "<b>Example problem</b>: Predict tweet sentiment basing on it's  nr of hashtags, retweet and like counts. \n",
    "\n",
    "<b>Example data</b>: consists of 3800 tweets obtained by twitter search API on phrases like psychology + AI (and simillar) saved and cleaned previously as a tweets_sentiment.csv file. Features:"
   ]
  },
  {
   "cell_type": "code",
   "execution_count": null,
   "metadata": {},
   "outputs": [],
   "source": [
    "df.head(3)"
   ]
  },
  {
   "cell_type": "markdown",
   "metadata": {},
   "source": [
    "- <b>tweet</b>           - tweet text.\n",
    "- <b>hashtags</b>        - #hashtags in a tweet.\n",
    "- <b>hashtags_number</b> - number of hashtags.\n",
    "- <b>likes</b>           - number of tweet likes \n",
    "- <b>retweets</b>        - number of times tweet have been shared.\n",
    "- <b>sentiment</b>       - score in range: -1.0 to 1.0 .\n",
    "- <b>sentiment_class</b> - score simplified to: Positive ( > 0) and Negative ( < 0)."
   ]
  },
  {
   "cell_type": "markdown",
   "metadata": {},
   "source": [
    "<b>Example code:</b>"
   ]
  },
  {
   "cell_type": "code",
   "execution_count": 22,
   "metadata": {},
   "outputs": [
    {
     "name": "stdout",
     "output_type": "stream",
     "text": [
      "R-squared - train: 0.02\n",
      "R-squared - test:  -0.0\n",
      "Coefficient: [1.52646524e-01 3.95738487e-05]\n",
      "Intercept:  0.8580138990307321\n",
      "First three predictions (of 950): [2.53712566 3.60577004 3.30035828] ...\n"
     ]
    },
    {
     "data": {
      "image/png": "[encoded data removed]",
      "text/plain": [
       "<Figure size 432x288 with 1 Axes>"
      ]
     },
     "metadata": {
      "needs_background": "light"
     },
     "output_type": "display_data"
    }
   ],
   "source": [
    "# ElasticNet\n",
    "\n",
    "# Divide data into features(X) and labels(y).\n",
    "X =  df.loc[ :, ['hashtags_number','retweets']] # features\n",
    "y =  df.loc[ :, 'likes'] # label, value to predict\n",
    "\n",
    "# Split both features(X) and labels(y) into training and testing datasets.\n",
    "X_train, X_test, y_train, y_test = train_test_split(X, y, random_state=0)\n",
    "\n",
    "# Load and define ElasticNet.\n",
    "ENET = ElasticNet( \n",
    "                  alpha=1.0, \n",
    "                  l1_ratio=0.5, \n",
    "                  fit_intercept=True, \n",
    "                  normalize=False, \n",
    "                  precompute=False, \n",
    "                  max_iter=1000, \n",
    "                  copy_X=True, \n",
    "                  tol=0.0001, \n",
    "                  warm_start=False, \n",
    "                  positive=False, \n",
    "                  random_state=None, \n",
    "                  selection='cyclic',\n",
    "                 )\n",
    "# Fit data into model.\n",
    "ENET.fit(X_train, y_train)\n",
    "\n",
    "# Results.\n",
    "coef = ENET.coef_\n",
    "intercept = ENET.intercept_\n",
    "r_squared_train = round(ENET.score(X_train, y_train), 2)\n",
    "r_squared_test  = round(ENET.score(X_test,  y_test), 2)\n",
    "predictions = ENET.predict(X_test) # an array.\n",
    "\n",
    "# Display results.\n",
    "print('R-squared - train: {}\\nR-squared - test:  {}\\nCoefficient: {}\\nIntercept:  {}\\nFirst three predictions (of {}): {} ...'.format(r_squared_train, r_squared_test, coef, intercept, len(predictions), predictions[:3]))\n",
    "plt.scatter(y_test, predictions)\n",
    "plt.show()"
   ]
  },
  {
   "cell_type": "markdown",
   "metadata": {},
   "source": [
    "### 2. Key info\n",
    "- \n",
    "- [ADD MORE],\n",
    "- (To be updated.)"
   ]
  },
  {
   "cell_type": "markdown",
   "metadata": {},
   "source": [
    "### 3. Quick use template"
   ]
  },
  {
   "cell_type": "code",
   "execution_count": null,
   "metadata": {},
   "outputs": [],
   "source": [
    "import os # Get file\n",
    "import pandas as pd # Read as pandas table; dataframe (df).\n",
    "from sklearn.model_selection import train_test_split # Train/Test set divide.\n",
    "from sklearn.linear_model import ElasticNet\n",
    "import matplotlib.pyplot as plt # Plots\n",
    "\n",
    "# You fill three lines below.\n",
    "# ---------------------------\n",
    "file_name   = 'your file_name.csv' # csv file in same dir  as this notebook.\n",
    "predit_what = 'column_name' # The label to predict.\n",
    "based_on    = ['column_name', 'column_name'] # The features to use in this quest.\n",
    "\n",
    "# Modify if you want to specify full file path / use existing dataframe. \n",
    "fp = os.path.join('', file_name) # fp = 'home/data/file_path.csv'\n",
    "df = pd.read_csv(fp, sep='\\t', encoding='utf-8') # df = my_df \n",
    "\n",
    "\n",
    "# ElasticNet\n",
    "\n",
    "# Divide data into features(X) and labels(y).\n",
    "X =  df.loc[ :, based_on]    # features\n",
    "y =  df.loc[ :, predit_what] # label\n",
    "\n",
    "# Split both features(X) and labels(y) into training and testing datasets.\n",
    "X_train, X_test, y_train, y_test = train_test_split(X, y, random_state=0)\n",
    "\n",
    "# Load and define ElasticNet.\n",
    "ENET = ElasticNet( \n",
    "                  alpha=1.0, \n",
    "                  l1_ratio=0.5, \n",
    "                  fit_intercept=True, \n",
    "                  normalize=False, \n",
    "                  precompute=False, \n",
    "                  max_iter=1000, \n",
    "                  copy_X=True, \n",
    "                  tol=0.0001, \n",
    "                  warm_start=False, \n",
    "                  positive=False, \n",
    "                  random_state=None, \n",
    "                  selection='cyclic',\n",
    "                 )\n",
    "\n",
    "# Fit data into model.\n",
    "ENET.fit(X_train, y_train)\n",
    "\n",
    "# Results.\n",
    "coef = ENET.coef_\n",
    "intercept = ENET.intercept_\n",
    "r_squared_train = round(ENET.score(X_train, y_train), 2)\n",
    "r_squared_test  = round(ENET.score(X_test,  y_test), 2)\n",
    "predictions = ENET.predict(X_test) # an array.\n",
    "\n",
    "# Display results.\n",
    "print('R-squared - train: {}\\nR-squared - test:  {}\\nCoefficient: {}\\nIntercept:  {}\\nFirst three predictions (of {}): {} ...'.format(r_squared_train, r_squared_test, coef, intercept, len(predictions), predictions[:3]))\n",
    "plt.scatter(y_test, predictions)\n",
    "plt.show()"
   ]
  },
  {
   "cell_type": "markdown",
   "metadata": {},
   "source": [
    "#### Concise"
   ]
  },
  {
   "cell_type": "code",
   "execution_count": null,
   "metadata": {},
   "outputs": [],
   "source": [
    "import os\n",
    "import pandas as pd\n",
    "from sklearn.model_selection import train_test_split\n",
    "from sklearn.linear_model import ElasticNet\n",
    "import matplotlib.pyplot as plt\n",
    "\n",
    "fp = os.path.join('', 'your file_name.csv')\n",
    "df = pd.read_csv(fp, sep='\\t', encoding='utf-8')\n",
    "\n",
    "X =  df.loc[ :, ['feature_column_name', 'feature_column_name']]\n",
    "y =  df.loc[ :, 'label_column_name']\n",
    "\n",
    "X_train, X_test, y_train, y_test = train_test_split(X, y, random_state=0)\n",
    "\n",
    "ENET = ElasticNet(alpha=0.1, l1_ratio=0.5).fit(X_train, y_train)\n",
    "\n",
    "coef = ENET.coef_\n",
    "intercept = ENET.intercept_\n",
    "r_squared_train = round(ENET.score(X_train, y_train), 2)\n",
    "r_squared_test  = round(ENET.score(X_test,  y_test), 2)\n",
    "predictions = ENET.predict(X_test) # an array.\n",
    "\n",
    "print('R-squared - train: {}\\nR-squared - test:  {}\\nCoefficient: {}\\nIntercept:  {}\\nFirst three predictions (of {}): {} ...'.format(r_squared_train, r_squared_test, coef, intercept, len(predictions), predictions[:3]))\n",
    "plt.scatter(y_test, predictions)\n",
    "plt.show()"
   ]
  },
  {
   "cell_type": "markdown",
   "metadata": {},
   "source": [
    "### 4. More\n",
    "\n",
    "To be updated."
   ]
  },
  {
   "cell_type": "markdown",
   "metadata": {},
   "source": [
    " "
   ]
  },
  {
   "cell_type": "markdown",
   "metadata": {},
   "source": [
    "By Luke, 13 II 2019."
   ]
  }
 ],
 "metadata": {
  "kernelspec": {
   "display_name": "Python 3",
   "language": "python",
   "name": "python3"
  },
  "language_info": {
   "codemirror_mode": {
    "name": "ipython",
    "version": 3
   },
   "file_extension": ".py",
   "mimetype": "text/x-python",
   "name": "python",
   "nbconvert_exporter": "python",
   "pygments_lexer": "ipython3",
   "version": "3.6.8"
  }
 },
 "nbformat": 4,
 "nbformat_minor": 2
}
