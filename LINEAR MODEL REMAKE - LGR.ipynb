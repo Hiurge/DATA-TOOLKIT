{
 "cells": [
  {
   "cell_type": "code",
   "execution_count": 97,
   "metadata": {
    "scrolled": true
   },
   "outputs": [
    {
     "data": {
      "text/plain": [
       "LogisticRegression(C=1.0, class_weight=None, dual=False, fit_intercept=True,\n",
       "          intercept_scaling=1, max_iter=100, multi_class='warn',\n",
       "          n_jobs=None, penalty='l2', random_state=None, solver='lbfgs',\n",
       "          tol=0.0001, verbose=0, warm_start=False)"
      ]
     },
     "execution_count": 97,
     "metadata": {},
     "output_type": "execute_result"
    }
   ],
   "source": [
    "LGR"
   ]
  },
  {
   "cell_type": "markdown",
   "metadata": {},
   "source": [
    "## Logistic Regression"
   ]
  },
  {
   "cell_type": "markdown",
   "metadata": {},
   "source": [
    "To run model on your problem and data use hashed template below."
   ]
  },
  {
   "cell_type": "code",
   "execution_count": 98,
   "metadata": {},
   "outputs": [],
   "source": [
    "import pandas as pd\n",
    "import os\n",
    "\n",
    "filepath  = os.path.join( '', 'tweets_sentiment.csv')\n",
    "dataframe = pd.read_csv( filepath, sep='\\t', encoding='utf-8')\n",
    "\n",
    "# filepath = os.path.join('inner_folder_name', 'your_file_name.csv')\n",
    "# dataframe = pd.read_csv(filepath, sep='\\t', encoding='utf-8')\n",
    "\n",
    "X = df.loc[ :, ['retweets', 'likes', 'hashtags_number']] # features used to predict label\n",
    "y = df.loc[ :, 'sentiment_class'] # label (to predict): a dataframe column(s)\n",
    "\n",
    "# X = df.loc[ :, ['feature_column_name', 'feature_column_name']] # df.iloc[:,:8]\n",
    "# y = df.loc[ :, 'label_column_name'] # df.iloc[:,8]"
   ]
  },
  {
   "cell_type": "markdown",
   "metadata": {},
   "source": [
    "<b>Example problem</b>: Predict tweet sentiment basing on it's  nr of hashtags, retweet and like counts. \n",
    "\n",
    "<b>Example data</b>: consists of 3800 tweets obtained by twitter search API on phrases like psychology + AI (and simillar) saved and cleaned previously as a tweets_sentiment.csv file. Features:"
   ]
  },
  {
   "cell_type": "code",
   "execution_count": 99,
   "metadata": {},
   "outputs": [
    {
     "data": {
      "text/html": [
       "<div>\n",
       "<style scoped>\n",
       "    .dataframe tbody tr th:only-of-type {\n",
       "        vertical-align: middle;\n",
       "    }\n",
       "\n",
       "    .dataframe tbody tr th {\n",
       "        vertical-align: top;\n",
       "    }\n",
       "\n",
       "    .dataframe thead th {\n",
       "        text-align: right;\n",
       "    }\n",
       "</style>\n",
       "<table border=\"1\" class=\"dataframe\">\n",
       "  <thead>\n",
       "    <tr style=\"text-align: right;\">\n",
       "      <th></th>\n",
       "      <th>tweet</th>\n",
       "      <th>hashtags</th>\n",
       "      <th>hashtags_number</th>\n",
       "      <th>likes</th>\n",
       "      <th>retweets</th>\n",
       "      <th>sentiment</th>\n",
       "      <th>sentiment_class</th>\n",
       "    </tr>\n",
       "  </thead>\n",
       "  <tbody>\n",
       "    <tr>\n",
       "      <th>0</th>\n",
       "      <td>vanguardsw rt chboursin ai achieve human like ...</td>\n",
       "      <td>human-like skills</td>\n",
       "      <td>2</td>\n",
       "      <td>0</td>\n",
       "      <td>7</td>\n",
       "      <td>0.22</td>\n",
       "      <td>Positive</td>\n",
       "    </tr>\n",
       "    <tr>\n",
       "      <th>1</th>\n",
       "      <td>windy interview really groundbreaking can t wr...</td>\n",
       "      <td>interview groundbreaking. head DeepState reali...</td>\n",
       "      <td>6</td>\n",
       "      <td>0</td>\n",
       "      <td>3</td>\n",
       "      <td>0.20</td>\n",
       "      <td>Positive</td>\n",
       "    </tr>\n",
       "  </tbody>\n",
       "</table>\n",
       "</div>"
      ],
      "text/plain": [
       "                                               tweet  \\\n",
       "0  vanguardsw rt chboursin ai achieve human like ...   \n",
       "1  windy interview really groundbreaking can t wr...   \n",
       "\n",
       "                                            hashtags  hashtags_number  likes  \\\n",
       "0                                  human-like skills                2      0   \n",
       "1  interview groundbreaking. head DeepState reali...                6      0   \n",
       "\n",
       "   retweets  sentiment sentiment_class  \n",
       "0         7       0.22        Positive  \n",
       "1         3       0.20        Positive  "
      ]
     },
     "execution_count": 99,
     "metadata": {},
     "output_type": "execute_result"
    }
   ],
   "source": [
    "df.head(n=2)"
   ]
  },
  {
   "cell_type": "markdown",
   "metadata": {},
   "source": [
    "#### TL;DR"
   ]
  },
  {
   "cell_type": "code",
   "execution_count": 100,
   "metadata": {},
   "outputs": [
    {
     "name": "stdout",
     "output_type": "stream",
     "text": [
      "\n",
      "Accuracy - train: 0.71 \n",
      "Accuracy - test: 0.72 \n",
      "First predictions of 950 : ['Positive' 'Positive' 'Positive'] \n",
      "First propabilities of 950 : [[0.21229205 0.78770795]\n",
      " [0.33569188 0.66430812]\n",
      " [0.27683206 0.72316794]] \n",
      "\n"
     ]
    }
   ],
   "source": [
    "from sklearn.model_selection import train_test_split\n",
    "from sklearn.linear_model import LogisticRegression\n",
    "\n",
    "X_train, X_test, y_train, y_test = train_test_split(X, y)\n",
    "\n",
    "LGR = LogisticRegression(penalty='l2', \n",
    "                         dual=False, \n",
    "                         tol=0.0001, \n",
    "                         C=1.0, \n",
    "                         fit_intercept=True, \n",
    "                         intercept_scaling=1, \n",
    "                         class_weight=None, \n",
    "                         random_state=None, \n",
    "                         solver='lbfgs', \n",
    "                         max_iter=100, \n",
    "                         multi_class='warn', \n",
    "                         verbose=0, \n",
    "                         warm_start=False, \n",
    "                         n_jobs=None,\n",
    "                        ).fit(X_train, y_train)\n",
    "\n",
    "accuracy_train = round(LGR.score(X_train, y_train), 2)\n",
    "accuracy_test  = round(LGR.score(X_test,  y_test), 2)\n",
    "predictions    = LGR.predict(X_test)\n",
    "probabilities  = LGR.predict_proba(X_test)\n",
    "\n",
    "print('\\nAccuracy - train:', accuracy_train, '\\n\\\n",
    "Accuracy - test:', accuracy_test, '\\n\\\n",
    "First predictions of', len(predictions),':', predictions[:3], '\\n\\\n",
    "First propabilities of',len(probabilities),':', probabilities[:3], '\\n')"
   ]
  },
  {
   "cell_type": "code",
   "execution_count": 110,
   "metadata": {},
   "outputs": [],
   "source": [
    "import matplotlib.pyplot as plt"
   ]
  },
  {
   "cell_type": "code",
   "execution_count": null,
   "metadata": {},
   "outputs": [],
   "source": []
  },
  {
   "cell_type": "code",
   "execution_count": null,
   "metadata": {},
   "outputs": [],
   "source": [
    "# Grid search\n",
    "from sklearn.grid_search import GridSearchCV\n",
    "params = {\"n_neighbors\": np.arange(1,3), \"metric\": [\"euclidean\", \"cityblock\"]}\n",
    "grid = GridSearchCV(estimator=knn, param_grid=params)\n",
    "grid.fit(X_train, y_train)\n",
    "print(grid.best_score_)\n",
    "print(grid.best_estimator_.n_neighbors)\n",
    "\n",
    "#### GS 2\n",
    "from sklearn.model_selection import GridSearchCV\n",
    "param_grid = [\n",
    " {'n_estimators': [3, 10, 30], 'max_features': [2, 4, 6, 8]},\n",
    " {'bootstrap': [False], 'n_estimators': [3, 10], 'max_features': [2, 3, 4]},\n",
    " ]\n",
    "forest_reg = RandomForestRegressor()\n",
    "grid_search = GridSearchCV(forest_reg, param_grid, cv=5,scoring='neg_mean_squared_error')\n",
    "grid_search.fit(housing_prepared, housing_labels)\n",
    "#And of course the evaluation scores are also available:\n",
    "cvres = grid_search.cv_results_\n",
    "for mean_score, params in zip(cvres[\"mean_test_score\"], cvres[\"params\"]):\n",
    "    print(np.sqrt(-mean_score), params)\n",
    "\n",
    "#### GS feature importance\n",
    "\n",
    "feature_importances = grid_search.best_estimator_.feature_importances_\n",
    "feature_importances"
   ]
  },
  {
   "cell_type": "code",
   "execution_count": null,
   "metadata": {},
   "outputs": [],
   "source": [
    "help(plt.bar)"
   ]
  },
  {
   "cell_type": "markdown",
   "metadata": {},
   "source": [
    "### 1. Example data"
   ]
  },
  {
   "cell_type": "markdown",
   "metadata": {},
   "source": [
    "- <b>tweet</b>           - tweet text.\n",
    "- <b>hashtags</b>        - #hashtags in a tweet.\n",
    "- <b>hashtags_number</b> - number of hashtags.\n",
    "- <b>likes</b>           - number of tweet likes \n",
    "- <b>retweets</b>        - number of times tweet have been shared.\n",
    "- <b>sentiment</b>       - score in range: -1.0 to 1.0 .\n",
    "- <b>sentiment_class</b> - score simplified to: Positive ( > 0) and Negative ( < 0)."
   ]
  },
  {
   "cell_type": "markdown",
   "metadata": {},
   "source": [
    "<b>Example code with more explanation:</b>"
   ]
  },
  {
   "cell_type": "markdown",
   "metadata": {},
   "source": [
    "### 2. Key info\n",
    "\n",
    "- [ADD MORE],\n",
    "- (To be updated.)"
   ]
  },
  {
   "cell_type": "markdown",
   "metadata": {},
   "source": [
    "### 3. Template"
   ]
  },
  {
   "cell_type": "code",
   "execution_count": null,
   "metadata": {},
   "outputs": [],
   "source": [
    "import os # Get file\n",
    "import pandas as pd # Read as pandas table; dataframe (df).\n",
    "from sklearn.model_selection import train_test_split # Train/Test set divide.\n",
    "from sklearn.linear_model import LogisticRegression # Algorithm\n",
    "import matplotlib.pyplot as plt # Plots\n",
    "\n",
    "# You fill three lines below.\n",
    "# ---------------------------\n",
    "file_name   = 'your file_name.csv' # csv file in same dir  as this notebook.\n",
    "predit_what = 'column_name' # The label to predict.\n",
    "based_on    = ['column_name', 'column_name'] # The features to use in this quest.\n",
    "\n",
    "# You may wany to change full file path / use existing dataframe. \n",
    "fp = os.path.join('', file_name) # fp = 'home/data/file_path.csv'\n",
    "df = pd.read_csv(fp, sep='\\t', encoding='utf-8') # df = my_df \n",
    "\n",
    "\n",
    "# Logistic Regression.\n",
    "\n",
    "# Divide data into features(X) and labels(y).\n",
    "X =  df.loc[ :, based_on]    # features\n",
    "y =  df.loc[ :, predit_what] # label\n",
    "\n",
    "# Split both features(X) and labels(y) into training and testing datasets.\n",
    "X_train, X_test, y_train, y_test = train_test_split(X, y, random_state=0)\n",
    "\n",
    "# Load and define Logistic Regression model.\n",
    "LGR = LogisticRegression(penalty='l2', \n",
    "                         dual=False, \n",
    "                         tol=0.0001, \n",
    "                         C=1.0, \n",
    "                         fit_intercept=True, \n",
    "                         intercept_scaling=1, \n",
    "                         class_weight=None, \n",
    "                         random_state=None, \n",
    "                         solver='warn', \n",
    "                         max_iter=100, \n",
    "                         multi_class='warn', \n",
    "                         verbose=0, \n",
    "                         warm_start=False, \n",
    "                         n_jobs=None)\n",
    "\n",
    "# Fit data into model.\n",
    "LGR.fit(X_train, y_train, sample_weight=None)\n",
    "\n",
    "# Results.\n",
    "accuracy_train = round(LGR.score(X_train, y_train), 2)\n",
    "accuracy_test  = round(LGR.score(X_test,  y_test), 2)\n",
    "predictions = LGR.predict(X_test)\n",
    "probabilities = LGR.predict_proba(X_test)\n",
    "\n",
    "# Display results.\n",
    "print('Accuracy - train: {}\\nAccuracy - test:  {}\\nFirst three predictions (of {}): {} ...\\nFirst three propabilities (of {}): {} ...'.format(accuracy_train, accuracy_test, len(predictions), predictions[:3], len(probabilities), probabilities[:3]))\n",
    "plt.scatter(y_test, predictions)\n",
    "plt.show()"
   ]
  },
  {
   "cell_type": "markdown",
   "metadata": {},
   "source": [
    "#### Concise"
   ]
  },
  {
   "cell_type": "markdown",
   "metadata": {},
   "source": [
    "### 4. More\n",
    "\n",
    "To be updated."
   ]
  },
  {
   "cell_type": "markdown",
   "metadata": {},
   "source": [
    " "
   ]
  },
  {
   "cell_type": "markdown",
   "metadata": {},
   "source": [
    "By Luke, 13 II 2019."
   ]
  }
 ],
 "metadata": {
  "kernelspec": {
   "display_name": "Python 3",
   "language": "python",
   "name": "python3"
  },
  "language_info": {
   "codemirror_mode": {
    "name": "ipython",
    "version": 3
   },
   "file_extension": ".py",
   "mimetype": "text/x-python",
   "name": "python",
   "nbconvert_exporter": "python",
   "pygments_lexer": "ipython3",
   "version": "3.6.8"
  }
 },
 "nbformat": 4,
 "nbformat_minor": 2
}
