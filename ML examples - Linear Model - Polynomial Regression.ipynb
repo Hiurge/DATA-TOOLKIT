{
 "cells": [
  {
   "cell_type": "markdown",
   "metadata": {},
   "source": [
    "## Polynomial Regression"
   ]
  },
  {
   "cell_type": "markdown",
   "metadata": {},
   "source": [
    "#### TL;DR"
   ]
  },
  {
   "cell_type": "code",
   "execution_count": null,
   "metadata": {},
   "outputs": [],
   "source": [
    "from sklearn.preprocessing import PolynomialFeatures # Feature transformation\n",
    "from sklearn.linear_model import LinearRegression # Algorithm"
   ]
  },
  {
   "cell_type": "code",
   "execution_count": null,
   "metadata": {},
   "outputs": [],
   "source": [
    "poly = PolynomialFeatures(degree=2, # The degree of the polynomial features. Default = 2.\n",
    "                          interaction_only=False, # If true, only interaction features are produced: features that are products of at most degree distinct input features (so not x[1] ** 2, x[0] * x[2] ** 3, etc.).\n",
    "                          include_bias=True) # If True (default), then include a bias column, the feature in which all polynomial powers are zero (i.e. a column of ones - acts as an intercept term in a linear model).\n",
    "\n",
    "ALG = LinearRegression(fit_intercept=True, # Intercept\n",
    "                       normalize=False, # Normalized regressors, substract the mean, divide by l2-norm.\n",
    "                       copy_X=True, # X will be copied; else, it may be overwritten.\n",
    "                       n_jobs=None) # Speedup for n_targets > 1 and sufficient large problems.\n",
    "poly, ALG"
   ]
  },
  {
   "cell_type": "markdown",
   "metadata": {},
   "source": [
    "### 1. Example with code"
   ]
  },
  {
   "cell_type": "code",
   "execution_count": null,
   "metadata": {},
   "outputs": [],
   "source": [
    "# Load cleaned and preprocessed CSV file as a dataframe.\n",
    "# ------------------------------------------------------\n",
    "import os # Files\n",
    "import pandas as pd # Tables\n",
    "import matplotlib.pyplot as plt # Plots\n",
    "from sklearn.model_selection import train_test_split # ML\n",
    "\n",
    "fp = os.path.join('', 'tweets_sentiment.csv')    # Open file\n",
    "df = pd.read_csv(fp, sep='\\t', encoding='utf-8') # Load as dataframe"
   ]
  },
  {
   "cell_type": "markdown",
   "metadata": {},
   "source": [
    "<b>Example problem</b>: Predict tweet sentiment basing on it's  nr of hashtags, retweet and like counts. \n",
    "\n",
    "<b>Example data</b>: consists of 3800 tweets obtained by twitter search API on phrases like psychology + AI (and simillar) saved and cleaned previously as a tweets_sentiment.csv file. Features:"
   ]
  },
  {
   "cell_type": "code",
   "execution_count": null,
   "metadata": {},
   "outputs": [],
   "source": [
    "df.head(3)"
   ]
  },
  {
   "cell_type": "markdown",
   "metadata": {},
   "source": [
    "- <b>tweet</b>           - tweet text.\n",
    "- <b>hashtags</b>        - #hashtags in a tweet.\n",
    "- <b>hashtags_number</b> - number of hashtags.\n",
    "- <b>likes</b>           - number of tweet likes \n",
    "- <b>retweets</b>        - number of times tweet have been shared.\n",
    "- <b>sentiment</b>       - score in range: -1.0 to 1.0 .\n",
    "- <b>sentiment_class</b> - score simplified to: Positive ( > 0) and Negative ( < 0)."
   ]
  },
  {
   "cell_type": "markdown",
   "metadata": {},
   "source": [
    "<b>Example code:</b>"
   ]
  },
  {
   "cell_type": "code",
   "execution_count": 15,
   "metadata": {},
   "outputs": [
    {
     "name": "stdout",
     "output_type": "stream",
     "text": [
      "R-squared - train: 0.02\n",
      "R-squared - test:  0.02\n",
      "Coefficient: [ 0.00000000e+00  7.89742429e-03  1.28263817e-05  9.35987640e-05\n",
      " -3.72831536e-05  1.93172017e-09]\n",
      "Intercept:  0.07547556952055542\n",
      "First three predictions (of 950): [0.17367269 0.24598041 0.22579564] ...\n"
     ]
    },
    {
     "data": {
      "image/png": "[encoded data removed]",
      "text/plain": [
       "<Figure size 432x288 with 1 Axes>"
      ]
     },
     "metadata": {
      "needs_background": "light"
     },
     "output_type": "display_data"
    }
   ],
   "source": [
    "# Polynomial Regression\n",
    "\n",
    "# Divide data into features(X) and labels(y).\n",
    "X =  df.loc[ :, ['hashtags_number','retweets']] # features\n",
    "y =  df.loc[ :, 'sentiment'] # label, value to predict\n",
    "\n",
    "# Transform features: Polynomial\n",
    "poly = PolynomialFeatures(degree=2, # The degree of the polynomial features. Default = 2.\n",
    "                          interaction_only=False, # If true, only interaction features are produced: features that are products of at most degree distinct input features (so not x[1] ** 2, x[0] * x[2] ** 3, etc.).\n",
    "                          include_bias=True) # If True (default), then include a bias column, the feature in which all polynomial powers are zero (i.e. a column of ones - acts as an intercept term in a linear model).\n",
    "\n",
    "# Split both features(X) and labels(y) into training and testing datasets.\n",
    "X_train, X_test, y_train, y_test = train_test_split(X_poly, y, random_state = 0)\n",
    "\n",
    "# Load and define Polynomial Regression.\n",
    "PLR = LinearRegression(fit_intercept=True, # Intercept\n",
    "                       normalize=False, # Normalized regressors, substract the mean, divide by l2-norm.\n",
    "                       copy_X=True, # X will be copied; else, it may be overwritten.\n",
    "                       n_jobs=None) # Speedup for n_targets > 1 and sufficient large problems.\n",
    "\n",
    "# Fit data into model.\n",
    "PLR.fit(X_train, y_train, sample_weight=None)\n",
    "\n",
    "# Results.\n",
    "coef = PLR.coef_\n",
    "intercept = PLR.intercept_\n",
    "r_squared_train = round(PLR.score(X_train, y_train), 2)\n",
    "r_squared_test  = round(PLR.score(X_test,  y_test), 2)\n",
    "predictions = PLR.predict(X_test) # an array.\n",
    "\n",
    "# Display results.\n",
    "print('R-squared - train: {}\\nR-squared - test:  {}\\nCoefficient: {}\\nIntercept:  {}\\nFirst three predictions (of {}): {} ...'.format(r_squared_train, r_squared_test, coef, intercept, len(predictions), predictions[:3]))\n",
    "plt.scatter(y_test, predictions)\n",
    "plt.show()"
   ]
  },
  {
   "cell_type": "markdown",
   "metadata": {},
   "source": [
    "### 2. Key info\n",
    "- Linear model\n",
    "- Find coefficients, most optimal weights and bias for input features.\n",
    "- Model decides on base of metric: MSE, MAE\n",
    "- Before: remove noise and very correlated variables\n",
    "- Well known and understood\n",
    "- Optimised (fg. GD) provides good performance on large number of features. Good for text data, as n-grams.\n",
    "- Fundament for many algorithms and building block of Multiple Linear Regression.\n",
    "- can use fg. gradient descent optimization (more efficent in case of many features) or linear algebra solution ordinary least squares.\n",
    "-  Regularisations: Ridge, Lasso (anti overfitting fg. by adding to loss function two sums: of modules weights and squares of weights).\n",
    "- [ADD MORE],\n",
    "- (To be updated.)"
   ]
  },
  {
   "cell_type": "markdown",
   "metadata": {},
   "source": [
    "### 3. Quick use template"
   ]
  },
  {
   "cell_type": "code",
   "execution_count": null,
   "metadata": {},
   "outputs": [],
   "source": [
    "import os # Get file\n",
    "import pandas as pd # Read as pandas table; dataframe (df).\n",
    "from sklearn.model_selection import train_test_split # Train/Test set divide.\n",
    "from sklearn.preprocessing import PolynomialFeatures # Feature transformation\n",
    "from sklearn.linear_model import LinearRegression # Algorithm\n",
    "import matplotlib.pyplot as plt # Plots\n",
    "\n",
    "# You fill three lines below.\n",
    "# ---------------------------\n",
    "file_name   = 'your file_name.csv' # csv file in same dir  as this notebook.\n",
    "predit_what = 'column_name' # The label to predict.\n",
    "based_on    = ['column_name', 'column_name'] # The features to use in this quest.\n",
    "\n",
    "# Modify if you want to specify full file path / use existing dataframe. \n",
    "fp = os.path.join('', file_name) # fp = 'home/data/file_path.csv'\n",
    "df = pd.read_csv(fp, sep='\\t', encoding='utf-8') # df = my_df \n",
    "\n",
    "\n",
    "# Polynomial Regression\n",
    "\n",
    "# Divide data into features(X) and labels(y).\n",
    "X =  df.loc[ :, based_on]    # features\n",
    "y =  df.loc[ :, predit_what] # label\n",
    "\n",
    "\n",
    "# Transform features: Polynomial\n",
    "poly = PolynomialFeatures(degree=2, # The degree of the polynomial features. Default = 2.\n",
    "                          interaction_only=False, # If true, only interaction features are produced: features that are products of at most degree distinct input features (so not x[1] ** 2, x[0] * x[2] ** 3, etc.).\n",
    "                          include_bias=True) # If True (default), then include a bias column, the feature in which all polynomial powers are zero (i.e. a column of ones - acts as an intercept term in a linear model).\n",
    "\n",
    "# Split both features(X) and labels(y) into training and testing datasets.\n",
    "X_train, X_test, y_train, y_test = train_test_split(X_poly, y, random_state = 0)\n",
    "\n",
    "# Load and define Polynomial Regression.\n",
    "PLR = LinearRegression(fit_intercept=True, # Intercept\n",
    "                       normalize=False, # Normalized regressors, substract the mean, divide by l2-norm.\n",
    "                       copy_X=True, # X will be copied; else, it may be overwritten.\n",
    "                       n_jobs=None) # Speedup for n_targets > 1 and sufficient large problems.\n",
    "\n",
    "# Fit data into model.\n",
    "PLR.fit(X_train, y_train, sample_weight=None)\n",
    "\n",
    "# Results.\n",
    "coef = PLR.coef_\n",
    "intercept = PLR.intercept_\n",
    "r_squared_train = round(PLR.score(X_train, y_train), 2)\n",
    "r_squared_test  = round(PLR.score(X_test,  y_test), 2)\n",
    "predictions = PLR.predict(X_test) # an array.\n",
    "\n",
    "# Display results.\n",
    "print('R-squared - train: {}\\nR-squared - test:  {}\\nCoefficient: {}\\nIntercept:  {}\\nFirst three predictions (of {}): {} ...'.format(r_squared_train, r_squared_test, coef, intercept, len(predictions), predictions[:3]))\n",
    "plt.scatter(y_test, predictions)\n",
    "plt.show()"
   ]
  },
  {
   "cell_type": "markdown",
   "metadata": {},
   "source": [
    "#### Nobody aint got time for comments?"
   ]
  },
  {
   "cell_type": "code",
   "execution_count": null,
   "metadata": {},
   "outputs": [],
   "source": [
    "import os\n",
    "import pandas as pd\n",
    "from sklearn.model_selection import train_test_split\n",
    "from sklearn.preprocessing import PolynomialFeatures\n",
    "from sklearn.linear_model import LinearRegression\n",
    "import matplotlib.pyplot as plt\n",
    "\n",
    "fp = os.path.join('', 'your file_name.csv')\n",
    "df = pd.read_csv(fp, sep='\\t', encoding='utf-8')\n",
    "\n",
    "X =  df.loc[ :, ['feature_column_name', 'feature_column_name']]\n",
    "y =  df.loc[ :, 'label_column_name']\n",
    "\n",
    "poly = PolynomialFeatures(degree=2)\n",
    "X_poly = poly.fit_transform(X)\n",
    "\n",
    "X_train, X_test, y_train, y_test = train_test_split(X_poly, y, random_state = 0)\n",
    "\n",
    "LR = LinearRegression(normalize=True).fit(X_train, y_train)\n",
    "\n",
    "coef = LR.coef_\n",
    "intercept = LR.intercept_\n",
    "r_squared_train = round(LR.score(X_train, y_train), 2)\n",
    "r_squared_test  = round(LR.score(X_test,  y_test), 2)\n",
    "predictions = LR.predict(X_test)\n",
    "\n",
    "print('R-squared - train: {}\\nR-squared - test:  {}\\nCoefficient: {}\\nIntercept:  {}\\nFirst three predictions (of {}): {} ...'.format(r_squared_train, r_squared_test, coef, intercept, len(predictions), predictions[:3]))\n",
    "plt.scatter(y_test, predictions)\n",
    "plt.show()"
   ]
  },
  {
   "cell_type": "markdown",
   "metadata": {},
   "source": [
    "### 4. More\n",
    "\n",
    "To be updated."
   ]
  },
  {
   "cell_type": "markdown",
   "metadata": {},
   "source": [
    " "
   ]
  },
  {
   "cell_type": "markdown",
   "metadata": {},
   "source": [
    "By Luke, 13 II 2019."
   ]
  }
 ],
 "metadata": {
  "kernelspec": {
   "display_name": "Python 3",
   "language": "python",
   "name": "python3"
  },
  "language_info": {
   "codemirror_mode": {
    "name": "ipython",
    "version": 3
   },
   "file_extension": ".py",
   "mimetype": "text/x-python",
   "name": "python",
   "nbconvert_exporter": "python",
   "pygments_lexer": "ipython3",
   "version": "3.6.8"
  }
 },
 "nbformat": 4,
 "nbformat_minor": 2
}
