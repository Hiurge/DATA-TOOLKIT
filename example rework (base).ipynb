{
 "cells": [
  {
   "cell_type": "code",
   "execution_count": 91,
   "metadata": {},
   "outputs": [],
   "source": []
  },
  {
   "cell_type": "code",
   "execution_count": 164,
   "metadata": {},
   "outputs": [
    {
     "name": "stdout",
     "output_type": "stream",
     "text": [
      "(3800, 28)\n"
     ]
    },
    {
     "data": {
      "text/html": [
       "<div>\n",
       "<style scoped>\n",
       "    .dataframe tbody tr th:only-of-type {\n",
       "        vertical-align: middle;\n",
       "    }\n",
       "\n",
       "    .dataframe tbody tr th {\n",
       "        vertical-align: top;\n",
       "    }\n",
       "\n",
       "    .dataframe thead th {\n",
       "        text-align: right;\n",
       "    }\n",
       "</style>\n",
       "<table border=\"1\" class=\"dataframe\">\n",
       "  <thead>\n",
       "    <tr style=\"text-align: right;\">\n",
       "      <th></th>\n",
       "      <th>tweet</th>\n",
       "      <th>hashtags</th>\n",
       "      <th>hashtags_number</th>\n",
       "      <th>likes</th>\n",
       "      <th>retweets</th>\n",
       "      <th>CC</th>\n",
       "      <th>CD</th>\n",
       "      <th>DT</th>\n",
       "      <th>FW</th>\n",
       "      <th>IN</th>\n",
       "      <th>...</th>\n",
       "      <th>RB</th>\n",
       "      <th>RBR</th>\n",
       "      <th>VB</th>\n",
       "      <th>VBD</th>\n",
       "      <th>VBG</th>\n",
       "      <th>VBN</th>\n",
       "      <th>VBP</th>\n",
       "      <th>VBZ</th>\n",
       "      <th>Positive</th>\n",
       "      <th>Sentiment</th>\n",
       "    </tr>\n",
       "  </thead>\n",
       "  <tbody>\n",
       "    <tr>\n",
       "      <th>0</th>\n",
       "      <td>vanguardsw rt chboursin ai achieve human like ...</td>\n",
       "      <td>human-like skills</td>\n",
       "      <td>2</td>\n",
       "      <td>0</td>\n",
       "      <td>7</td>\n",
       "      <td>0</td>\n",
       "      <td>0</td>\n",
       "      <td>0</td>\n",
       "      <td>0</td>\n",
       "      <td>1</td>\n",
       "      <td>...</td>\n",
       "      <td>0</td>\n",
       "      <td>0</td>\n",
       "      <td>0</td>\n",
       "      <td>0</td>\n",
       "      <td>0</td>\n",
       "      <td>0</td>\n",
       "      <td>3</td>\n",
       "      <td>0</td>\n",
       "      <td>1</td>\n",
       "      <td>0.22</td>\n",
       "    </tr>\n",
       "  </tbody>\n",
       "</table>\n",
       "<p>1 rows × 28 columns</p>\n",
       "</div>"
      ],
      "text/plain": [
       "                                               tweet           hashtags  \\\n",
       "0  vanguardsw rt chboursin ai achieve human like ...  human-like skills   \n",
       "\n",
       "   hashtags_number  likes  retweets  CC  CD  DT  FW  IN  ...  RB  RBR  VB  \\\n",
       "0                2      0         7   0   0   0   0   1  ...   0    0   0   \n",
       "\n",
       "   VBD  VBG  VBN  VBP  VBZ  Positive  Sentiment  \n",
       "0    0    0    0    3    0         1       0.22  \n",
       "\n",
       "[1 rows x 28 columns]"
      ]
     },
     "execution_count": 164,
     "metadata": {},
     "output_type": "execute_result"
    }
   ],
   "source": [
    "import pandas as pd\n",
    "import os\n",
    "\n",
    "df = pd.read_csv('sentiment_pos.csv', sep='\\t')\n",
    "\n",
    "print(df.shape)\n",
    "df.head(1)"
   ]
  },
  {
   "cell_type": "code",
   "execution_count": 239,
   "metadata": {},
   "outputs": [
    {
     "name": "stdout",
     "output_type": "stream",
     "text": [
      "Accuracy - train: 0.72\n",
      "Accuracy - test:  0.71\n",
      "First three predictions (of 950): [1 1 1] ...\n",
      "First three propabilities (of 950): [[0.16017203 0.83982797]\n",
      " [0.1299389  0.8700611 ]\n",
      " [0.09540499 0.90459501]] ...\n",
      "\n",
      "Confusion matrix:\n",
      "TP: 653   TN: 17\n",
      "FP: 264   FN: 16\n",
      "\n",
      "Classification report: \n",
      "\n",
      "               precision    recall  f1-score   support\n",
      "\n",
      "           0       0.52      0.06      0.11       281\n",
      "           1       0.71      0.98      0.82       669\n",
      "\n",
      "   micro avg       0.71      0.71      0.71       950\n",
      "   macro avg       0.61      0.52      0.47       950\n",
      "weighted avg       0.65      0.71      0.61       950\n",
      "\n"
     ]
    },
    {
     "name": "stderr",
     "output_type": "stream",
     "text": [
      "/home/luke/anaconda3/lib/python3.6/site-packages/sklearn/linear_model/logistic.py:758: ConvergenceWarning: lbfgs failed to converge. Increase the number of iterations.\n",
      "  \"of iterations.\", ConvergenceWarning)\n"
     ]
    }
   ],
   "source": [
    "from sklearn.linear_model import LogisticRegression\n",
    "from sklearn.model_selection import train_test_split\n",
    "from sklearn.metrics import classification_report\n",
    "from sklearn.metrics import confusion_matrix\n",
    "\n",
    "y =  df.loc[ :, 'Positive']\n",
    "X =  df.iloc[ :,2:26]\n",
    "\n",
    "X_train, X_test, y_train, y_test = train_test_split(X, y, random_state=0)\n",
    "\n",
    "LGR = LogisticRegression(penalty='l2', \n",
    "                         dual=False, \n",
    "                         tol=0.0001, \n",
    "                         C=1.0, \n",
    "                         fit_intercept=True, \n",
    "                         intercept_scaling=1, \n",
    "                         class_weight=None, \n",
    "                         random_state=None, \n",
    "                         solver='lbfgs', \n",
    "                         max_iter=100, \n",
    "                         multi_class='warn', \n",
    "                         verbose=0, \n",
    "                         warm_start=False, \n",
    "                         n_jobs=None)\n",
    "\n",
    "LGR.fit(X_train, y_train)\n",
    "\n",
    "accuracy_train = round(LGR.score(X_train, y_train), 2)\n",
    "accuracy_test  = round(LGR.score(X_test,  y_test), 2)\n",
    "predictions = LGR.predict(X_test)\n",
    "probabilities = LGR.predict_proba(X_test)\n",
    "\n",
    "print('Accuracy - train: {}\\\n",
    "\\nAccuracy - test:  {}\\\n",
    "\\nFirst three predictions (of {}): {} ...\\\n",
    "\\nFirst three propabilities (of {}): {} ...'\\\n",
    ".format(accuracy_train, accuracy_test, \n",
    "        len(predictions), predictions[:3], \n",
    "        len(probabilities), probabilities[:3]))\n",
    "\n",
    "tn, fp, fn, tp  = confusion_matrix(y_test, predictions).ravel()\n",
    "print('\\nConfusion matrix:\\nTP: {:<5} TN: {}\\nFP: {:<5} FN: {}'.format(tp, tn, fp, fn))\n",
    "print('\\nClassification report: \\n\\n', classification_report(y_test, predictions))\n",
    "\n",
    "# from sklearn.metrics import accuracy_score\n",
    "# from sklearn.metrics import recall_score\n",
    "# from sklearn.metrics import precision_score\n",
    "# from sklearn.metrics import f1_score\n",
    "\n",
    "# print('Accuracy - test:', round(accuracy_score(y_test, predictions), 4))\n",
    "# print('Recall:         ', round(recall_score(y_test, predictions), 4))\n",
    "# print('Precision:      ', round(precision_score(y_test, predictions), 4))\n",
    "# print('F1:             ', round(f1_score(y_test, predictions),4))"
   ]
  },
  {
   "cell_type": "code",
   "execution_count": null,
   "metadata": {},
   "outputs": [],
   "source": []
  },
  {
   "cell_type": "code",
   "execution_count": null,
   "metadata": {},
   "outputs": [],
   "source": []
  },
  {
   "cell_type": "code",
   "execution_count": null,
   "metadata": {},
   "outputs": [],
   "source": []
  },
  {
   "cell_type": "code",
   "execution_count": null,
   "metadata": {},
   "outputs": [],
   "source": []
  },
  {
   "cell_type": "code",
   "execution_count": null,
   "metadata": {},
   "outputs": [],
   "source": []
  }
 ],
 "metadata": {
  "kernelspec": {
   "display_name": "Python 3",
   "language": "python",
   "name": "python3"
  },
  "language_info": {
   "codemirror_mode": {
    "name": "ipython",
    "version": 3
   },
   "file_extension": ".py",
   "mimetype": "text/x-python",
   "name": "python",
   "nbconvert_exporter": "python",
   "pygments_lexer": "ipython3",
   "version": "3.6.8"
  }
 },
 "nbformat": 4,
 "nbformat_minor": 2
}
