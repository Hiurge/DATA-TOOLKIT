{
 "cells": [
  {
   "cell_type": "markdown",
   "metadata": {},
   "source": [
    "## Linear Regression"
   ]
  },
  {
   "cell_type": "markdown",
   "metadata": {},
   "source": [
    "#### TL;DR"
   ]
  },
  {
   "cell_type": "code",
   "execution_count": null,
   "metadata": {},
   "outputs": [],
   "source": [
    "from sklearn.linear_model import LinearRegression # Linear Regression algorithm\n",
    "LR = LR(normalize=True).fit(X_train, y_train)"
   ]
  },
  {
   "cell_type": "code",
   "execution_count": 24,
   "metadata": {},
   "outputs": [
    {
     "name": "stdout",
     "output_type": "stream",
     "text": [
      "R-squared - train: 0.02\n",
      "R-squared - test:  0.02\n",
      "Coefficient: [-2.78234501e-04  2.24811635e+00]\n",
      "Intercept:  3.885496423568955\n"
     ]
    },
    {
     "data": {
      "image/png": "[encoded data removed]",
      "text/plain": [
       "<Figure size 432x288 with 1 Axes>"
      ]
     },
     "metadata": {
      "needs_background": "light"
     },
     "output_type": "display_data"
    }
   ],
   "source": [
    "import os # File management\n",
    "import pandas as pd # Data tables\n",
    "import matplotlib.pyplot as plt # Plots\n",
    "import seaborn as sns           # Plots but nicer\n",
    "from sklearn.model_selection import train_test_split # SK learn - machine Learning library\n",
    "from sklearn.metrics import mean_squared_error # Metric\n",
    "from sklearn.linear_model import LinearRegression # Linear Regression algorithm\n",
    "\n",
    "# Load CSV file data (cleaned and preprocessed) as dataframe.\n",
    "fp = os.path.join('', 'tweets_sentiment.csv') # .join(folder, file)\n",
    "df = pd.read_csv(fp, sep='\\t', encoding='utf-8')\n",
    "\n",
    "y =  df.loc[ :, 'hashtags_number'] # Value to predict (NUMERIC)\n",
    "X =  df.loc[ :, ['retweets', 'sentiment']] #, 'likes', 'hashtags_number']] # features used to predict label\n",
    "\n",
    "X_train, X_test, y_train, y_test = train_test_split(X, y, random_state = 0)\n",
    "\n",
    "# Load and fit data to Linear Regression.\n",
    "LR = LinearRegression(normalize=True).fit(X_train, y_train)\n",
    "\n",
    "# Predicted R-squared metric.\n",
    "r_squared_train = round(LR.score(X_train, y_train), 2)\n",
    "r_squared_test  = round(LR.score(X_test,  y_test), 2)\n",
    "\n",
    "print('R-squared - train: {}\\nR-squared - test:  {}'.format(r_squared_train, r_squared_test))\n",
    "print('Coefficient: {}\\nIntercept:  {}'.format(LR.coef_, LR.intercept_))\n",
    "\n",
    "#Predictions as an array.\n",
    "predictions = LR.predict(X_test)\n",
    "\n",
    "# Ploted predictions in compare to values.\n",
    "plt.scatter(y_test, predictions)\n",
    "plt.show()"
   ]
  },
  {
   "cell_type": "markdown",
   "metadata": {},
   "source": [
    "#### Contents:\n",
    "1. Linear Regression description\n",
    "2. <b>Usage example</b>\n",
    "3. <b>Template</b>\n",
    "4. More\n",
    "\n",
    "#### Libraries used:"
   ]
  },
  {
   "cell_type": "code",
   "execution_count": 26,
   "metadata": {},
   "outputs": [],
   "source": [
    "import os # File management\n",
    "import pandas as pd # Data tables\n",
    "import matplotlib.pyplot as plt # Plots\n",
    "import seaborn as sns           # Plots but nicer\n",
    "from sklearn.model_selection import train_test_split # SK learn - machine Learning library\n",
    "from sklearn.metrics import mean_squared_error # Metric\n",
    "from sklearn.linear_model import LinearRegression # Linear Regression algorithm"
   ]
  },
  {
   "cell_type": "markdown",
   "metadata": {},
   "source": [
    "\n",
    "\n",
    "### Linear Regression"
   ]
  },
  {
   "cell_type": "markdown",
   "metadata": {},
   "source": [
    "#### 1.  Linear Regression algorithm description\n",
    "----\n",
    "\n",
    " Linear Regression is Machine learning algorithm that:\n",
    "- [ADD MORE],\n",
    "- (To be updated.)"
   ]
  },
  {
   "cell_type": "markdown",
   "metadata": {},
   "source": [
    "#### 2. Usage example\n",
    "-------\n",
    "\n",
    "\n",
    "#### Example problem\n",
    "\n",
    "Predict tweet sentiment (according to TextBlob model) basing on it's  nr of hashtags, retweet and like counts.\n",
    "\n",
    "\n",
    "#### Example data\n",
    "\n",
    "3800 tweets data of phrases containing psychology + AI phrases (and simillar) from a tweets_sentiment.csv file.\n",
    "\n",
    "Features:\n",
    "- <b>tweet</b>           - tweet text.\n",
    "- <b>hashtags</b>        - #hashtags in a tweet.\n",
    "- <b>hashtags_number</b> - number of hashtags.\n",
    "- <b>likes</b>           - number of tweet likes \n",
    "- <b>retweets</b>        - number of times tweet have been shared.\n",
    "- <b>sentiment</b>       - score in range: -1.0 to 1.0 .\n",
    "- <b>sentiment_class</b> - score simplified to: Positive ( > 0) and Negative ( < 0).\n",
    "\n",
    "Source: scrapping twitter search API."
   ]
  },
  {
   "cell_type": "code",
   "execution_count": 25,
   "metadata": {},
   "outputs": [
    {
     "name": "stdout",
     "output_type": "stream",
     "text": [
      "Samples (rows):       3800\n",
      "Features (columns):      7\n",
      "\n",
      "3 example samples (of 3800) starting from 127-th:\n"
     ]
    },
    {
     "data": {
      "text/html": [
       "<div>\n",
       "<style scoped>\n",
       "    .dataframe tbody tr th:only-of-type {\n",
       "        vertical-align: middle;\n",
       "    }\n",
       "\n",
       "    .dataframe tbody tr th {\n",
       "        vertical-align: top;\n",
       "    }\n",
       "\n",
       "    .dataframe thead th {\n",
       "        text-align: right;\n",
       "    }\n",
       "</style>\n",
       "<table border=\"1\" class=\"dataframe\">\n",
       "  <thead>\n",
       "    <tr style=\"text-align: right;\">\n",
       "      <th></th>\n",
       "      <th>tweet</th>\n",
       "      <th>hashtags</th>\n",
       "      <th>hashtags_number</th>\n",
       "      <th>likes</th>\n",
       "      <th>retweets</th>\n",
       "      <th>sentiment</th>\n",
       "      <th>sentiment_class</th>\n",
       "    </tr>\n",
       "  </thead>\n",
       "  <tbody>\n",
       "    <tr>\n",
       "      <th>127</th>\n",
       "      <td>machine ml rt richsimmondsza rt evankirstel wa...</td>\n",
       "      <td>AI human</td>\n",
       "      <td>2</td>\n",
       "      <td>0</td>\n",
       "      <td>6</td>\n",
       "      <td>-0.150000</td>\n",
       "      <td>Negative</td>\n",
       "    </tr>\n",
       "    <tr>\n",
       "      <th>128</th>\n",
       "      <td>human vs ai new job base the ability compassio...</td>\n",
       "      <td>Human AI- jobs compassionate, empathetic, emot...</td>\n",
       "      <td>16</td>\n",
       "      <td>0</td>\n",
       "      <td>3</td>\n",
       "      <td>-0.165909</td>\n",
       "      <td>Negative</td>\n",
       "    </tr>\n",
       "    <tr>\n",
       "      <th>129</th>\n",
       "      <td>cenotechs impressive ipfconline thank share we...</td>\n",
       "      <td>ArtificialIntelligence AI MachineLearning ML …</td>\n",
       "      <td>5</td>\n",
       "      <td>0</td>\n",
       "      <td>2</td>\n",
       "      <td>1.000000</td>\n",
       "      <td>Positive</td>\n",
       "    </tr>\n",
       "  </tbody>\n",
       "</table>\n",
       "</div>"
      ],
      "text/plain": [
       "                                                 tweet  \\\n",
       "127  machine ml rt richsimmondsza rt evankirstel wa...   \n",
       "128  human vs ai new job base the ability compassio...   \n",
       "129  cenotechs impressive ipfconline thank share we...   \n",
       "\n",
       "                                              hashtags  hashtags_number  \\\n",
       "127                                           AI human                2   \n",
       "128  Human AI- jobs compassionate, empathetic, emot...               16   \n",
       "129     ArtificialIntelligence AI MachineLearning ML …                5   \n",
       "\n",
       "     likes  retweets  sentiment sentiment_class  \n",
       "127      0         6  -0.150000        Negative  \n",
       "128      0         3  -0.165909        Negative  \n",
       "129      0         2   1.000000        Positive  "
      ]
     },
     "execution_count": 25,
     "metadata": {},
     "output_type": "execute_result"
    }
   ],
   "source": [
    "# Load data\n",
    "df = pd.read_csv('tweets_sentiment.csv', sep='\\t', encoding='utf-8')\n",
    "\n",
    "# Inspect data - YOU CAN PLAY WITH THIS\n",
    "show_rows = 3\n",
    "show_row_first = 127\n",
    "show_row_last = show_row_first + show_rows\n",
    "\n",
    "# # Plot data used.\n",
    "# plt.scatter(y, X.iloc[:,0])\n",
    "# plt.show()\n",
    "\n",
    "# Display\n",
    "print('Samples (rows): {:10}\\nFeatures (columns): {:6}\\n'.format(df.shape[0],df.shape[1]))\n",
    "print('{} example samples (of {}) starting from {}-th:'.format(show_rows, len(df), show_row_first))\n",
    "df.iloc[show_row_first : show_row_last,:].head(15)"
   ]
  },
  {
   "cell_type": "markdown",
   "metadata": {},
   "source": [
    "#### Usage example (concise)"
   ]
  },
  {
   "cell_type": "code",
   "execution_count": 27,
   "metadata": {},
   "outputs": [
    {
     "name": "stdout",
     "output_type": "stream",
     "text": [
      "R-squared - train: 0.02\n",
      "R-squared - test:  0.02\n",
      "Coefficient: [-2.78234501e-04  2.24811635e+00]\n",
      "Intercept:  3.885496423568955\n"
     ]
    },
    {
     "data": {
      "image/png": "[encoded data removed]",
      "text/plain": [
       "<Figure size 432x288 with 1 Axes>"
      ]
     },
     "metadata": {
      "needs_background": "light"
     },
     "output_type": "display_data"
    }
   ],
   "source": [
    "import os # File management \n",
    "import pandas as pd # Data tables\n",
    "import matplotlib.pyplot as plt # Plot\n",
    "import seaborn as sns # Plot\n",
    "from sklearn.model_selection import train_test_split # Splitting data\n",
    "from sklearn.metrics import mean_squared_error # Metric\n",
    "from sklearn.linear_model import LinearRegression # Linear Regression algorithm\n",
    "\n",
    "# Load CSV file data (cleaned and preprocessed) as dataframe.\n",
    "fp = os.path.join('', 'tweets_sentiment.csv') # .join(folder, file)\n",
    "df = pd.read_csv(fp, sep='\\t', encoding='utf-8')\n",
    "\n",
    "# Prepare data.\n",
    "y =  df.loc[ :, 'hashtags_number'] # Value to predict (NUMERIC)\n",
    "X =  df.loc[ :, ['retweets', 'sentiment']] #, 'likes', 'hashtags_number']] # features used to predict label\n",
    "X_train, X_test, y_train, y_test = train_test_split(X, y, random_state = 0)\n",
    "\n",
    "# Load and fit data to Linear Regression.\n",
    "LR = LinearRegression(normalize=True).fit(X_train, y_train)\n",
    "\n",
    "# Predicted R-squared metric.\n",
    "r_squared_train = round(LR.score(X_train, y_train), 2)\n",
    "r_squared_test  = round(LR.score(X_test,  y_test), 2)\n",
    "\n",
    "print('R-squared - train: {}\\nR-squared - test:  {}'.format(r_squared_train, r_squared_test))\n",
    "print('Coefficient: {}\\nIntercept:  {}'.format(LR.coef_, LR.intercept_))\n",
    "\n",
    "# Predictions as an array.\n",
    "predictions = LR.predict(X_test)\n",
    "\n",
    "# Ploted predictions in compare to values.\n",
    "plt.scatter(y_test, predictions)\n",
    "plt.show()"
   ]
  },
  {
   "cell_type": "markdown",
   "metadata": {},
   "source": [
    "#### Usage example (explained)"
   ]
  },
  {
   "cell_type": "code",
   "execution_count": 28,
   "metadata": {},
   "outputs": [
    {
     "name": "stdout",
     "output_type": "stream",
     "text": [
      "R-squared - train: 0.02\n",
      "R-squared - test:  0.02\n",
      "Coefficient: [-2.78234501e-04  2.24811635e+00]\n",
      "Intercept:  3.885496423568955\n"
     ]
    },
    {
     "data": {
      "image/png": "[encoded data removed]",
      "text/plain": [
       "<Figure size 432x288 with 1 Axes>"
      ]
     },
     "metadata": {
      "needs_background": "light"
     },
     "output_type": "display_data"
    }
   ],
   "source": [
    "# Specify data location.\n",
    "DIR  = ''\n",
    "file_name = 'tweets_sentiment.csv'\n",
    "\n",
    "# Join folder and file name as a file path.\n",
    "file_path  = os.path.join(DIR, file_name)\n",
    "\n",
    "# Load CSV file data (cleaned and preprocessed) as dataframe.\n",
    "df = pd.read_csv(file_path, sep='\\t', encoding='utf-8')\n",
    "\n",
    "# Prepare data 1: Split data into features and labels.\n",
    "features = ['retweets', 'sentiment']\n",
    "label    = 'hashtags_number' # Value to predict (NUMERIC)\n",
    "\n",
    "X =  df.loc[ :, features]\n",
    "y =  df.loc[ :, label]\n",
    "\n",
    "\n",
    "# Prepare data 2: Split data into features and labels.\n",
    "X_train, X_test, y_train, y_test = train_test_split( \n",
    "                                                     X,                # Selected features data\n",
    "                                                     y,                # Selected label data\n",
    "                                                     random_state = 0  # \n",
    "                                                    )\n",
    "\n",
    "# Load algorithm - Linear Regression.  \n",
    "LR = LinearRegression(normalize=True)\n",
    "\n",
    "# Fit data into Linear Regression.\n",
    "LR = LR.fit( \n",
    "                       X_train,    # Features; columns your model use to set weights.\n",
    "                       y_train,    # Column with values you want to predict. \n",
    "                      )\n",
    "\n",
    "# Predicted R-squared metric.\n",
    "r_squared_train = round(LR.score(X_train, y_train), 2)\n",
    "r_squared_test  = round(LR.score(X_test,  y_test), 2)\n",
    "\n",
    "print('R-squared - train: {}\\nR-squared - test:  {}'.format(r_squared_train, r_squared_test))\n",
    "print('Coefficient: {}\\nIntercept:  {}'.format(LR.coef_, LR.intercept_))\n",
    "\n",
    "#Predictions as an array.\n",
    "predictions = LR.predict(X_test)\n",
    "\n",
    "# Ploted predictions in compare to values.\n",
    "plt.scatter(y_test, predictions)\n",
    "plt.show()"
   ]
  },
  {
   "cell_type": "markdown",
   "metadata": {},
   "source": [
    "#### 3. Template"
   ]
  },
  {
   "cell_type": "markdown",
   "metadata": {},
   "source": [
    "#### Template (concise)"
   ]
  },
  {
   "cell_type": "code",
   "execution_count": null,
   "metadata": {},
   "outputs": [],
   "source": [
    "import os # File management\n",
    "import pandas as pd # Data tables\n",
    "import matplotlib.pyplot as plt # Plots\n",
    "import seaborn as sns           # Plots but nicer\n",
    "from sklearn.model_selection import train_test_split # SK learn - machine Learning library\n",
    "from sklearn.metrics import mean_squared_error # Metric\n",
    "from sklearn.linear_model import LinearRegression # Linear Regression algorithm\n",
    "\n",
    "# YOU SET THIS:\n",
    "fp = os.path.join('', 'your file_name.csv') # DIR + file_name\n",
    "label = 'column_name' # You want to predict this column (NUMERIC!) value...\n",
    "features    = ['column_name', 'column_name'] # ...basing on those columns data.\n",
    "\n",
    "# Load and prepare data.\n",
    "df = pd.read_csv(fp, sep='\\t', encoding='utf-8')\n",
    "X =  df.loc[ :, features]\n",
    "y =  df.loc[ :, label]\n",
    "X_train, X_test, y_train, y_test = train_test_split(X, y, random_state = 0)\n",
    "\n",
    "# Load and fit data to Linear Regression algorithm.\n",
    "LR = LinearRegression(normalize=True).fit(X_train, y_train)\n",
    "\n",
    "# Predicted R-squared metric.\n",
    "r_squared_train = round(LR.score(X_train, y_train), 2)\n",
    "r_squared_test  = round(LR.score(X_test,  y_test), 2)\n",
    "\n",
    "print('R-squared - train: {}\\nR-squared - test:  {}'.format(r_squared_train, r_squared_test))\n",
    "print('Coefficient: {}\\nIntercept:  {}'.format(LR.coef_, LR.intercept_))\n",
    "\n",
    "#Predictions as an array.\n",
    "predictions = LR.predict(X_test)\n",
    "\n",
    "# Ploted predictions in compare to values.\n",
    "plt.scatter(y_test, predictions)\n",
    "plt.show()"
   ]
  },
  {
   "cell_type": "markdown",
   "metadata": {},
   "source": [
    "#### Template (explained)"
   ]
  },
  {
   "cell_type": "code",
   "execution_count": null,
   "metadata": {},
   "outputs": [],
   "source": [
    "import os # File management\n",
    "import pandas as pd # Data tables\n",
    "import matplotlib.pyplot as plt # Plots\n",
    "import seaborn as sns           # Plots but nicer\n",
    "from sklearn.model_selection import train_test_split # SK learn - machine Learning library\n",
    "from sklearn.metrics import mean_squared_error # Metric\n",
    "from sklearn.linear_model import LinearRegression # Linear Regression algorithm\n",
    "\n",
    "# YOU FILI THIS:\n",
    "# -------------------\n",
    "\n",
    "# File with data:\n",
    "file_name = ''      # Name of a file with data. Fg. 'tweets_sentiment.csv'\n",
    "DIR  = ''           # File directory OR '' if file is in program directory.\n",
    "\n",
    "# Data pick:\n",
    "predit_what = ''    # What to predict (NUMERIC! values) (column)  ? Fg. 'column_name'\n",
    "based_on    = []    # Basing on what  (columns) ? Features, fg. ['column_name', 'column_name'] \n",
    "\n",
    "\n",
    "# Load and prepare data (cleaned and preprocessed).\n",
    "# -------------------------------------------------\n",
    "\n",
    "# Load CSV file.\n",
    "file_path  = os.path.join(DIR, file_name) \n",
    "\n",
    "# Load CSV file as a dataframe.\n",
    "df = pd.read_csv(file_path, sep='\\t', encoding='utf-8')\n",
    "\n",
    "# Split data into features and labels.\n",
    "X =  df.loc[ :, features] # Selected features data\n",
    "y =  df.loc[ :, label]    # Selected label data\n",
    "\n",
    "# Split data into train and test set.\n",
    "X_train, X_test, y_train, y_test = train_test_split(X,                # Selected features data\n",
    "                                                    y,                # Selected label data\n",
    "                                                    random_state = 0) # \n",
    "\n",
    "# Load algorithm - Linear Regression.\n",
    "LR = LinearRegression(\n",
    "                       normalize=True,  #\n",
    "                      )\n",
    "\n",
    "# Fit the data into Linear Regression.\n",
    "LR = LR.fit(X_train, y_train)\n",
    "\n",
    "# Predicted R-squared metric.\n",
    "r_squared_train = round(LR.score(X_train, y_train), 2)\n",
    "r_squared_test  = round(LR.score(X_test,  y_test), 2)\n",
    "\n",
    "print('R-squared - train: {}\\nR-squared - test:  {}'.format(r_squared_train, r_squared_test))\n",
    "print('Coefficient: {}\\nIntercept:  {}'.format(LR.coef_, LR.intercept_))\n",
    "\n",
    "#Predictions as an array.\n",
    "predictions = LR.predict(X_test)\n",
    "\n",
    "# Ploted predictions in compare to values.\n",
    "plt.scatter(y_test, predictions)\n",
    "plt.show()"
   ]
  },
  {
   "cell_type": "markdown",
   "metadata": {},
   "source": [
    "#### 4. More\n",
    "\n",
    "To be updated."
   ]
  },
  {
   "cell_type": "markdown",
   "metadata": {},
   "source": [
    " "
   ]
  },
  {
   "cell_type": "markdown",
   "metadata": {},
   "source": [
    "By Luke, 10 II 2019."
   ]
  }
 ],
 "metadata": {
  "kernelspec": {
   "display_name": "Python 3",
   "language": "python",
   "name": "python3"
  },
  "language_info": {
   "codemirror_mode": {
    "name": "ipython",
    "version": 3
   },
   "file_extension": ".py",
   "mimetype": "text/x-python",
   "name": "python",
   "nbconvert_exporter": "python",
   "pygments_lexer": "ipython3",
   "version": "3.7.0"
  }
 },
 "nbformat": 4,
 "nbformat_minor": 2
}
